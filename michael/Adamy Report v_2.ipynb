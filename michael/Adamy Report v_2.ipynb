{
 "cells": [
  {
   "cell_type": "markdown",
   "metadata": {},
   "source": [
    "# Adamy Valuation - Michigan Data Science Team\n",
    "### Michael Xinyu Tim Sid Derek Manny\n",
    "                                                                                                        5/06/2017"
   ]
  },
  {
   "cell_type": "markdown",
   "metadata": {},
   "source": [
    "**Purpose:** This notebook describes the data processing pipeline we have built and instructions on how to interpret the results.  \n",
    "  \n",
    "**Conclusion:** Ebitda/interest_exp is the best predictor of ev/ebidta. It seems that the higher the ebitda/interest_exp the lower our prediction for ev/ebitda. Other important features are ebitda_margin and ebitda.  \n",
    "  \n",
    "**Notes:** It was hard to precisely quantify the degree to which these variables actually impacted ev/ebitda because of the limitations of linear regression. We have provided several lists of features that our models found to be important. It would be interesting to compare and contrast these lists with the existing literature. "
   ]
  },
  {
   "cell_type": "markdown",
   "metadata": {},
   "source": [
    "## Load Libraries"
   ]
  },
  {
   "cell_type": "code",
   "execution_count": 123,
   "metadata": {
    "collapsed": true
   },
   "outputs": [],
   "source": [
    "%matplotlib inline\n",
    "import matplotlib.pyplot as plt\n",
    "import seaborn as sns\n",
    "import pandas as pd\n",
    "import numpy as np\n",
    "from get_data import *\n",
    "\n",
    "%matplotlib inline\n",
    "import pandas as pd\n",
    "import numpy as np\n",
    "import matplotlib.pylab as plt\n",
    "import seaborn as sns\n",
    "import scipy.stats as stats\n",
    "import random\n",
    "from mpl_toolkits.mplot3d import Axes3D\n",
    "from get_data import *\n",
    "\n",
    "# SciKit Learn Modules\n",
    "from sklearn.preprocessing import scale\n",
    "from sklearn.linear_model import LinearRegression, Ridge, RidgeCV, Lasso, LassoCV\n",
    "from sklearn.model_selection import cross_val_score, train_test_split\n",
    "from sklearn import metrics\n",
    "from sklearn.ensemble import RandomForestRegressor"
   ]
  },
  {
   "cell_type": "markdown",
   "metadata": {},
   "source": [
    "## Load Data"
   ]
  },
  {
   "cell_type": "code",
   "execution_count": 124,
   "metadata": {
    "collapsed": false
   },
   "outputs": [],
   "source": [
    "np.random.seed(0)\n",
    "raw_data_frame = load_data_frames()\n",
    "sectors = ['consumerDiscrete', 'consumerStaples', 'industrials']"
   ]
  },
  {
   "cell_type": "markdown",
   "metadata": {},
   "source": [
    "Our exploratory data anlaysis led us to discover that our models would be more effective after transforming some of the columns. Specifically those columns that represent monetary values as well as a few others."
   ]
  },
  {
   "cell_type": "code",
   "execution_count": 125,
   "metadata": {
    "collapsed": false
   },
   "outputs": [
    {
     "name": "stdout",
     "output_type": "stream",
     "text": [
      "(0, 't_ev')\n",
      "(1, 't_rev')\n",
      "(2, 'ebitda')\n",
      "(3, 'ebitda_margin')\n",
      "(4, 't_ev/t_rev')\n",
      "(5, 't_ev/ebitda')\n",
      "(6, 'est_ann_rev_gr_1yr')\n",
      "(7, 'est_ann_ebitda_gr_1yr')\n",
      "(8, 't_rev_1yr_growth')\n",
      "(9, 'ebitda_1yr_growth')\n",
      "(10, 't_rev_3_yr_cagr')\n",
      "(11, 'ebitda_3yr_cagr')\n",
      "(12, 't_rev_5yr_cagr')\n",
      "(13, 'ebitda_5yr_cagr')\n",
      "(14, 'return_on_assets')\n",
      "(15, 'return_on_equity')\n",
      "(16, 'capex_as_percent_rev')\n",
      "(17, 'ebitda/interest_exp')\n",
      "(18, 't_debt/cap_percent')\n",
      "(19, 't_debt/equity_percent')\n"
     ]
    }
   ],
   "source": [
    "for i in range(len(raw_data_frame[0].columns)):\n",
    "    print(i, raw_data_frame[0].columns[i])"
   ]
  },
  {
   "cell_type": "code",
   "execution_count": 126,
   "metadata": {
    "collapsed": false
   },
   "outputs": [
    {
     "name": "stdout",
     "output_type": "stream",
     "text": [
      "['t_ev', 't_rev', 'ebitda', 't_ev/ebitda', 'capex_as_percent_rev', 'ebitda/interest_exp', 't_debt/cap_percent', 't_debt/equity_percent']\n"
     ]
    }
   ],
   "source": [
    "log_transform_columns =  [0, 1, 2, 5, 16, 17, 18, 19]\n",
    "log_transform_col_names = []\n",
    "for col in log_transform_columns:\n",
    "    log_transform_col_names.append(raw_data_frame[0].columns[col])\n",
    "print log_transform_col_names"
   ]
  },
  {
   "cell_type": "markdown",
   "metadata": {},
   "source": [
    "We need to actually modify the data for the columns we discovered.  \n",
    "**Note:** Because we do the following process in place it is important that the line is not run twice."
   ]
  },
  {
   "cell_type": "code",
   "execution_count": 127,
   "metadata": {
    "collapsed": false
   },
   "outputs": [],
   "source": [
    "# log-transform inplace\n",
    "for i in range(len(sectors)):\n",
    "    raw_data_frame[i][log_transform_col_names] = raw_data_frame[i][log_transform_col_names].apply(np.log10)\n",
    "    raw_data_frame[i].rename(columns = {\n",
    "        't_ev':'log_t_ev',\n",
    "        't_rev':'log_t_rev',\n",
    "        'ebitda':'log_ebitda',\n",
    "        't_ev/ebitda':'log_t_ev/ebitda',\n",
    "        'capex_as_percent_rev':'log_capex_as_percent_rev',\n",
    "        'ebitda/interest_exp':'log_ebitda/interest_exp',\n",
    "        't_debt/cap_percent':'log_t_debt/cap_percent',\n",
    "        't_debt/equity_percent':'log_t_debt/equity_percent'\n",
    "                                },inplace = True)    "
   ]
  },
  {
   "cell_type": "markdown",
   "metadata": {},
   "source": [
    "In order to handle missing data we fill in cells the with mean for the column"
   ]
  },
  {
   "cell_type": "code",
   "execution_count": 128,
   "metadata": {
    "collapsed": true
   },
   "outputs": [],
   "source": [
    "for i in range(len(sectors)):\n",
    "    raw_data_frame[i].fillna(raw_data_frame[i].mean(), inplace=True)"
   ]
  },
  {
   "cell_type": "markdown",
   "metadata": {
    "collapsed": true
   },
   "source": [
    "## Prepare the data for ML models\n",
    "\n",
    "- Target: 't_ev/ebitda'\n",
    "- Discard 't_ev'\n",
    "\n",
    "From pearson correlation heatmap, we see that target variable is not strongly linearly associated with other features. Therefore, the nonlinear methods, like tree-based methods, or SVM with nonlinear kernels will outperform. However, one thing to notice is that our final goal is not to predict the target value but rather to understand the complex relationship between ev/ebitda and other features. We shall try various methods  \n",
    "  \n",
    "We chose to discared the feature t_ev and t_ev/t_rev because we believe it will not be known for a private company"
   ]
  },
  {
   "cell_type": "code",
   "execution_count": 129,
   "metadata": {
    "collapsed": false
   },
   "outputs": [],
   "source": [
    "# drop 't_ev' columns\n",
    "for i in range(len(sectors)):\n",
    "    raw_data_frame[i].drop('log_t_ev', axis=1, inplace=True)\n",
    "    raw_data_frame[i].drop('t_ev/t_rev', axis=1, inplace=True)"
   ]
  },
  {
   "cell_type": "code",
   "execution_count": 130,
   "metadata": {
    "collapsed": false
   },
   "outputs": [
    {
     "name": "stdout",
     "output_type": "stream",
     "text": [
      "Let's look at consumerDiscrete\n"
     ]
    }
   ],
   "source": [
    "print(\"Let's look at \" + sectors[0])\n",
    "cur_df = raw_data_frame[0]"
   ]
  },
  {
   "cell_type": "code",
   "execution_count": 131,
   "metadata": {
    "collapsed": false
   },
   "outputs": [
    {
     "data": {
      "text/html": [
       "<div>\n",
       "<table border=\"1\" class=\"dataframe\">\n",
       "  <thead>\n",
       "    <tr style=\"text-align: right;\">\n",
       "      <th></th>\n",
       "      <th>log_t_rev</th>\n",
       "      <th>log_ebitda</th>\n",
       "      <th>ebitda_margin</th>\n",
       "      <th>est_ann_rev_gr_1yr</th>\n",
       "      <th>est_ann_ebitda_gr_1yr</th>\n",
       "      <th>t_rev_1yr_growth</th>\n",
       "      <th>ebitda_1yr_growth</th>\n",
       "      <th>t_rev_3_yr_cagr</th>\n",
       "      <th>ebitda_3yr_cagr</th>\n",
       "      <th>t_rev_5yr_cagr</th>\n",
       "      <th>ebitda_5yr_cagr</th>\n",
       "      <th>return_on_assets</th>\n",
       "      <th>return_on_equity</th>\n",
       "      <th>log_capex_as_percent_rev</th>\n",
       "      <th>log_ebitda/interest_exp</th>\n",
       "      <th>log_t_debt/cap_percent</th>\n",
       "      <th>log_t_debt/equity_percent</th>\n",
       "    </tr>\n",
       "  </thead>\n",
       "  <tbody>\n",
       "    <tr>\n",
       "      <th>0</th>\n",
       "      <td>3.075182</td>\n",
       "      <td>1.897077</td>\n",
       "      <td>6.64</td>\n",
       "      <td>4.540000</td>\n",
       "      <td>16.700000</td>\n",
       "      <td>2.06000</td>\n",
       "      <td>-0.852000</td>\n",
       "      <td>16.400000</td>\n",
       "      <td>19.400000</td>\n",
       "      <td>11.200000</td>\n",
       "      <td>18.700000</td>\n",
       "      <td>4.600000</td>\n",
       "      <td>9.900000</td>\n",
       "      <td>0.460898</td>\n",
       "      <td>1.103804</td>\n",
       "      <td>1.513218</td>\n",
       "      <td>1.685742</td>\n",
       "    </tr>\n",
       "    <tr>\n",
       "      <th>1</th>\n",
       "      <td>2.426511</td>\n",
       "      <td>0.772322</td>\n",
       "      <td>2.22</td>\n",
       "      <td>7.132813</td>\n",
       "      <td>17.742803</td>\n",
       "      <td>-1.93000</td>\n",
       "      <td>13.234825</td>\n",
       "      <td>-4.040000</td>\n",
       "      <td>-34.500000</td>\n",
       "      <td>-10.600000</td>\n",
       "      <td>-28.900000</td>\n",
       "      <td>-1.570000</td>\n",
       "      <td>-12.200000</td>\n",
       "      <td>0.444045</td>\n",
       "      <td>1.004171</td>\n",
       "      <td>1.561461</td>\n",
       "      <td>1.781483</td>\n",
       "    </tr>\n",
       "    <tr>\n",
       "      <th>2</th>\n",
       "      <td>3.509740</td>\n",
       "      <td>2.665393</td>\n",
       "      <td>14.30</td>\n",
       "      <td>1.480000</td>\n",
       "      <td>4.270000</td>\n",
       "      <td>4.08000</td>\n",
       "      <td>4.980000</td>\n",
       "      <td>13.000000</td>\n",
       "      <td>9.600000</td>\n",
       "      <td>10.300000</td>\n",
       "      <td>11.200000</td>\n",
       "      <td>9.930000</td>\n",
       "      <td>9.950000</td>\n",
       "      <td>0.278754</td>\n",
       "      <td>1.281033</td>\n",
       "      <td>1.489958</td>\n",
       "      <td>1.650308</td>\n",
       "    </tr>\n",
       "    <tr>\n",
       "      <th>3</th>\n",
       "      <td>3.531900</td>\n",
       "      <td>2.415808</td>\n",
       "      <td>7.65</td>\n",
       "      <td>-5.230000</td>\n",
       "      <td>-36.900000</td>\n",
       "      <td>-3.46000</td>\n",
       "      <td>-19.200000</td>\n",
       "      <td>-7.400000</td>\n",
       "      <td>-21.700000</td>\n",
       "      <td>-3.080000</td>\n",
       "      <td>-15.300000</td>\n",
       "      <td>1.560000</td>\n",
       "      <td>1.330000</td>\n",
       "      <td>0.609594</td>\n",
       "      <td>1.060698</td>\n",
       "      <td>1.311754</td>\n",
       "      <td>1.411620</td>\n",
       "    </tr>\n",
       "    <tr>\n",
       "      <th>4</th>\n",
       "      <td>3.191898</td>\n",
       "      <td>2.244277</td>\n",
       "      <td>11.30</td>\n",
       "      <td>7.132813</td>\n",
       "      <td>17.742803</td>\n",
       "      <td>331.70347</td>\n",
       "      <td>13.234825</td>\n",
       "      <td>12.670764</td>\n",
       "      <td>8.528391</td>\n",
       "      <td>8.063843</td>\n",
       "      <td>7.665472</td>\n",
       "      <td>6.344578</td>\n",
       "      <td>14.769923</td>\n",
       "      <td>0.187521</td>\n",
       "      <td>0.481443</td>\n",
       "      <td>1.857332</td>\n",
       "      <td>2.411114</td>\n",
       "    </tr>\n",
       "  </tbody>\n",
       "</table>\n",
       "</div>"
      ],
      "text/plain": [
       "   log_t_rev  log_ebitda  ebitda_margin  est_ann_rev_gr_1yr  \\\n",
       "0   3.075182    1.897077           6.64            4.540000   \n",
       "1   2.426511    0.772322           2.22            7.132813   \n",
       "2   3.509740    2.665393          14.30            1.480000   \n",
       "3   3.531900    2.415808           7.65           -5.230000   \n",
       "4   3.191898    2.244277          11.30            7.132813   \n",
       "\n",
       "   est_ann_ebitda_gr_1yr  t_rev_1yr_growth  ebitda_1yr_growth  \\\n",
       "0              16.700000           2.06000          -0.852000   \n",
       "1              17.742803          -1.93000          13.234825   \n",
       "2               4.270000           4.08000           4.980000   \n",
       "3             -36.900000          -3.46000         -19.200000   \n",
       "4              17.742803         331.70347          13.234825   \n",
       "\n",
       "   t_rev_3_yr_cagr  ebitda_3yr_cagr  t_rev_5yr_cagr  ebitda_5yr_cagr  \\\n",
       "0        16.400000        19.400000       11.200000        18.700000   \n",
       "1        -4.040000       -34.500000      -10.600000       -28.900000   \n",
       "2        13.000000         9.600000       10.300000        11.200000   \n",
       "3        -7.400000       -21.700000       -3.080000       -15.300000   \n",
       "4        12.670764         8.528391        8.063843         7.665472   \n",
       "\n",
       "   return_on_assets  return_on_equity  log_capex_as_percent_rev  \\\n",
       "0          4.600000          9.900000                  0.460898   \n",
       "1         -1.570000        -12.200000                  0.444045   \n",
       "2          9.930000          9.950000                  0.278754   \n",
       "3          1.560000          1.330000                  0.609594   \n",
       "4          6.344578         14.769923                  0.187521   \n",
       "\n",
       "   log_ebitda/interest_exp  log_t_debt/cap_percent  log_t_debt/equity_percent  \n",
       "0                 1.103804                1.513218                   1.685742  \n",
       "1                 1.004171                1.561461                   1.781483  \n",
       "2                 1.281033                1.489958                   1.650308  \n",
       "3                 1.060698                1.311754                   1.411620  \n",
       "4                 0.481443                1.857332                   2.411114  "
      ]
     },
     "execution_count": 131,
     "metadata": {},
     "output_type": "execute_result"
    }
   ],
   "source": [
    "y = cur_df['log_t_ev/ebitda']\n",
    "X = cur_df.drop('log_t_ev/ebitda', axis=1)\n",
    "X.head()"
   ]
  },
  {
   "cell_type": "markdown",
   "metadata": {},
   "source": [
    "It is common practice in Machine Learning to use inputs of mean = 0 and standard deviation = 1. This way the impact of the features can be compared head to head. The scale() function below does this transformation"
   ]
  },
  {
   "cell_type": "code",
   "execution_count": 132,
   "metadata": {
    "collapsed": true
   },
   "outputs": [],
   "source": [
    "from sklearn.preprocessing import scale\n",
    "X_scale = scale(X)"
   ]
  },
  {
   "cell_type": "markdown",
   "metadata": {},
   "source": [
    "Before we start doing any model selection it is important that we break our data up into a training and a test set. The training set will be used to select and train the models. The test set will come in at the end of the program and will be our way of testing a models accuracy on data that is has never seen.  \n",
    "The training set will consist of 75% of our data and the test set will have the remaining 25%. Each set has an \"X\" and \"y\" component. The y component is what we are trying to predict, t_ev/ebitda. The X component consists of all other variables in the data set (ebitda, ebitda_margin, est_ann_rev_gr_1yr, etc.) which we will be using to predict t_ev/ebitda."
   ]
  },
  {
   "cell_type": "code",
   "execution_count": 133,
   "metadata": {
    "collapsed": false
   },
   "outputs": [],
   "source": [
    "x_train, x_test, y_train, y_test = train_test_split(X_scale,y,train_size = 0.75)"
   ]
  },
  {
   "cell_type": "code",
   "execution_count": 134,
   "metadata": {
    "collapsed": false
   },
   "outputs": [],
   "source": [
    "from sklearn.model_selection import cross_val_score\n",
    "from sklearn.linear_model import LinearRegression\n",
    "from sklearn import metrics\n",
    "\n",
    "# ols_model = LinearRegression(normalize=True)\n",
    "# scores = cross_val_score(ols_model, X_scale, y, cv=5, scoring=\"neg_mean_squared_error\")"
   ]
  },
  {
   "cell_type": "markdown",
   "metadata": {},
   "source": [
    "We start by trying two variations of Linear Regression. These variations are very common and are known as Lasso Regression and Ridge Regression. The basic idea is that by imposing certain penalties onto normal linear regression we can find a better model. However, inorder to find the optimal impact of the penatly term (alpha) we must test a series of options and choose the one that performs best. This procedure for doing this is called cross validation, a very common machine learning technique for selecting penalty terms and other \"hyper parameters\". "
   ]
  },
  {
   "cell_type": "code",
   "execution_count": 135,
   "metadata": {
    "collapsed": false
   },
   "outputs": [
    {
     "name": "stdout",
     "output_type": "stream",
     "text": [
      "Average MSE (alpha = 0.010): 0.0679 (+/- 0.0102)\n"
     ]
    },
    {
     "data": {
      "image/png": "[encoded data removed]",
      "text/plain": [
       "<matplotlib.figure.Figure at 0x11521b9d0>"
      ]
     },
     "metadata": {},
     "output_type": "display_data"
    }
   ],
   "source": [
    "lasso_model = Lasso()\n",
    "alphas         = [ 1e-5, 1e-4, 1e-3, 5e-3, 1e-2, 5e-2, 1e-1, 1, 10, 100 ]\n",
    "lasso_mses     = []\n",
    "lasso_avg_mses = []\n",
    "lasso_std_mses = []\n",
    "\n",
    "for alpha in alphas:\n",
    "    lasso_model.alpha = alpha\n",
    "    scores = cross_val_score(lasso_model, x_train, y_train, scoring='neg_mean_squared_error', cv=5)\n",
    "    lasso_mses.append( scores*-1 )\n",
    "    lasso_avg_mses.append( -scores.mean() )\n",
    "    lasso_std_mses.append( scores.std() )\n",
    "\n",
    "# Plot Hyperparameter Selection\n",
    "plt.semilogx( alphas, lasso_avg_mses )\n",
    "plt.title('Lasso - MSE vs Alpha')\n",
    "plt.xlabel('Alpha')\n",
    "plt.ylabel('MSE')\n",
    "\n",
    "min_mse = min(lasso_avg_mses)\n",
    "min_mse_index = lasso_avg_mses.index(min(lasso_avg_mses))\n",
    "min_std_index = lasso_std_mses.index(min(lasso_std_mses))\n",
    "\n",
    "if min_mse_index == min_std_index:\n",
    "    best_index = min_mse_index\n",
    "else:\n",
    "    if abs(lasso_avg_mses[min_mse_index] - lasso_avg_mses[min_std_index]) < 0.01*lasso_avg_mses[min_mse_index]:\n",
    "        best_index = min_std_index    \n",
    "    else:\n",
    "        best_index = min_mse_index\n",
    "            \n",
    "    \n",
    "lasso_alpha = alphas[best_index]\n",
    "print(\"Average MSE (alpha = %0.3f): %0.4f (+/- %0.4f)\" % (alphas[best_index],lasso_avg_mses[best_index], lasso_std_mses[best_index]))"
   ]
  },
  {
   "cell_type": "markdown",
   "metadata": {},
   "source": [
    "The whole purpose of the above is to find the optimal alpha (the penalty). For each different alpha the model has a different performance. In the plot above we are measuring the mean squared error of the model for each alpha we tested. The lower the error the better the alpha. Alpha in this case was selected to be 0.010  \n",
    "  \n",
    "Now we are going to perform the same cross validation procedue to find the optimal alpha for Ridge Regression."
   ]
  },
  {
   "cell_type": "code",
   "execution_count": 136,
   "metadata": {
    "collapsed": false
   },
   "outputs": [
    {
     "name": "stdout",
     "output_type": "stream",
     "text": [
      "Average MSE (alpha = 100.000): 0.0654 (+/- 0.0142)\n"
     ]
    },
    {
     "data": {
      "image/png": "[encoded data removed]",
      "text/plain": [
       "<matplotlib.figure.Figure at 0x1179963d0>"
      ]
     },
     "metadata": {},
     "output_type": "display_data"
    }
   ],
   "source": [
    "ridge_model = Ridge()\n",
    "alphas         = [ 1e-5, 1e-4, 1e-3, 1e-2, 1e-1, 1, 10, 100,1000 ]\n",
    "ridge_mses     = []\n",
    "ridge_avg_mses = []\n",
    "ridge_std_mses = []\n",
    "\n",
    "for alpha in alphas:\n",
    "    ridge_model.alpha = alpha\n",
    "    scores = cross_val_score(ridge_model, X_scale, y, scoring='neg_mean_squared_error', cv=5)\n",
    "    ridge_mses.append( scores*-1 )\n",
    "    ridge_avg_mses.append( -scores.mean() )\n",
    "    ridge_std_mses.append( scores.std() )\n",
    "\n",
    "# Plot Hyperparameter Selection\n",
    "plt.semilogx( alphas, ridge_avg_mses )\n",
    "plt.title('Ridge - MSE vs Alpha')\n",
    "plt.xlabel('Alpha')\n",
    "plt.ylabel('MSE')\n",
    "\n",
    "\n",
    "\n",
    "min_mse = min(ridge_avg_mses)\n",
    "min_mse_index = ridge_avg_mses.index(min(ridge_avg_mses))\n",
    "min_std_index = ridge_std_mses.index(min(ridge_std_mses))\n",
    "\n",
    "if min_mse_index == min_std_index:\n",
    "    best_index = min_mse_index\n",
    "else:\n",
    "    if abs(lasso_avg_mses[min_mse_index] - lasso_avg_mses[min_std_index]) < 0.01*lasso_avg_mses[min_mse_index]:\n",
    "        best_index = min_std_index    \n",
    "    else:\n",
    "        best_index = min_mse_index\n",
    "\n",
    "ridge_alpha = alphas[best_index]        \n",
    "# print('MSEs (alpha = 1e-2):', lasso_mses[3]*-1)\n",
    "print(\"Average MSE (alpha = %0.3f): %0.4f (+/- %0.4f)\" % (alphas[best_index],ridge_avg_mses[best_index], ridge_std_mses[best_index]))"
   ]
  },
  {
   "cell_type": "markdown",
   "metadata": {},
   "source": [
    "For Ridge Regression we found the model performs best with an alpha = 100"
   ]
  },
  {
   "cell_type": "markdown",
   "metadata": {},
   "source": [
    "### Training the Models\n",
    "Now that we have determined what alpha level is best for both Lasso and Ridge regression we are ready to fit a model to our training data."
   ]
  },
  {
   "cell_type": "code",
   "execution_count": 137,
   "metadata": {
    "collapsed": true
   },
   "outputs": [],
   "source": [
    "lasso_model = Lasso(alpha = lasso_alpha)\n",
    "lasso_model.fit(x_train,y_train)\n",
    "lasso_betas = lasso_model.coef_\n",
    "lasso_pred = lasso_model.predict(x_test)"
   ]
  },
  {
   "cell_type": "code",
   "execution_count": 138,
   "metadata": {
    "collapsed": false
   },
   "outputs": [],
   "source": [
    "ridge_model = Ridge(alpha = ridge_alpha)\n",
    "ridge_model.fit(x_train,y_train)\n",
    "ridge_betas = ridge_model.coef_\n",
    "ridge_pred = ridge_model.predict(x_test)"
   ]
  },
  {
   "cell_type": "code",
   "execution_count": 139,
   "metadata": {
    "collapsed": false
   },
   "outputs": [
    {
     "name": "stdout",
     "output_type": "stream",
     "text": [
      "Lasso Mean Square Err: 0.0531800178845\n",
      "Ridge Mean Square Err: 0.0579797624261\n"
     ]
    }
   ],
   "source": [
    "lasso_mse = metrics.mean_squared_error(y_true = y_test, y_pred = lasso_pred)\n",
    "ridge_mse = metrics.mean_squared_error(y_true = y_test, y_pred = ridge_pred)\n",
    "print \"Lasso Mean Square Err:\",lasso_mse\n",
    "print \"Ridge Mean Square Err:\",ridge_mse"
   ]
  },
  {
   "cell_type": "markdown",
   "metadata": {},
   "source": [
    "Both model seem to do fairly well. We aren't too concerned with the predictions because the Comps approach to market valuation is much more sophisticated and accurate. However, we can take a look at which features our models found to be most important by looking at the \"beta\" variables we stored above. Beta's are the coefficents in a linear regression model. There is one Beta for every feature (ebitda, ebitda_margin, est_ann_rev_gr_1yr, etc.) that we used in our model. Looking at the absolute value and ranking them will tell us which features had the biggest impact on prediction. "
   ]
  },
  {
   "cell_type": "code",
   "execution_count": 140,
   "metadata": {
    "collapsed": false
   },
   "outputs": [
    {
     "name": "stdout",
     "output_type": "stream",
     "text": [
      "1 log_ebitda/interest_exp -0.053\n",
      "2 est_ann_rev_gr_1yr 0.0355\n",
      "3 t_rev_5yr_cagr 0.0337\n",
      "4 log_ebitda -0.0293\n",
      "5 ebitda_margin -0.0195\n"
     ]
    }
   ],
   "source": [
    "lasso_beta_pairs = []\n",
    "for i in range(len(lasso_betas)):\n",
    "    lasso_beta_pairs.append((i,lasso_betas[i])) \n",
    "sorted_lasso_betas = sorted(lasso_beta_pairs, key=lambda x: abs(x[1]), reverse = True) \n",
    "for i in range(5):\n",
    "    index = sorted_lasso_betas[i][0]\n",
    "    print i+1, X.columns[index], round(sorted_lasso_betas[i][1],4)"
   ]
  },
  {
   "cell_type": "markdown",
   "metadata": {},
   "source": [
    "Listed above are the top 5 most important features for predicting the log(t_ev/ebitda) according to lasso model. Because of all that preprocessing we did it is kind of hard to interpret what these numbers actually mean. The **important thing to notice** here is the **order in which the features are ranked and whether a feature is positive is negative.** According to lasso model log(ebitda/interest_exp) is the best predictor of t_ev/ebitda. The coefficent is also negative which means the larger our value of log(ebitda/interest_exp) the smaller our prediction for log(t_ev/ebitda) (I will explain the precise interpretation later). We also see that est_ann_rev_gr_1yr is the second best and t_rev_5yr_cargr is third and so on."
   ]
  },
  {
   "cell_type": "markdown",
   "metadata": {},
   "source": [
    "We repeat this process for the ridge model..."
   ]
  },
  {
   "cell_type": "code",
   "execution_count": 141,
   "metadata": {
    "collapsed": false
   },
   "outputs": [
    {
     "name": "stdout",
     "output_type": "stream",
     "text": [
      "1 log_ebitda/interest_exp -0.0477\n",
      "2 est_ann_rev_gr_1yr 0.0358\n",
      "3 t_rev_5yr_cagr 0.0347\n",
      "4 log_ebitda -0.0317\n",
      "5 ebitda_1yr_growth -0.0233\n"
     ]
    }
   ],
   "source": [
    "ridge_beta_pairs = []\n",
    "for i in range(len(ridge_betas)):\n",
    "    ridge_beta_pairs.append((i,ridge_betas[i])) \n",
    "sorted_ridge_betas = sorted(ridge_beta_pairs, key=lambda x: abs(x[1]), reverse = True) \n",
    "for i in range(5):\n",
    "    index = sorted_ridge_betas[i][0]\n",
    "    print i+1, X.columns[index], round(sorted_ridge_betas[i][1],4)"
   ]
  },
  {
   "cell_type": "markdown",
   "metadata": {},
   "source": [
    "According to our ridge regression model log(ebitda/interest_exp) is also our best predictor. Both lasso and ridge have similar features in their top 5 also the order was a bit different."
   ]
  },
  {
   "cell_type": "markdown",
   "metadata": {},
   "source": [
    "## Intrepretation"
   ]
  },
  {
   "cell_type": "markdown",
   "metadata": {},
   "source": [
    "Standardizing our inputs gave us the ability to determine which model performed the best and which features were the most important but it made things hard to interpret. Now that we know what features to look at we are going to run a standard linear regression and interpret the coefficients"
   ]
  },
  {
   "cell_type": "code",
   "execution_count": 142,
   "metadata": {
    "collapsed": false
   },
   "outputs": [
    {
     "data": {
      "text/html": [
       "<div>\n",
       "<table border=\"1\" class=\"dataframe\">\n",
       "  <thead>\n",
       "    <tr style=\"text-align: right;\">\n",
       "      <th></th>\n",
       "      <th>log_t_rev</th>\n",
       "      <th>log_ebitda</th>\n",
       "      <th>ebitda_margin</th>\n",
       "      <th>est_ann_rev_gr_1yr</th>\n",
       "      <th>est_ann_ebitda_gr_1yr</th>\n",
       "      <th>t_rev_1yr_growth</th>\n",
       "      <th>ebitda_1yr_growth</th>\n",
       "      <th>t_rev_3_yr_cagr</th>\n",
       "      <th>ebitda_3yr_cagr</th>\n",
       "      <th>t_rev_5yr_cagr</th>\n",
       "      <th>ebitda_5yr_cagr</th>\n",
       "      <th>return_on_assets</th>\n",
       "      <th>return_on_equity</th>\n",
       "      <th>log_capex_as_percent_rev</th>\n",
       "      <th>log_ebitda/interest_exp</th>\n",
       "      <th>log_t_debt/cap_percent</th>\n",
       "      <th>log_t_debt/equity_percent</th>\n",
       "    </tr>\n",
       "  </thead>\n",
       "  <tbody>\n",
       "    <tr>\n",
       "      <th>0</th>\n",
       "      <td>3.075182</td>\n",
       "      <td>1.897077</td>\n",
       "      <td>6.64</td>\n",
       "      <td>4.540000</td>\n",
       "      <td>16.700000</td>\n",
       "      <td>2.06000</td>\n",
       "      <td>-0.852000</td>\n",
       "      <td>16.400000</td>\n",
       "      <td>19.400000</td>\n",
       "      <td>11.200000</td>\n",
       "      <td>18.700000</td>\n",
       "      <td>4.600000</td>\n",
       "      <td>9.900000</td>\n",
       "      <td>0.460898</td>\n",
       "      <td>1.103804</td>\n",
       "      <td>1.513218</td>\n",
       "      <td>1.685742</td>\n",
       "    </tr>\n",
       "    <tr>\n",
       "      <th>1</th>\n",
       "      <td>2.426511</td>\n",
       "      <td>0.772322</td>\n",
       "      <td>2.22</td>\n",
       "      <td>7.132813</td>\n",
       "      <td>17.742803</td>\n",
       "      <td>-1.93000</td>\n",
       "      <td>13.234825</td>\n",
       "      <td>-4.040000</td>\n",
       "      <td>-34.500000</td>\n",
       "      <td>-10.600000</td>\n",
       "      <td>-28.900000</td>\n",
       "      <td>-1.570000</td>\n",
       "      <td>-12.200000</td>\n",
       "      <td>0.444045</td>\n",
       "      <td>1.004171</td>\n",
       "      <td>1.561461</td>\n",
       "      <td>1.781483</td>\n",
       "    </tr>\n",
       "    <tr>\n",
       "      <th>2</th>\n",
       "      <td>3.509740</td>\n",
       "      <td>2.665393</td>\n",
       "      <td>14.30</td>\n",
       "      <td>1.480000</td>\n",
       "      <td>4.270000</td>\n",
       "      <td>4.08000</td>\n",
       "      <td>4.980000</td>\n",
       "      <td>13.000000</td>\n",
       "      <td>9.600000</td>\n",
       "      <td>10.300000</td>\n",
       "      <td>11.200000</td>\n",
       "      <td>9.930000</td>\n",
       "      <td>9.950000</td>\n",
       "      <td>0.278754</td>\n",
       "      <td>1.281033</td>\n",
       "      <td>1.489958</td>\n",
       "      <td>1.650308</td>\n",
       "    </tr>\n",
       "    <tr>\n",
       "      <th>3</th>\n",
       "      <td>3.531900</td>\n",
       "      <td>2.415808</td>\n",
       "      <td>7.65</td>\n",
       "      <td>-5.230000</td>\n",
       "      <td>-36.900000</td>\n",
       "      <td>-3.46000</td>\n",
       "      <td>-19.200000</td>\n",
       "      <td>-7.400000</td>\n",
       "      <td>-21.700000</td>\n",
       "      <td>-3.080000</td>\n",
       "      <td>-15.300000</td>\n",
       "      <td>1.560000</td>\n",
       "      <td>1.330000</td>\n",
       "      <td>0.609594</td>\n",
       "      <td>1.060698</td>\n",
       "      <td>1.311754</td>\n",
       "      <td>1.411620</td>\n",
       "    </tr>\n",
       "    <tr>\n",
       "      <th>4</th>\n",
       "      <td>3.191898</td>\n",
       "      <td>2.244277</td>\n",
       "      <td>11.30</td>\n",
       "      <td>7.132813</td>\n",
       "      <td>17.742803</td>\n",
       "      <td>331.70347</td>\n",
       "      <td>13.234825</td>\n",
       "      <td>12.670764</td>\n",
       "      <td>8.528391</td>\n",
       "      <td>8.063843</td>\n",
       "      <td>7.665472</td>\n",
       "      <td>6.344578</td>\n",
       "      <td>14.769923</td>\n",
       "      <td>0.187521</td>\n",
       "      <td>0.481443</td>\n",
       "      <td>1.857332</td>\n",
       "      <td>2.411114</td>\n",
       "    </tr>\n",
       "  </tbody>\n",
       "</table>\n",
       "</div>"
      ],
      "text/plain": [
       "   log_t_rev  log_ebitda  ebitda_margin  est_ann_rev_gr_1yr  \\\n",
       "0   3.075182    1.897077           6.64            4.540000   \n",
       "1   2.426511    0.772322           2.22            7.132813   \n",
       "2   3.509740    2.665393          14.30            1.480000   \n",
       "3   3.531900    2.415808           7.65           -5.230000   \n",
       "4   3.191898    2.244277          11.30            7.132813   \n",
       "\n",
       "   est_ann_ebitda_gr_1yr  t_rev_1yr_growth  ebitda_1yr_growth  \\\n",
       "0              16.700000           2.06000          -0.852000   \n",
       "1              17.742803          -1.93000          13.234825   \n",
       "2               4.270000           4.08000           4.980000   \n",
       "3             -36.900000          -3.46000         -19.200000   \n",
       "4              17.742803         331.70347          13.234825   \n",
       "\n",
       "   t_rev_3_yr_cagr  ebitda_3yr_cagr  t_rev_5yr_cagr  ebitda_5yr_cagr  \\\n",
       "0        16.400000        19.400000       11.200000        18.700000   \n",
       "1        -4.040000       -34.500000      -10.600000       -28.900000   \n",
       "2        13.000000         9.600000       10.300000        11.200000   \n",
       "3        -7.400000       -21.700000       -3.080000       -15.300000   \n",
       "4        12.670764         8.528391        8.063843         7.665472   \n",
       "\n",
       "   return_on_assets  return_on_equity  log_capex_as_percent_rev  \\\n",
       "0          4.600000          9.900000                  0.460898   \n",
       "1         -1.570000        -12.200000                  0.444045   \n",
       "2          9.930000          9.950000                  0.278754   \n",
       "3          1.560000          1.330000                  0.609594   \n",
       "4          6.344578         14.769923                  0.187521   \n",
       "\n",
       "   log_ebitda/interest_exp  log_t_debt/cap_percent  log_t_debt/equity_percent  \n",
       "0                 1.103804                1.513218                   1.685742  \n",
       "1                 1.004171                1.561461                   1.781483  \n",
       "2                 1.281033                1.489958                   1.650308  \n",
       "3                 1.060698                1.311754                   1.411620  \n",
       "4                 0.481443                1.857332                   2.411114  "
      ]
     },
     "execution_count": 142,
     "metadata": {},
     "output_type": "execute_result"
    }
   ],
   "source": [
    "y = cur_df['log_t_ev/ebitda']\n",
    "X = cur_df.drop('log_t_ev/ebitda', axis=1)\n",
    "X.head()"
   ]
  },
  {
   "cell_type": "code",
   "execution_count": 143,
   "metadata": {
    "collapsed": true
   },
   "outputs": [],
   "source": [
    "x_train, x_test, y_train, y_test = train_test_split(X,y,train_size = 0.75)"
   ]
  },
  {
   "cell_type": "code",
   "execution_count": 144,
   "metadata": {
    "collapsed": false
   },
   "outputs": [],
   "source": [
    "ols_model = LinearRegression()"
   ]
  },
  {
   "cell_type": "code",
   "execution_count": 145,
   "metadata": {
    "collapsed": false
   },
   "outputs": [],
   "source": [
    "ols_model.fit(X,y)\n",
    "betas = ols_model.coef_"
   ]
  },
  {
   "cell_type": "code",
   "execution_count": 146,
   "metadata": {
    "collapsed": false
   },
   "outputs": [],
   "source": [
    "beta_pairs = []\n",
    "for i in range(len(betas)):\n",
    "    beta_pairs.append((i,ridge_betas[i])) \n",
    "    index = betas[i]\n",
    "    # print i+1, X.columns[i], round(betas[i],7)"
   ]
  },
  {
   "cell_type": "code",
   "execution_count": 147,
   "metadata": {
    "collapsed": false
   },
   "outputs": [
    {
     "name": "stdout",
     "output_type": "stream",
     "text": [
      "log_ebitda/interest_exp -0.1119\n",
      "est_ann_rev_gr_1yr 0.0019\n",
      "t_rev_5yr_cagr 0.0046\n",
      "log_ebitda 0.0094\n",
      "ebitda_margin -0.0016\n",
      "ebitda_1yr_growth -0.0001\n"
     ]
    }
   ],
   "source": [
    "print 'log_ebitda/interest_exp', round(betas[14],4)\n",
    "print 'est_ann_rev_gr_1yr', round(betas[3],4)\n",
    "print 't_rev_5yr_cagr' , round(betas[9],4)\n",
    "print 'log_ebitda', round(betas[1],4)\n",
    "print 'ebitda_margin', round(betas[2],4)\n",
    "print 'ebitda_1yr_growth', round(betas[6],4)"
   ]
  },
  {
   "cell_type": "markdown",
   "metadata": {},
   "source": [
    "Looking at the six different variables that turned up from our models. The interpretation of the coefficient is as follows:    \n",
    "  \n",
    "**log_ebitda/interest_exp:**  \n",
    "Holding the values for all other features constant, every unit increase we measure in the log_ebitda/interest_exp our prediction of the log(t_ev/ebitda) of to **decrease** by 0.1119 or the t_ev/ebitda to decrease by 10^0.1119 = 1.293 \n",
    "  \n",
    "**est_ann_rev_gr_1yr:**  \n",
    "Holding the values of all other features constant, every unit increase we measure in the est_ann_rev_gr_1yr our prediction of the log(t_ev/ebitda) increases by 0.0019 or in other words our prediction of t_ev/ebitda increases by 10^0.0019 = 1.004  \n",
    "  \n",
    "The same interperation follows for all of these coefficients. I am not sure how useful the actual interpretations are because in the valuation setting there is no way to hold the other features constant. Atleast 3 or 4 features use ebitda and by changing one of those variables you inherently must change some of the others. There is one more method that may be able to exploit this inherent connection between features. It is known as random forest. It is a 'tree based method' I am not an expert on how it works (I will link a suitable explanation) but I know that it produces a list of what features were most important in its prediction. It cannot tell you whether a certain feature has a positive or negative impact on the prediction."
   ]
  },
  {
   "cell_type": "markdown",
   "metadata": {},
   "source": [
    "## Random Forest Classifier"
   ]
  },
  {
   "cell_type": "code",
   "execution_count": 148,
   "metadata": {
    "collapsed": false
   },
   "outputs": [
    {
     "name": "stdout",
     "output_type": "stream",
     "text": [
      "Average MSE: 0.0520 (+/- 0.0169)\n"
     ]
    }
   ],
   "source": [
    "# basic model \n",
    "model = RandomForestRegressor()\n",
    "scores = cross_val_score(model, x_train, y_train, scoring='neg_mean_squared_error', cv=5)\n",
    "# print('MSEs:', scores*-1)\n",
    "print(\"Average MSE: %0.4f (+/- %0.4f)\" % (-scores.mean(), scores.std()))"
   ]
  },
  {
   "cell_type": "markdown",
   "metadata": {},
   "source": [
    "There are a bunch of 'tuning parameters' for random forest. One commonly used method is to just try a bunch of combinations and take the the one that works best."
   ]
  },
  {
   "cell_type": "code",
   "execution_count": 149,
   "metadata": {
    "collapsed": false
   },
   "outputs": [],
   "source": [
    "from sklearn.ensemble import RandomForestRegressor\n",
    "from itertools import product\n",
    "n_estimators_params = [10, 20]\n",
    "max_features_params = ['auto', 'sqrt', \"log2\"]\n",
    "min_samples_split_params = [2]\n",
    "min_samples_leaf_params = [  2]\n",
    "\n",
    "result_dict = {}\n",
    "for param in product(n_estimators_params, max_features_params, min_samples_split_params, min_samples_leaf_params):\n",
    "    rf_model = RandomForestRegressor(n_estimators=param[0], max_features=param[1],\n",
    "                                min_samples_split=param[2], min_samples_leaf=param[3], \n",
    "                                 random_state=1711, n_jobs=-1)\n",
    "    scores = cross_val_score(rf_model, x_train, y_train, scoring='neg_mean_squared_error', cv=5)\n",
    "    result_dict[param] = (-scores.mean(), scores.std())\n",
    "#     print 'current param: n_estimators_params, max_features_params, min_samples_split_params, min_samples_leaf_params'\n",
    "#     print param\n",
    "#     print 'mse mean and std: ',  -scores.mean(), scores.std()"
   ]
  },
  {
   "cell_type": "code",
   "execution_count": 150,
   "metadata": {
    "collapsed": false
   },
   "outputs": [
    {
     "name": "stdout",
     "output_type": "stream",
     "text": [
      "(0.047711707819577627, 0.01456937594212109) (20, 'auto', 2, 2)\n"
     ]
    }
   ],
   "source": [
    "min_mse = 100\n",
    "min_param = ()\n",
    "for param in result_dict:\n",
    "    if result_dict[param][0] < min_mse:\n",
    "        min_mse=result_dict[param][0]\n",
    "        min_param = param\n",
    "print result_dict[min_param], min_param"
   ]
  },
  {
   "cell_type": "markdown",
   "metadata": {},
   "source": [
    "We found that the optimal model uses 20 estimators, 'auto' feature parameters, and will split a minimum of 2 times and leave a minimum of 2 leafs. It is not useful to go into precise defintions of what these terms means. The implications are not clear. We want to focus on the feature importance that will come out as a result."
   ]
  },
  {
   "cell_type": "code",
   "execution_count": 151,
   "metadata": {
    "collapsed": false
   },
   "outputs": [],
   "source": [
    "rf_model = RandomForestRegressor(n_estimators=20, max_features='auto',\n",
    "                                min_samples_split=2, min_samples_leaf=2,random_state=1711, n_jobs=-1)\n",
    "rf_model.fit(x_train, y_train)\n",
    "yhat_rf = rf_model.predict(x_test)\n",
    "#print 'Finished!'"
   ]
  },
  {
   "cell_type": "code",
   "execution_count": 152,
   "metadata": {
    "collapsed": false
   },
   "outputs": [],
   "source": [
    "feature_importance = rf_model.feature_importances_"
   ]
  },
  {
   "cell_type": "code",
   "execution_count": 153,
   "metadata": {
    "collapsed": false
   },
   "outputs": [
    {
     "name": "stdout",
     "output_type": "stream",
     "text": [
      "1 log_ebitda/interest_exp 0.1721\n",
      "2 ebitda_margin 0.104\n",
      "3 log_ebitda 0.0983\n",
      "4 t_rev_3_yr_cagr 0.0938\n",
      "5 return_on_assets 0.0923\n"
     ]
    }
   ],
   "source": [
    "rf_feat_pairs = []\n",
    "for i in range(len(feature_importance)):\n",
    "    rf_feat_pairs.append((i,feature_importance[i])) \n",
    "sorted_feat_pairs = sorted(rf_feat_pairs, key=lambda x: abs(x[1]), reverse = True) \n",
    "for i in range(5):\n",
    "    index = sorted_feat_pairs[i][0]\n",
    "    print i+1, X.columns[index], round(sorted_feat_pairs[i][1],4)"
   ]
  },
  {
   "cell_type": "markdown",
   "metadata": {},
   "source": [
    "We see again log_ebitda/interest_exp is at the top of the list. There are a few shared features as well such as ebitda_margin, and log_ebitda."
   ]
  }
 ],
 "metadata": {
  "anaconda-cloud": {},
  "kernelspec": {
   "display_name": "Python [Root]",
   "language": "python",
   "name": "Python [Root]"
  },
  "language_info": {
   "codemirror_mode": {
    "name": "ipython",
    "version": 2
   },
   "file_extension": ".py",
   "mimetype": "text/x-python",
   "name": "python",
   "nbconvert_exporter": "python",
   "pygments_lexer": "ipython2",
   "version": "2.7.12"
  }
 },
 "nbformat": 4,
 "nbformat_minor": 0
}
