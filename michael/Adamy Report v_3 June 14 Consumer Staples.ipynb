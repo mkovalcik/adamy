{
 "cells": [
  {
   "cell_type": "markdown",
   "metadata": {},
   "source": [
    "## Relevant Changes\n",
    "Run this script on all 3 data sets  \n",
    "Sample 25 seeds and calculate a rank for every variable  \n",
    "store these ranks and compute the average score at the end of 25 trials  \n",
    "plot these ranks and their standard errors  "
   ]
  },
  {
   "cell_type": "markdown",
   "metadata": {},
   "source": [
    "# Adamy Valuation - Michigan Data Science Team\n",
    "### Michael Xinyu Tim Sid Derek Manny\n",
    "                                                                                                        5/06/2017"
   ]
  },
  {
   "cell_type": "markdown",
   "metadata": {},
   "source": [
    "**Purpose:** This notebook describes the data processing pipeline we have built and instructions on how to interpret the results.  \n",
    "  \n",
    "**Conclusion:** Ebitda/interest_exp is the best predictor of ev/ebidta. It seems that the higher the ebitda/interest_exp the lower our prediction for ev/ebitda. Other important features are ebitda_margin and ebitda.  \n",
    "  \n",
    "**Notes:** It was hard to precisely quantify the degree to which these variables actually impacted ev/ebitda because of the limitations of linear regression. We have provided several lists of features that our models found to be important. It would be interesting to compare and contrast these lists with the existing literature. "
   ]
  },
  {
   "cell_type": "markdown",
   "metadata": {},
   "source": [
    "## Load Libraries"
   ]
  },
  {
   "cell_type": "code",
   "execution_count": 2,
   "metadata": {
    "collapsed": true
   },
   "outputs": [],
   "source": [
    "%matplotlib inline\n",
    "import matplotlib.pyplot as plt\n",
    "import seaborn as sns\n",
    "import pandas as pd\n",
    "import numpy as np\n",
    "from get_data import *\n",
    "\n",
    "%matplotlib inline\n",
    "import pandas as pd\n",
    "import numpy as np\n",
    "import matplotlib.pylab as plt\n",
    "import seaborn as sns\n",
    "import scipy.stats as stats\n",
    "import random\n",
    "from mpl_toolkits.mplot3d import Axes3D\n",
    "from get_data import *\n",
    "\n",
    "# SciKit Learn Modules\n",
    "from sklearn.preprocessing import scale\n",
    "from sklearn.linear_model import LinearRegression, Ridge, RidgeCV, Lasso, LassoCV\n",
    "from sklearn.model_selection import cross_val_score, train_test_split\n",
    "from sklearn import metrics\n",
    "from sklearn.ensemble import RandomForestRegressor"
   ]
  },
  {
   "cell_type": "markdown",
   "metadata": {},
   "source": [
    "## Load Data"
   ]
  },
  {
   "cell_type": "code",
   "execution_count": 3,
   "metadata": {
    "collapsed": false
   },
   "outputs": [],
   "source": [
    "np.random.seed(0)\n",
    "raw_data_frame = load_data_frames()\n",
    "sectors = ['consumerDiscrete', 'consumerStaples', 'industrials']"
   ]
  },
  {
   "cell_type": "markdown",
   "metadata": {},
   "source": [
    "Our exploratory data anlaysis led us to discover that our models would be more effective after transforming some of the columns. Specifically those columns that represent monetary values as well as a few others."
   ]
  },
  {
   "cell_type": "code",
   "execution_count": 4,
   "metadata": {
    "collapsed": false
   },
   "outputs": [
    {
     "name": "stdout",
     "output_type": "stream",
     "text": [
      "(0, 't_ev')\n",
      "(1, 't_rev')\n",
      "(2, 'ebitda')\n",
      "(3, 'ebitda_margin')\n",
      "(4, 't_ev/t_rev')\n",
      "(5, 't_ev/ebitda')\n",
      "(6, 'est_ann_rev_gr_1yr')\n",
      "(7, 'est_ann_ebitda_gr_1yr')\n",
      "(8, 't_rev_1yr_growth')\n",
      "(9, 'ebitda_1yr_growth')\n",
      "(10, 't_rev_3_yr_cagr')\n",
      "(11, 'ebitda_3yr_cagr')\n",
      "(12, 't_rev_5yr_cagr')\n",
      "(13, 'ebitda_5yr_cagr')\n",
      "(14, 'return_on_assets')\n",
      "(15, 'return_on_equity')\n",
      "(16, 'capex_as_percent_rev')\n",
      "(17, 'ebitda/interest_exp')\n",
      "(18, 't_debt/cap_percent')\n",
      "(19, 't_debt/equity_percent')\n"
     ]
    }
   ],
   "source": [
    "for i in range(len(raw_data_frame[0].columns)):\n",
    "    print(i, raw_data_frame[0].columns[i])"
   ]
  },
  {
   "cell_type": "code",
   "execution_count": 5,
   "metadata": {
    "collapsed": false
   },
   "outputs": [
    {
     "name": "stdout",
     "output_type": "stream",
     "text": [
      "['t_ev', 't_rev', 'ebitda', 't_ev/ebitda', 'capex_as_percent_rev', 'ebitda/interest_exp', 't_debt/cap_percent', 't_debt/equity_percent']\n"
     ]
    }
   ],
   "source": [
    "log_transform_columns =  [0, 1, 2, 5, 16, 17, 18, 19]\n",
    "log_transform_col_names = []\n",
    "for col in log_transform_columns:\n",
    "    log_transform_col_names.append(raw_data_frame[0].columns[col])\n",
    "print log_transform_col_names"
   ]
  },
  {
   "cell_type": "markdown",
   "metadata": {},
   "source": [
    "We need to actually modify the data for the columns we discovered.  \n",
    "**Note:** Because we do the following process in place it is important that the line is not run twice."
   ]
  },
  {
   "cell_type": "code",
   "execution_count": 6,
   "metadata": {
    "collapsed": false
   },
   "outputs": [],
   "source": [
    "# log-transform inplace\n",
    "for i in range(len(sectors)):\n",
    "    raw_data_frame[i][log_transform_col_names] = raw_data_frame[i][log_transform_col_names].apply(np.log10)\n",
    "    raw_data_frame[i].rename(columns = {\n",
    "        't_ev':'log_t_ev',\n",
    "        't_rev':'log_t_rev',\n",
    "        'ebitda':'log_ebitda',\n",
    "        't_ev/ebitda':'log_t_ev/ebitda',\n",
    "        'capex_as_percent_rev':'log_capex_as_percent_rev',\n",
    "        'ebitda/interest_exp':'log_ebitda/interest_exp',\n",
    "        't_debt/cap_percent':'log_t_debt/cap_percent',\n",
    "        't_debt/equity_percent':'log_t_debt/equity_percent'\n",
    "                                },inplace = True)    "
   ]
  },
  {
   "cell_type": "markdown",
   "metadata": {},
   "source": [
    "In order to handle missing data we fill in cells the with mean for the column"
   ]
  },
  {
   "cell_type": "code",
   "execution_count": 7,
   "metadata": {
    "collapsed": true
   },
   "outputs": [],
   "source": [
    "for i in range(len(sectors)):\n",
    "    raw_data_frame[i].fillna(raw_data_frame[i].mean(), inplace=True)"
   ]
  },
  {
   "cell_type": "markdown",
   "metadata": {
    "collapsed": true
   },
   "source": [
    "## Prepare the data for ML models\n",
    "\n",
    "- Target: 't_ev/ebitda'\n",
    "- Discard 't_ev'\n",
    "\n",
    "From pearson correlation heatmap, we see that target variable is not strongly linearly associated with other features. Therefore, the nonlinear methods, like tree-based methods, or SVM with nonlinear kernels will outperform. However, one thing to notice is that our final goal is not to predict the target value but rather to understand the complex relationship between ev/ebitda and other features. We shall try various methods  \n",
    "  \n",
    "We chose to discared the feature t_ev and t_ev/t_rev because we believe it will not be known for a private company"
   ]
  },
  {
   "cell_type": "code",
   "execution_count": 8,
   "metadata": {
    "collapsed": false
   },
   "outputs": [],
   "source": [
    "# drop 't_ev' columns\n",
    "for i in range(len(sectors)):\n",
    "    raw_data_frame[i].drop('log_t_ev', axis=1, inplace=True)\n",
    "    raw_data_frame[i].drop('t_ev/t_rev', axis=1, inplace=True)"
   ]
  },
  {
   "cell_type": "code",
   "execution_count": 9,
   "metadata": {
    "collapsed": false
   },
   "outputs": [
    {
     "name": "stdout",
     "output_type": "stream",
     "text": [
      "Let's look at consumerStaples\n"
     ]
    }
   ],
   "source": [
    "print(\"Let's look at \" + sectors[1])\n",
    "cur_df = raw_data_frame[1]"
   ]
  },
  {
   "cell_type": "code",
   "execution_count": 10,
   "metadata": {
    "collapsed": false
   },
   "outputs": [
    {
     "data": {
      "text/html": [
       "<div>\n",
       "<table border=\"1\" class=\"dataframe\">\n",
       "  <thead>\n",
       "    <tr style=\"text-align: right;\">\n",
       "      <th></th>\n",
       "      <th>log_t_rev</th>\n",
       "      <th>log_ebitda</th>\n",
       "      <th>ebitda_margin</th>\n",
       "      <th>est_ann_rev_gr_1yr</th>\n",
       "      <th>est_ann_ebitda_gr_1yr</th>\n",
       "      <th>t_rev_1yr_growth</th>\n",
       "      <th>ebitda_1yr_growth</th>\n",
       "      <th>t_rev_3_yr_cagr</th>\n",
       "      <th>ebitda_3yr_cagr</th>\n",
       "      <th>t_rev_5yr_cagr</th>\n",
       "      <th>ebitda_5yr_cagr</th>\n",
       "      <th>return_on_assets</th>\n",
       "      <th>return_on_equity</th>\n",
       "      <th>log_capex_as_percent_rev</th>\n",
       "      <th>log_ebitda/interest_exp</th>\n",
       "      <th>log_t_debt/cap_percent</th>\n",
       "      <th>log_t_debt/equity_percent</th>\n",
       "    </tr>\n",
       "  </thead>\n",
       "  <tbody>\n",
       "    <tr>\n",
       "      <th>0</th>\n",
       "      <td>3.188900</td>\n",
       "      <td>2.372544</td>\n",
       "      <td>15.30</td>\n",
       "      <td>5.653093</td>\n",
       "      <td>9.992372</td>\n",
       "      <td>9.500577</td>\n",
       "      <td>22.651782</td>\n",
       "      <td>6.045785</td>\n",
       "      <td>9.478606</td>\n",
       "      <td>5.870128</td>\n",
       "      <td>8.05713</td>\n",
       "      <td>7.969986</td>\n",
       "      <td>39.362728</td>\n",
       "      <td>0.348305</td>\n",
       "      <td>0.423246</td>\n",
       "      <td>2.180126</td>\n",
       "      <td>1.736516</td>\n",
       "    </tr>\n",
       "    <tr>\n",
       "      <th>1</th>\n",
       "      <td>0.093422</td>\n",
       "      <td>-0.018634</td>\n",
       "      <td>77.30</td>\n",
       "      <td>5.653093</td>\n",
       "      <td>9.992372</td>\n",
       "      <td>29.300000</td>\n",
       "      <td>22.651782</td>\n",
       "      <td>-0.599000</td>\n",
       "      <td>9.478606</td>\n",
       "      <td>4.900000</td>\n",
       "      <td>8.05713</td>\n",
       "      <td>46.400000</td>\n",
       "      <td>39.362728</td>\n",
       "      <td>-0.522879</td>\n",
       "      <td>0.330414</td>\n",
       "      <td>1.476933</td>\n",
       "      <td>1.736516</td>\n",
       "    </tr>\n",
       "    <tr>\n",
       "      <th>2</th>\n",
       "      <td>2.158965</td>\n",
       "      <td>1.578639</td>\n",
       "      <td>26.20</td>\n",
       "      <td>5.653093</td>\n",
       "      <td>9.992372</td>\n",
       "      <td>-5.830000</td>\n",
       "      <td>-4.970000</td>\n",
       "      <td>12.400000</td>\n",
       "      <td>17.300000</td>\n",
       "      <td>7.900000</td>\n",
       "      <td>10.90000</td>\n",
       "      <td>3.060000</td>\n",
       "      <td>3.930000</td>\n",
       "      <td>0.996512</td>\n",
       "      <td>0.583199</td>\n",
       "      <td>1.725912</td>\n",
       "      <td>2.056142</td>\n",
       "    </tr>\n",
       "    <tr>\n",
       "      <th>3</th>\n",
       "      <td>3.272770</td>\n",
       "      <td>2.062206</td>\n",
       "      <td>6.16</td>\n",
       "      <td>5.653093</td>\n",
       "      <td>9.992372</td>\n",
       "      <td>-1.470000</td>\n",
       "      <td>-4.660000</td>\n",
       "      <td>-7.840000</td>\n",
       "      <td>-8.340000</td>\n",
       "      <td>-0.484000</td>\n",
       "      <td>-0.06900</td>\n",
       "      <td>2.670000</td>\n",
       "      <td>34.000000</td>\n",
       "      <td>-0.044312</td>\n",
       "      <td>-0.028260</td>\n",
       "      <td>1.922206</td>\n",
       "      <td>2.706206</td>\n",
       "    </tr>\n",
       "    <tr>\n",
       "      <th>4</th>\n",
       "      <td>4.286299</td>\n",
       "      <td>3.975294</td>\n",
       "      <td>48.90</td>\n",
       "      <td>2.900000</td>\n",
       "      <td>5.650000</td>\n",
       "      <td>3.180000</td>\n",
       "      <td>8.190000</td>\n",
       "      <td>2.950000</td>\n",
       "      <td>6.400000</td>\n",
       "      <td>3.330000</td>\n",
       "      <td>6.83000</td>\n",
       "      <td>17.800000</td>\n",
       "      <td>176.800000</td>\n",
       "      <td>0.086360</td>\n",
       "      <td>1.086360</td>\n",
       "      <td>1.911690</td>\n",
       "      <td>2.647383</td>\n",
       "    </tr>\n",
       "  </tbody>\n",
       "</table>\n",
       "</div>"
      ],
      "text/plain": [
       "   log_t_rev  log_ebitda  ebitda_margin  est_ann_rev_gr_1yr  \\\n",
       "0   3.188900    2.372544          15.30            5.653093   \n",
       "1   0.093422   -0.018634          77.30            5.653093   \n",
       "2   2.158965    1.578639          26.20            5.653093   \n",
       "3   3.272770    2.062206           6.16            5.653093   \n",
       "4   4.286299    3.975294          48.90            2.900000   \n",
       "\n",
       "   est_ann_ebitda_gr_1yr  t_rev_1yr_growth  ebitda_1yr_growth  \\\n",
       "0               9.992372          9.500577          22.651782   \n",
       "1               9.992372         29.300000          22.651782   \n",
       "2               9.992372         -5.830000          -4.970000   \n",
       "3               9.992372         -1.470000          -4.660000   \n",
       "4               5.650000          3.180000           8.190000   \n",
       "\n",
       "   t_rev_3_yr_cagr  ebitda_3yr_cagr  t_rev_5yr_cagr  ebitda_5yr_cagr  \\\n",
       "0         6.045785         9.478606        5.870128          8.05713   \n",
       "1        -0.599000         9.478606        4.900000          8.05713   \n",
       "2        12.400000        17.300000        7.900000         10.90000   \n",
       "3        -7.840000        -8.340000       -0.484000         -0.06900   \n",
       "4         2.950000         6.400000        3.330000          6.83000   \n",
       "\n",
       "   return_on_assets  return_on_equity  log_capex_as_percent_rev  \\\n",
       "0          7.969986         39.362728                  0.348305   \n",
       "1         46.400000         39.362728                 -0.522879   \n",
       "2          3.060000          3.930000                  0.996512   \n",
       "3          2.670000         34.000000                 -0.044312   \n",
       "4         17.800000        176.800000                  0.086360   \n",
       "\n",
       "   log_ebitda/interest_exp  log_t_debt/cap_percent  log_t_debt/equity_percent  \n",
       "0                 0.423246                2.180126                   1.736516  \n",
       "1                 0.330414                1.476933                   1.736516  \n",
       "2                 0.583199                1.725912                   2.056142  \n",
       "3                -0.028260                1.922206                   2.706206  \n",
       "4                 1.086360                1.911690                   2.647383  "
      ]
     },
     "execution_count": 10,
     "metadata": {},
     "output_type": "execute_result"
    }
   ],
   "source": [
    "y = cur_df['log_t_ev/ebitda']\n",
    "X = cur_df.drop('log_t_ev/ebitda', axis=1)\n",
    "X.head()"
   ]
  },
  {
   "cell_type": "markdown",
   "metadata": {},
   "source": [
    "It is common practice in Machine Learning to use inputs of mean = 0 and standard deviation = 1. This way the impact of the features can be compared head to head. The scale() function below does this transformation"
   ]
  },
  {
   "cell_type": "code",
   "execution_count": 11,
   "metadata": {
    "collapsed": true
   },
   "outputs": [],
   "source": [
    "from sklearn.preprocessing import scale\n",
    "X_scale = scale(X)"
   ]
  },
  {
   "cell_type": "markdown",
   "metadata": {},
   "source": [
    "Before we start doing any model selection it is important that we break our data up into a training and a test set. The training set will be used to select and train the models. The test set will come in at the end of the program and will be our way of testing a models accuracy on data that is has never seen.  \n",
    "The training set will consist of 75% of our data and the test set will have the remaining 25%. Each set has an \"X\" and \"y\" component. The y component is what we are trying to predict, t_ev/ebitda. The X component consists of all other variables in the data set (ebitda, ebitda_margin, est_ann_rev_gr_1yr, etc.) which we will be using to predict t_ev/ebitda."
   ]
  },
  {
   "cell_type": "code",
   "execution_count": 12,
   "metadata": {
    "collapsed": false
   },
   "outputs": [],
   "source": [
    "x_train, x_test, y_train, y_test = train_test_split(X_scale,y,train_size = 0.75)"
   ]
  },
  {
   "cell_type": "markdown",
   "metadata": {},
   "source": [
    "## Random Forest Classifier"
   ]
  },
  {
   "cell_type": "code",
   "execution_count": 13,
   "metadata": {
    "collapsed": false
   },
   "outputs": [
    {
     "name": "stdout",
     "output_type": "stream",
     "text": [
      "Average MSE: 0.0603 (+/- 0.0190)\n"
     ]
    }
   ],
   "source": [
    "# basic model \n",
    "model = RandomForestRegressor()\n",
    "scores = cross_val_score(model, x_train, y_train, scoring='neg_mean_squared_error', cv=5)\n",
    "# print('MSEs:', scores*-1)\n",
    "print(\"Average MSE: %0.4f (+/- %0.4f)\" % (-scores.mean(), scores.std()))"
   ]
  },
  {
   "cell_type": "markdown",
   "metadata": {},
   "source": [
    "There are a bunch of 'tuning parameters' for random forest. One commonly used method is to just try a bunch of combinations and take the the one that works best."
   ]
  },
  {
   "cell_type": "code",
   "execution_count": 14,
   "metadata": {
    "collapsed": false
   },
   "outputs": [],
   "source": [
    "from sklearn.ensemble import RandomForestRegressor\n",
    "from itertools import product\n",
    "n_estimators_params = [10, 20]\n",
    "max_features_params = ['auto', 'sqrt', \"log2\"]\n",
    "min_samples_split_params = [2]\n",
    "min_samples_leaf_params = [  2]\n",
    "\n",
    "result_dict = {}\n",
    "for param in product(n_estimators_params, max_features_params, min_samples_split_params, min_samples_leaf_params):\n",
    "    rf_model = RandomForestRegressor(n_estimators=param[0], max_features=param[1],\n",
    "                                min_samples_split=param[2], min_samples_leaf=param[3], \n",
    "                                 random_state=1711, n_jobs=-1)\n",
    "    scores = cross_val_score(rf_model, x_train, y_train, scoring='neg_mean_squared_error', cv=5)\n",
    "    result_dict[param] = (-scores.mean(), scores.std())\n",
    "#     print 'current param: n_estimators_params, max_features_params, min_samples_split_params, min_samples_leaf_params'\n",
    "#     print param\n",
    "#     print 'mse mean and std: ',  -scores.mean(), scores.std()"
   ]
  },
  {
   "cell_type": "code",
   "execution_count": 15,
   "metadata": {
    "collapsed": false
   },
   "outputs": [
    {
     "name": "stdout",
     "output_type": "stream",
     "text": [
      "(0.058330045850789547, 0.019168722743973656) (20, 'auto', 2, 2)\n"
     ]
    }
   ],
   "source": [
    "min_mse = 100\n",
    "min_param = ()\n",
    "for param in result_dict:\n",
    "    if result_dict[param][0] < min_mse:\n",
    "        min_mse=result_dict[param][0]\n",
    "        min_param = param\n",
    "print result_dict[min_param], min_param"
   ]
  },
  {
   "cell_type": "markdown",
   "metadata": {},
   "source": [
    "We found that the optimal model uses 20 estimators, 'auto' feature parameters, and will split a minimum of 2 times and leave a minimum of 2 leafs. It is not useful to go into precise defintions of what these terms means. The implications are not clear. We want to focus on the feature importance that will come out as a result."
   ]
  },
  {
   "cell_type": "code",
   "execution_count": 26,
   "metadata": {
    "collapsed": false
   },
   "outputs": [],
   "source": [
    "cumulative_winnings = []\n",
    "np.random.seed(212)\n",
    "for j in range(100):\n",
    "    seed = np.random.randint(0,10**4)\n",
    "    x_train, x_test, y_train, y_test = train_test_split(X_scale,y,train_size = 0.75)\n",
    "    rf_model = RandomForestRegressor(n_estimators=20, max_features='auto',\n",
    "                                    min_samples_split=2, min_samples_leaf=2,random_state=seed, n_jobs=-1)\n",
    "\n",
    "    rf_model.fit(x_train, y_train)\n",
    "    yhat_rf = rf_model.predict(x_test)\n",
    "    #print 'Finished!'\n",
    "    feature_importance = rf_model.feature_importances_\n",
    " \n",
    "    rf_feat_pairs = []\n",
    "\n",
    "    for i in range(len(feature_importance)):\n",
    "        rf_feat_pairs.append((X.columns[i],feature_importance[i]))     \n",
    "        cumulative_winnings.append((X.columns[i],feature_importance[i]))\n",
    "\n",
    "\n",
    "# Now I need to average over all instances of column to compute avg score    \n"
   ]
  },
  {
   "cell_type": "code",
   "execution_count": 27,
   "metadata": {
    "collapsed": false
   },
   "outputs": [
    {
     "name": "stderr",
     "output_type": "stream",
     "text": [
      "/Users/KovalcikM/anaconda/lib/python2.7/site-packages/ipykernel/__main__.py:14: FutureWarning: sort(columns=....) is deprecated, use sort_values(by=.....)\n"
     ]
    }
   ],
   "source": [
    "df = pd.DataFrame()\n",
    "\n",
    "\n",
    "for i in range(len(X.columns)):\n",
    "    rankings = []\n",
    "    for j in range(len(cumulative_winnings)):\n",
    "        if X.columns[i] == cumulative_winnings[j][0]:\n",
    "            rankings.append(cumulative_winnings[j][1])\n",
    "    df = df.append({'feature': cumulative_winnings[i][0], 'mean_importance': np.mean(rankings), 'se': stats.sem(rankings)}, ignore_index=True)        \n",
    "#     print(cumulative_winnings[i][0])\n",
    "#     print(np.mean(rankings))\n",
    "#     print(np.std(rankings))\n",
    "\n",
    "df = df.sort(\"mean_importance\",ascending=0)"
   ]
  },
  {
   "cell_type": "code",
   "execution_count": 28,
   "metadata": {
    "collapsed": false
   },
   "outputs": [
    {
     "name": "stdout",
     "output_type": "stream",
     "text": [
      "                      feature  mean_importance        se\n",
      "11           return_on_assets         0.239284  0.006700\n",
      "13   log_capex_as_percent_rev         0.131981  0.006010\n",
      "2               ebitda_margin         0.113577  0.004392\n",
      "1                  log_ebitda         0.082560  0.003039\n",
      "8             ebitda_3yr_cagr         0.056646  0.004094\n",
      "14    log_ebitda/interest_exp         0.049708  0.002369\n",
      "12           return_on_equity         0.048631  0.002690\n",
      "5            t_rev_1yr_growth         0.047081  0.002247\n",
      "0                   log_t_rev         0.042440  0.001705\n",
      "6           ebitda_1yr_growth         0.040505  0.002024\n",
      "7             t_rev_3_yr_cagr         0.038744  0.002480\n",
      "4       est_ann_ebitda_gr_1yr         0.030855  0.001372\n",
      "9              t_rev_5yr_cagr         0.021128  0.000876\n",
      "15     log_t_debt/cap_percent         0.016719  0.000805\n",
      "16  log_t_debt/equity_percent         0.016345  0.000839\n",
      "10            ebitda_5yr_cagr         0.013238  0.000593\n",
      "3          est_ann_rev_gr_1yr         0.010555  0.000475\n"
     ]
    }
   ],
   "source": [
    "print(df)"
   ]
  },
  {
   "cell_type": "code",
   "execution_count": 29,
   "metadata": {
    "collapsed": false
   },
   "outputs": [],
   "source": [
    "plot_df = df[0:17]\n",
    "se = plot_df[\"se\"] * 2"
   ]
  },
  {
   "cell_type": "code",
   "execution_count": 38,
   "metadata": {
    "collapsed": false
   },
   "outputs": [
    {
     "data": {
      "image/png": "[encoded data removed]",
      "text/plain": [
       "<matplotlib.figure.Figure at 0x1195c77d0>"
      ]
     },
     "metadata": {},
     "output_type": "display_data"
    }
   ],
   "source": [
    "\"\"\"\n",
    "========\n",
    "Barchart\n",
    "========\n",
    "\n",
    "A bar plot with errorbars and height labels on individual bars\n",
    "\"\"\"\n",
    "import numpy as np\n",
    "import matplotlib.pyplot as plt\n",
    "\n",
    "mean_importance = plot_df[\"mean_importance\"]\n",
    "se = plot_df[\"se\"] * 2\n",
    "\n",
    "ind = np.arange(len(plot_df))  # the x locations for the groups\n",
    "width = 0.35       # the width of the bars\n",
    "\n",
    "fig, ax = plt.subplots()\n",
    "rects1 = ax.bar(ind, mean_importance, width, color='r', yerr=tuple(se))\n",
    "\n",
    "\n",
    "\n",
    "# add some text for labels, title and axes ticks\n",
    "ax.set_ylabel('Average Importance')\n",
    "ax.set_title('Feature Importance (100 Trials): Consumer Staples Sector')\n",
    "plt.xticks(rotation=70)\n",
    "ax.set_xticks(ind + width/2)\n",
    "ax.set_xticklabels(plot_df[\"feature\"])\n",
    "\n",
    "\n",
    "plt.show()\n"
   ]
  },
  {
   "cell_type": "code",
   "execution_count": 34,
   "metadata": {
    "collapsed": false
   },
   "outputs": [],
   "source": []
  },
  {
   "cell_type": "code",
   "execution_count": null,
   "metadata": {
    "collapsed": true
   },
   "outputs": [],
   "source": []
  }
 ],
 "metadata": {
  "anaconda-cloud": {},
  "kernelspec": {
   "display_name": "Python [Root]",
   "language": "python",
   "name": "Python [Root]"
  },
  "language_info": {
   "codemirror_mode": {
    "name": "ipython",
    "version": 2
   },
   "file_extension": ".py",
   "mimetype": "text/x-python",
   "name": "python",
   "nbconvert_exporter": "python",
   "pygments_lexer": "ipython2",
   "version": "2.7.12"
  }
 },
 "nbformat": 4,
 "nbformat_minor": 0
}
