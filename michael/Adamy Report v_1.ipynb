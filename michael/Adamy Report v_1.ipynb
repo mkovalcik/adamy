{
 "cells": [
  {
   "cell_type": "markdown",
   "metadata": {},
   "source": [
    "# Adamy Valuation - Michigan Data Science Team\n",
    "### Michael Xinyu Tim Sid Derek Manny\n",
    "                                                                                                        5/06/2017"
   ]
  },
  {
   "cell_type": "markdown",
   "metadata": {},
   "source": [
    "**Purpose:** This notebook describes the data processing pipeline we have built and instructions on how to interpret the results."
   ]
  },
  {
   "cell_type": "markdown",
   "metadata": {},
   "source": [
    "## Load Libraries"
   ]
  },
  {
   "cell_type": "code",
   "execution_count": 29,
   "metadata": {
    "collapsed": true
   },
   "outputs": [],
   "source": [
    "%matplotlib inline\n",
    "import matplotlib.pyplot as plt\n",
    "import seaborn as sns\n",
    "import pandas as pd\n",
    "import numpy as np\n",
    "from get_data import *\n",
    "\n",
    "%matplotlib inline\n",
    "import pandas as pd\n",
    "import numpy as np\n",
    "import matplotlib.pylab as plt\n",
    "import seaborn as sns\n",
    "import scipy.stats as stats\n",
    "from mpl_toolkits.mplot3d import Axes3D\n",
    "from get_data import *\n",
    "\n",
    "# SciKit Learn Modules\n",
    "from sklearn.preprocessing import scale\n",
    "from sklearn.linear_model import LinearRegression, Ridge, RidgeCV, Lasso, LassoCV\n",
    "from sklearn.model_selection import cross_val_score\n",
    "from sklearn import metrics\n",
    "from sklearn.ensemble import RandomForestRegressor"
   ]
  },
  {
   "cell_type": "markdown",
   "metadata": {},
   "source": [
    "## Load Data"
   ]
  },
  {
   "cell_type": "code",
   "execution_count": 30,
   "metadata": {
    "collapsed": false
   },
   "outputs": [],
   "source": [
    "raw_data_frame = load_data_frames()\n",
    "sectors = ['consumerDiscrete', 'consumerStaples', 'industrials']"
   ]
  },
  {
   "cell_type": "markdown",
   "metadata": {},
   "source": [
    "Our exploratory data anlaysis led us to discover that our models would be more effective after transforming some of the columns. Specifically those columns that represent monetary values as well as a few others."
   ]
  },
  {
   "cell_type": "code",
   "execution_count": 36,
   "metadata": {
    "collapsed": false
   },
   "outputs": [
    {
     "name": "stdout",
     "output_type": "stream",
     "text": [
      "(0, 't_rev')\n",
      "(1, 'ebitda')\n",
      "(2, 'ebitda_margin')\n",
      "(3, 't_ev/ebitda')\n",
      "(4, 'est_ann_rev_gr_1yr')\n",
      "(5, 'est_ann_ebitda_gr_1yr')\n",
      "(6, 't_rev_1yr_growth')\n",
      "(7, 'ebitda_1yr_growth')\n",
      "(8, 't_rev_3_yr_cagr')\n",
      "(9, 'ebitda_3yr_cagr')\n",
      "(10, 't_rev_5yr_cagr')\n",
      "(11, 'ebitda_5yr_cagr')\n",
      "(12, 'return_on_assets')\n",
      "(13, 'return_on_equity')\n",
      "(14, 'capex_as_percent_rev')\n",
      "(15, 'ebitda/interest_exp')\n",
      "(16, 't_debt/cap_percent')\n",
      "(17, 't_debt/equity_percent')\n"
     ]
    }
   ],
   "source": [
    "for i in range(len(raw_data_frame[0].columns)):\n",
    "    print(i, raw_data_frame[0].columns[i])"
   ]
  },
  {
   "cell_type": "code",
   "execution_count": 32,
   "metadata": {
    "collapsed": false
   },
   "outputs": [
    {
     "name": "stdout",
     "output_type": "stream",
     "text": [
      "['t_ev', 't_rev', 'ebitda', 't_ev/ebitda', 'capex_as_percent_rev', 'ebitda/interest_exp', 't_debt/cap_percent', 't_debt/equity_percent']\n"
     ]
    }
   ],
   "source": [
    "log_transform_columns =  [0, 1, 2, 5, 16, 17, 18, 19]\n",
    "log_transform_col_names = []\n",
    "for col in log_transform_columns:\n",
    "    log_transform_col_names.append(raw_data_frame[0].columns[col])\n",
    "print log_transform_col_names"
   ]
  },
  {
   "cell_type": "markdown",
   "metadata": {},
   "source": [
    "We need to actually modify the data for the columns we discovered.  \n",
    "**Note:** Because we do the following process in place it is important that the line is not run twice."
   ]
  },
  {
   "cell_type": "code",
   "execution_count": 33,
   "metadata": {
    "collapsed": true
   },
   "outputs": [],
   "source": [
    "# log-transform inplace\n",
    "for i in range(len(sectors)):\n",
    "    raw_data_frame[i][log_transform_col_names] = raw_data_frame[i][log_transform_col_names].apply(np.log10)"
   ]
  },
  {
   "cell_type": "markdown",
   "metadata": {},
   "source": [
    "In order to handle missing data we fill in cells the with mean for the column"
   ]
  },
  {
   "cell_type": "code",
   "execution_count": 34,
   "metadata": {
    "collapsed": true
   },
   "outputs": [],
   "source": [
    "for i in range(len(sectors)):\n",
    "    raw_data_frame[i].fillna(raw_data_frame[i].mean(), inplace=True)"
   ]
  },
  {
   "cell_type": "markdown",
   "metadata": {
    "collapsed": true
   },
   "source": [
    "## Prepare the data for ML models\n",
    "\n",
    "- Target: 't_ev/ebitda'\n",
    "- Discard 't_ev'\n",
    "\n",
    "From pearson correlation heatmap, we see that target variable is not strongly linearly associated with other features. Therefore, the nonlinear methods, like tree-based methods, or SVM with nonlinear kernels will outperform. However, one thing to notice is that our final goal is not to predict the target value but rather to understand the complex relationship between ev/ebitda and other features. We shall try various methods  \n",
    "  \n",
    "We chose to discared the feature t_ev and t_ev/t_rev because we believe it will not be known for a private company"
   ]
  },
  {
   "cell_type": "code",
   "execution_count": 39,
   "metadata": {
    "collapsed": false
   },
   "outputs": [
    {
     "ename": "ValueError",
     "evalue": "labels ['t_ev'] not contained in axis",
     "output_type": "error",
     "traceback": [
      "\u001b[0;31m---------------------------------------------------------------------------\u001b[0m",
      "\u001b[0;31mValueError\u001b[0m                                Traceback (most recent call last)",
      "\u001b[0;32m<ipython-input-39-4e86975938fc>\u001b[0m in \u001b[0;36m<module>\u001b[0;34m()\u001b[0m\n\u001b[1;32m      1\u001b[0m \u001b[0;31m# drop 't_ev' columns\u001b[0m\u001b[0;34m\u001b[0m\u001b[0;34m\u001b[0m\u001b[0m\n\u001b[1;32m      2\u001b[0m \u001b[0;32mfor\u001b[0m \u001b[0mi\u001b[0m \u001b[0;32min\u001b[0m \u001b[0mrange\u001b[0m\u001b[0;34m(\u001b[0m\u001b[0mlen\u001b[0m\u001b[0;34m(\u001b[0m\u001b[0msectors\u001b[0m\u001b[0;34m)\u001b[0m\u001b[0;34m)\u001b[0m\u001b[0;34m:\u001b[0m\u001b[0;34m\u001b[0m\u001b[0m\n\u001b[0;32m----> 3\u001b[0;31m     \u001b[0mraw_data_frame\u001b[0m\u001b[0;34m[\u001b[0m\u001b[0mi\u001b[0m\u001b[0;34m]\u001b[0m\u001b[0;34m.\u001b[0m\u001b[0mdrop\u001b[0m\u001b[0;34m(\u001b[0m\u001b[0;34m't_ev'\u001b[0m\u001b[0;34m,\u001b[0m \u001b[0maxis\u001b[0m\u001b[0;34m=\u001b[0m\u001b[0;36m1\u001b[0m\u001b[0;34m,\u001b[0m \u001b[0minplace\u001b[0m\u001b[0;34m=\u001b[0m\u001b[0mTrue\u001b[0m\u001b[0;34m)\u001b[0m\u001b[0;34m\u001b[0m\u001b[0m\n\u001b[0m\u001b[1;32m      4\u001b[0m     \u001b[0mraw_data_frame\u001b[0m\u001b[0;34m[\u001b[0m\u001b[0mi\u001b[0m\u001b[0;34m]\u001b[0m\u001b[0;34m.\u001b[0m\u001b[0mdrop\u001b[0m\u001b[0;34m(\u001b[0m\u001b[0;34m't_ev/t_rev'\u001b[0m\u001b[0;34m,\u001b[0m \u001b[0maxis\u001b[0m\u001b[0;34m=\u001b[0m\u001b[0;36m1\u001b[0m\u001b[0;34m,\u001b[0m \u001b[0minplace\u001b[0m\u001b[0;34m=\u001b[0m\u001b[0mTrue\u001b[0m\u001b[0;34m)\u001b[0m\u001b[0;34m\u001b[0m\u001b[0m\n",
      "\u001b[0;32m/Users/KovalcikM/anaconda/lib/python2.7/site-packages/pandas/core/generic.pyc\u001b[0m in \u001b[0;36mdrop\u001b[0;34m(self, labels, axis, level, inplace, errors)\u001b[0m\n\u001b[1;32m   1875\u001b[0m                 \u001b[0mnew_axis\u001b[0m \u001b[0;34m=\u001b[0m \u001b[0maxis\u001b[0m\u001b[0;34m.\u001b[0m\u001b[0mdrop\u001b[0m\u001b[0;34m(\u001b[0m\u001b[0mlabels\u001b[0m\u001b[0;34m,\u001b[0m \u001b[0mlevel\u001b[0m\u001b[0;34m=\u001b[0m\u001b[0mlevel\u001b[0m\u001b[0;34m,\u001b[0m \u001b[0merrors\u001b[0m\u001b[0;34m=\u001b[0m\u001b[0merrors\u001b[0m\u001b[0;34m)\u001b[0m\u001b[0;34m\u001b[0m\u001b[0m\n\u001b[1;32m   1876\u001b[0m             \u001b[0;32melse\u001b[0m\u001b[0;34m:\u001b[0m\u001b[0;34m\u001b[0m\u001b[0m\n\u001b[0;32m-> 1877\u001b[0;31m                 \u001b[0mnew_axis\u001b[0m \u001b[0;34m=\u001b[0m \u001b[0maxis\u001b[0m\u001b[0;34m.\u001b[0m\u001b[0mdrop\u001b[0m\u001b[0;34m(\u001b[0m\u001b[0mlabels\u001b[0m\u001b[0;34m,\u001b[0m \u001b[0merrors\u001b[0m\u001b[0;34m=\u001b[0m\u001b[0merrors\u001b[0m\u001b[0;34m)\u001b[0m\u001b[0;34m\u001b[0m\u001b[0m\n\u001b[0m\u001b[1;32m   1878\u001b[0m             \u001b[0mdropped\u001b[0m \u001b[0;34m=\u001b[0m \u001b[0mself\u001b[0m\u001b[0;34m.\u001b[0m\u001b[0mreindex\u001b[0m\u001b[0;34m(\u001b[0m\u001b[0;34m**\u001b[0m\u001b[0;34m{\u001b[0m\u001b[0maxis_name\u001b[0m\u001b[0;34m:\u001b[0m \u001b[0mnew_axis\u001b[0m\u001b[0;34m}\u001b[0m\u001b[0;34m)\u001b[0m\u001b[0;34m\u001b[0m\u001b[0m\n\u001b[1;32m   1879\u001b[0m             \u001b[0;32mtry\u001b[0m\u001b[0;34m:\u001b[0m\u001b[0;34m\u001b[0m\u001b[0m\n",
      "\u001b[0;32m/Users/KovalcikM/anaconda/lib/python2.7/site-packages/pandas/indexes/base.pyc\u001b[0m in \u001b[0;36mdrop\u001b[0;34m(self, labels, errors)\u001b[0m\n\u001b[1;32m   3049\u001b[0m             \u001b[0;32mif\u001b[0m \u001b[0merrors\u001b[0m \u001b[0;34m!=\u001b[0m \u001b[0;34m'ignore'\u001b[0m\u001b[0;34m:\u001b[0m\u001b[0;34m\u001b[0m\u001b[0m\n\u001b[1;32m   3050\u001b[0m                 raise ValueError('labels %s not contained in axis' %\n\u001b[0;32m-> 3051\u001b[0;31m                                  labels[mask])\n\u001b[0m\u001b[1;32m   3052\u001b[0m             \u001b[0mindexer\u001b[0m \u001b[0;34m=\u001b[0m \u001b[0mindexer\u001b[0m\u001b[0;34m[\u001b[0m\u001b[0;34m~\u001b[0m\u001b[0mmask\u001b[0m\u001b[0;34m]\u001b[0m\u001b[0;34m\u001b[0m\u001b[0m\n\u001b[1;32m   3053\u001b[0m         \u001b[0;32mreturn\u001b[0m \u001b[0mself\u001b[0m\u001b[0;34m.\u001b[0m\u001b[0mdelete\u001b[0m\u001b[0;34m(\u001b[0m\u001b[0mindexer\u001b[0m\u001b[0;34m)\u001b[0m\u001b[0;34m\u001b[0m\u001b[0m\n",
      "\u001b[0;31mValueError\u001b[0m: labels ['t_ev'] not contained in axis"
     ]
    }
   ],
   "source": [
    "# drop 't_ev' columns\n",
    "for i in range(len(sectors)):\n",
    "    raw_data_frame[i].drop('t_ev', axis=1, inplace=True)\n",
    "    raw_data_frame[i].drop('t_ev/t_rev', axis=1, inplace=True)"
   ]
  },
  {
   "cell_type": "code",
   "execution_count": 40,
   "metadata": {
    "collapsed": false
   },
   "outputs": [
    {
     "name": "stdout",
     "output_type": "stream",
     "text": [
      "Let's look at consumerDiscrete\n"
     ]
    }
   ],
   "source": [
    "print(\"Let's look at \" + sectors[0])\n",
    "cur_df = raw_data_frame[0]"
   ]
  },
  {
   "cell_type": "code",
   "execution_count": 43,
   "metadata": {
    "collapsed": false
   },
   "outputs": [
    {
     "data": {
      "text/html": [
       "<div>\n",
       "<table border=\"1\" class=\"dataframe\">\n",
       "  <thead>\n",
       "    <tr style=\"text-align: right;\">\n",
       "      <th></th>\n",
       "      <th>t_rev</th>\n",
       "      <th>ebitda</th>\n",
       "      <th>ebitda_margin</th>\n",
       "      <th>est_ann_rev_gr_1yr</th>\n",
       "      <th>est_ann_ebitda_gr_1yr</th>\n",
       "      <th>t_rev_1yr_growth</th>\n",
       "      <th>ebitda_1yr_growth</th>\n",
       "      <th>t_rev_3_yr_cagr</th>\n",
       "      <th>ebitda_3yr_cagr</th>\n",
       "      <th>t_rev_5yr_cagr</th>\n",
       "      <th>ebitda_5yr_cagr</th>\n",
       "      <th>return_on_assets</th>\n",
       "      <th>return_on_equity</th>\n",
       "      <th>capex_as_percent_rev</th>\n",
       "      <th>ebitda/interest_exp</th>\n",
       "      <th>t_debt/cap_percent</th>\n",
       "      <th>t_debt/equity_percent</th>\n",
       "    </tr>\n",
       "  </thead>\n",
       "  <tbody>\n",
       "    <tr>\n",
       "      <th>0</th>\n",
       "      <td>3.075182</td>\n",
       "      <td>1.897077</td>\n",
       "      <td>6.64</td>\n",
       "      <td>4.540000</td>\n",
       "      <td>16.700000</td>\n",
       "      <td>2.06000</td>\n",
       "      <td>-0.852000</td>\n",
       "      <td>16.400000</td>\n",
       "      <td>19.400000</td>\n",
       "      <td>11.200000</td>\n",
       "      <td>18.700000</td>\n",
       "      <td>4.600000</td>\n",
       "      <td>9.900000</td>\n",
       "      <td>0.460898</td>\n",
       "      <td>1.103804</td>\n",
       "      <td>1.513218</td>\n",
       "      <td>1.685742</td>\n",
       "    </tr>\n",
       "    <tr>\n",
       "      <th>1</th>\n",
       "      <td>2.426511</td>\n",
       "      <td>0.772322</td>\n",
       "      <td>2.22</td>\n",
       "      <td>7.132813</td>\n",
       "      <td>17.742803</td>\n",
       "      <td>-1.93000</td>\n",
       "      <td>13.234825</td>\n",
       "      <td>-4.040000</td>\n",
       "      <td>-34.500000</td>\n",
       "      <td>-10.600000</td>\n",
       "      <td>-28.900000</td>\n",
       "      <td>-1.570000</td>\n",
       "      <td>-12.200000</td>\n",
       "      <td>0.444045</td>\n",
       "      <td>1.004171</td>\n",
       "      <td>1.561461</td>\n",
       "      <td>1.781483</td>\n",
       "    </tr>\n",
       "    <tr>\n",
       "      <th>2</th>\n",
       "      <td>3.509740</td>\n",
       "      <td>2.665393</td>\n",
       "      <td>14.30</td>\n",
       "      <td>1.480000</td>\n",
       "      <td>4.270000</td>\n",
       "      <td>4.08000</td>\n",
       "      <td>4.980000</td>\n",
       "      <td>13.000000</td>\n",
       "      <td>9.600000</td>\n",
       "      <td>10.300000</td>\n",
       "      <td>11.200000</td>\n",
       "      <td>9.930000</td>\n",
       "      <td>9.950000</td>\n",
       "      <td>0.278754</td>\n",
       "      <td>1.281033</td>\n",
       "      <td>1.489958</td>\n",
       "      <td>1.650308</td>\n",
       "    </tr>\n",
       "    <tr>\n",
       "      <th>3</th>\n",
       "      <td>3.531900</td>\n",
       "      <td>2.415808</td>\n",
       "      <td>7.65</td>\n",
       "      <td>-5.230000</td>\n",
       "      <td>-36.900000</td>\n",
       "      <td>-3.46000</td>\n",
       "      <td>-19.200000</td>\n",
       "      <td>-7.400000</td>\n",
       "      <td>-21.700000</td>\n",
       "      <td>-3.080000</td>\n",
       "      <td>-15.300000</td>\n",
       "      <td>1.560000</td>\n",
       "      <td>1.330000</td>\n",
       "      <td>0.609594</td>\n",
       "      <td>1.060698</td>\n",
       "      <td>1.311754</td>\n",
       "      <td>1.411620</td>\n",
       "    </tr>\n",
       "    <tr>\n",
       "      <th>4</th>\n",
       "      <td>3.191898</td>\n",
       "      <td>2.244277</td>\n",
       "      <td>11.30</td>\n",
       "      <td>7.132813</td>\n",
       "      <td>17.742803</td>\n",
       "      <td>331.70347</td>\n",
       "      <td>13.234825</td>\n",
       "      <td>12.670764</td>\n",
       "      <td>8.528391</td>\n",
       "      <td>8.063843</td>\n",
       "      <td>7.665472</td>\n",
       "      <td>6.344578</td>\n",
       "      <td>14.769923</td>\n",
       "      <td>0.187521</td>\n",
       "      <td>0.481443</td>\n",
       "      <td>1.857332</td>\n",
       "      <td>2.411114</td>\n",
       "    </tr>\n",
       "  </tbody>\n",
       "</table>\n",
       "</div>"
      ],
      "text/plain": [
       "      t_rev    ebitda  ebitda_margin  est_ann_rev_gr_1yr  \\\n",
       "0  3.075182  1.897077           6.64            4.540000   \n",
       "1  2.426511  0.772322           2.22            7.132813   \n",
       "2  3.509740  2.665393          14.30            1.480000   \n",
       "3  3.531900  2.415808           7.65           -5.230000   \n",
       "4  3.191898  2.244277          11.30            7.132813   \n",
       "\n",
       "   est_ann_ebitda_gr_1yr  t_rev_1yr_growth  ebitda_1yr_growth  \\\n",
       "0              16.700000           2.06000          -0.852000   \n",
       "1              17.742803          -1.93000          13.234825   \n",
       "2               4.270000           4.08000           4.980000   \n",
       "3             -36.900000          -3.46000         -19.200000   \n",
       "4              17.742803         331.70347          13.234825   \n",
       "\n",
       "   t_rev_3_yr_cagr  ebitda_3yr_cagr  t_rev_5yr_cagr  ebitda_5yr_cagr  \\\n",
       "0        16.400000        19.400000       11.200000        18.700000   \n",
       "1        -4.040000       -34.500000      -10.600000       -28.900000   \n",
       "2        13.000000         9.600000       10.300000        11.200000   \n",
       "3        -7.400000       -21.700000       -3.080000       -15.300000   \n",
       "4        12.670764         8.528391        8.063843         7.665472   \n",
       "\n",
       "   return_on_assets  return_on_equity  capex_as_percent_rev  \\\n",
       "0          4.600000          9.900000              0.460898   \n",
       "1         -1.570000        -12.200000              0.444045   \n",
       "2          9.930000          9.950000              0.278754   \n",
       "3          1.560000          1.330000              0.609594   \n",
       "4          6.344578         14.769923              0.187521   \n",
       "\n",
       "   ebitda/interest_exp  t_debt/cap_percent  t_debt/equity_percent  \n",
       "0             1.103804            1.513218               1.685742  \n",
       "1             1.004171            1.561461               1.781483  \n",
       "2             1.281033            1.489958               1.650308  \n",
       "3             1.060698            1.311754               1.411620  \n",
       "4             0.481443            1.857332               2.411114  "
      ]
     },
     "execution_count": 43,
     "metadata": {},
     "output_type": "execute_result"
    }
   ],
   "source": [
    "y = cur_df['t_ev/ebitda']\n",
    "X = cur_df.drop('t_ev/ebitda', axis=1)\n",
    "X.head()"
   ]
  },
  {
   "cell_type": "markdown",
   "metadata": {},
   "source": [
    "It is common practice in Machine Learning to use inputs of mean = 0 and standard deviation = 1. This way the impact of the features can be compared head to head. The scale() function below does this transformation"
   ]
  },
  {
   "cell_type": "code",
   "execution_count": 49,
   "metadata": {
    "collapsed": true
   },
   "outputs": [],
   "source": [
    "from sklearn.preprocessing import scale\n",
    "X_scale = scale(X)"
   ]
  },
  {
   "cell_type": "code",
   "execution_count": 51,
   "metadata": {
    "collapsed": false
   },
   "outputs": [],
   "source": [
    "from sklearn.model_selection import cross_val_score\n",
    "from sklearn.linear_model import LinearRegression\n",
    "from sklearn import metrics\n",
    "\n",
    "# ols_model = LinearRegression(normalize=True)\n",
    "# scores = cross_val_score(ols_model, X_scale, y, cv=5, scoring=\"neg_mean_squared_error\")"
   ]
  },
  {
   "cell_type": "markdown",
   "metadata": {},
   "source": [
    "We start by trying two variations of Linear Regression. These variations are very common and are known as Lasso Regression and Ridge Regression. The basic idea is that by imposing certain penalties onto normal linear regression we can find a better model. However, inorder to find the optimal impact of the penatly term (alpha) we must test a series of options and choose the one that performs best. This procedure for doing this is called cross validation, a very common machine learning technique for selecting penalty terms and other \"hyper parameters\". "
   ]
  },
  {
   "cell_type": "code",
   "execution_count": 81,
   "metadata": {
    "collapsed": false
   },
   "outputs": [
    {
     "name": "stdout",
     "output_type": "stream",
     "text": [
      "Average MSE (alpha = 0.005): 0.0660 (+/- 0.0139)\n"
     ]
    },
    {
     "data": {
      "image/png": "[encoded data removed]",
      "text/plain": [
       "<matplotlib.figure.Figure at 0x115ab66d0>"
      ]
     },
     "metadata": {},
     "output_type": "display_data"
    }
   ],
   "source": [
    "lasso_model = Lasso()\n",
    "alphas         = [ 1e-5, 1e-4, 1e-3, 5e-3, 1e-2, 5e-2, 1e-1, 1, 10, 100 ]\n",
    "lasso_mses     = []\n",
    "lasso_avg_mses = []\n",
    "lasso_std_mses = []\n",
    "\n",
    "for alpha in alphas:\n",
    "    lasso_model.alpha = alpha\n",
    "    scores = cross_val_score(lasso_model, X_scale, y, scoring='neg_mean_squared_error', cv=5)\n",
    "    lasso_mses.append( scores*-1 )\n",
    "    lasso_avg_mses.append( -scores.mean() )\n",
    "    lasso_std_mses.append( scores.std() )\n",
    "\n",
    "# Plot Hyperparameter Selection\n",
    "plt.semilogx( alphas, lasso_avg_mses )\n",
    "plt.title('Lasso - MSE vs Alpha')\n",
    "plt.xlabel('Alpha')\n",
    "plt.ylabel('MSE')\n",
    "\n",
    "min_mse = min(lasso_avg_mses)\n",
    "min_mse_index = lasso_avg_mses.index(min(lasso_avg_mses))\n",
    "min_std_index = lasso_std_mses.index(min(lasso_std_mses))\n",
    "\n",
    "if min_mse_index == min_std_index:\n",
    "    best_index = min_mse_index\n",
    "else:\n",
    "    if abs(lasso_avg_mses[min_mse_index] - lasso_avg_mses[min_std_index]) < 0.01*lasso_avg_mses[min_mse_index]:\n",
    "        best_index = min_std_index    \n",
    "    else:\n",
    "        best_index = min_mse_index\n",
    "            \n",
    "    \n",
    "\n",
    "print(\"Average MSE (alpha = %0.3f): %0.4f (+/- %0.4f)\" % (alphas[best_index],lasso_avg_mses[best_index], lasso_std_mses[best_index]))"
   ]
  },
  {
   "cell_type": "markdown",
   "metadata": {},
   "source": [
    "The whole purpose of the above is to find the optimal alpha (the penalty). For each different alpha the model has a different performance. In the plot above we are measuring the mean squared error of the model for each alpha we tested. The lower the error the better the alpha. Alpha in this case was selected to be 0.005  \n",
    "  \n",
    "Now we are going to perform the same cross validation procedue to find the optimal alpha for Ridge Regression."
   ]
  },
  {
   "cell_type": "code",
   "execution_count": 85,
   "metadata": {
    "collapsed": false
   },
   "outputs": [
    {
     "name": "stdout",
     "output_type": "stream",
     "text": [
      "Average MSE (alpha = 100.000): 0.0654 (+/- 0.0142)\n"
     ]
    },
    {
     "data": {
      "image/png": "[encoded data removed]",
      "text/plain": [
       "<matplotlib.figure.Figure at 0x117fa3a90>"
      ]
     },
     "metadata": {},
     "output_type": "display_data"
    }
   ],
   "source": [
    "ridge_model = Ridge()\n",
    "alphas         = [ 1e-5, 1e-4, 1e-3, 1e-2, 1e-1, 1, 10, 100,1000 ]\n",
    "ridge_mses     = []\n",
    "ridge_avg_mses = []\n",
    "ridge_std_mses = []\n",
    "\n",
    "for alpha in alphas:\n",
    "    ridge_model.alpha = alpha\n",
    "    scores = cross_val_score(ridge_model, X_scale, y, scoring='neg_mean_squared_error', cv=5)\n",
    "    ridge_mses.append( scores*-1 )\n",
    "    ridge_avg_mses.append( -scores.mean() )\n",
    "    ridge_std_mses.append( scores.std() )\n",
    "\n",
    "# Plot Hyperparameter Selection\n",
    "plt.semilogx( alphas, ridge_avg_mses )\n",
    "plt.title('Ridge - MSE vs Alpha')\n",
    "plt.xlabel('Alpha')\n",
    "plt.ylabel('MSE')\n",
    "\n",
    "\n",
    "\n",
    "min_mse = min(ridge_avg_mses)\n",
    "min_mse_index = ridge_avg_mses.index(min(ridge_avg_mses))\n",
    "min_std_index = ridge_std_mses.index(min(ridge_std_mses))\n",
    "\n",
    "if min_mse_index == min_std_index:\n",
    "    best_index = min_mse_index\n",
    "else:\n",
    "    if abs(lasso_avg_mses[min_mse_index] - lasso_avg_mses[min_std_index]) < 0.01*lasso_avg_mses[min_mse_index]:\n",
    "        best_index = min_std_index    \n",
    "    else:\n",
    "        best_index = min_mse_index\n",
    "\n",
    "# print('MSEs (alpha = 1e-2):', lasso_mses[3]*-1)\n",
    "print(\"Average MSE (alpha = %0.3f): %0.4f (+/- %0.4f)\" % (alphas[best_index],ridge_avg_mses[best_index], ridge_std_mses[best_index]))"
   ]
  },
  {
   "cell_type": "markdown",
   "metadata": {},
   "source": [
    "For Ridge Regression we found the model to perform best with an alpha = 100"
   ]
  },
  {
   "cell_type": "code",
   "execution_count": null,
   "metadata": {
    "collapsed": true
   },
   "outputs": [],
   "source": []
  }
 ],
 "metadata": {
  "anaconda-cloud": {},
  "kernelspec": {
   "display_name": "Python [Root]",
   "language": "python",
   "name": "Python [Root]"
  },
  "language_info": {
   "codemirror_mode": {
    "name": "ipython",
    "version": 2
   },
   "file_extension": ".py",
   "mimetype": "text/x-python",
   "name": "python",
   "nbconvert_exporter": "python",
   "pygments_lexer": "ipython2",
   "version": "2.7.12"
  }
 },
 "nbformat": 4,
 "nbformat_minor": 0
}
