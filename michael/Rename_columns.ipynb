{
 "cells": [
  {
   "cell_type": "code",
   "execution_count": 1,
   "metadata": {
    "collapsed": true
   },
   "outputs": [],
   "source": [
    "%matplotlib inline\n",
    "import pandas as pd\n",
    "import numpy as np\n",
    "import matplotlib.pylab as plt\n",
    "import seaborn as sns"
   ]
  },
  {
   "cell_type": "code",
   "execution_count": 2,
   "metadata": {
    "collapsed": true
   },
   "outputs": [],
   "source": [
    "df_consumer = pd.read_excel('./data/U of M Student Data - Consumer Discretionary .xlsx', \n",
    "                           skiprows=7)"
   ]
  },
  {
   "cell_type": "code",
   "execution_count": 3,
   "metadata": {
    "collapsed": false
   },
   "outputs": [
    {
     "data": {
      "text/html": [
       "<div>\n",
       "<table border=\"1\" class=\"dataframe\">\n",
       "  <thead>\n",
       "    <tr style=\"text-align: right;\">\n",
       "      <th></th>\n",
       "      <th>Company Name</th>\n",
       "      <th>Exchange:Ticker</th>\n",
       "      <th>Industry Classifications</th>\n",
       "      <th>Company Type</th>\n",
       "      <th>Geographic Locations</th>\n",
       "      <th>Total Enterprise Value [My Setting] [12/31/2016] ($USDmm, Historical rate)</th>\n",
       "      <th>Total Revenue [LTM] ($USDmm, Historical rate)</th>\n",
       "      <th>EBITDA [LTM] ($USDmm, Historical rate)</th>\n",
       "      <th>EBITDA Margin % [LTM]</th>\n",
       "      <th>TEV/LTM Total Revenues [My Setting] [LTM as of 12/31/2016] (x)</th>\n",
       "      <th>...</th>\n",
       "      <th>Total Revenues, 3 Yr CAGR % [LTM] (%)</th>\n",
       "      <th>EBITDA, 3 Yr CAGR % [LTM] (%)</th>\n",
       "      <th>Total Revenues, 5 Yr CAGR % [LTM] (%)</th>\n",
       "      <th>EBITDA, 5 Yr CAGR % [LTM] (%)</th>\n",
       "      <th>Return on Assets % [LTM]</th>\n",
       "      <th>Return on Equity % [LTM]</th>\n",
       "      <th>Capex as % of Revenues [Latest Annual] (%)</th>\n",
       "      <th>EBITDA / Interest Exp. [LTM]</th>\n",
       "      <th>Total Debt/Capital % [Latest Annual]</th>\n",
       "      <th>Total Debt/Equity % [Latest Annual]</th>\n",
       "    </tr>\n",
       "  </thead>\n",
       "  <tbody>\n",
       "    <tr>\n",
       "      <th>0</th>\n",
       "      <td>1-800-FLOWERS.COM, Inc. (NasdaqGS:FLWS)</td>\n",
       "      <td>NasdaqGS:FLWS</td>\n",
       "      <td>Consumer Discretionary (Primary)</td>\n",
       "      <td>Public Company</td>\n",
       "      <td>United States of America (Primary)</td>\n",
       "      <td>927.6</td>\n",
       "      <td>1189.0</td>\n",
       "      <td>78.90</td>\n",
       "      <td>6.64</td>\n",
       "      <td>0.784</td>\n",
       "      <td>...</td>\n",
       "      <td>16.4</td>\n",
       "      <td>19.4</td>\n",
       "      <td>11.2</td>\n",
       "      <td>18.7</td>\n",
       "      <td>4.6</td>\n",
       "      <td>9.9</td>\n",
       "      <td>2.89</td>\n",
       "      <td>12.7</td>\n",
       "      <td>32.6</td>\n",
       "      <td>48.5</td>\n",
       "    </tr>\n",
       "    <tr>\n",
       "      <th>1</th>\n",
       "      <td>A.H. Belo Corporation (NYSE:AHC)</td>\n",
       "      <td>NYSE:AHC</td>\n",
       "      <td>Consumer Discretionary (Primary)</td>\n",
       "      <td>Public Company</td>\n",
       "      <td>United States of America (Primary)</td>\n",
       "      <td>61.9</td>\n",
       "      <td>267.0</td>\n",
       "      <td>5.92</td>\n",
       "      <td>2.22</td>\n",
       "      <td>0.232</td>\n",
       "      <td>...</td>\n",
       "      <td>-4.04</td>\n",
       "      <td>-34.5</td>\n",
       "      <td>-10.6</td>\n",
       "      <td>-28.9</td>\n",
       "      <td>-1.57</td>\n",
       "      <td>-12.2</td>\n",
       "      <td>2.78</td>\n",
       "      <td>-</td>\n",
       "      <td>-</td>\n",
       "      <td>-</td>\n",
       "    </tr>\n",
       "    <tr>\n",
       "      <th>2</th>\n",
       "      <td>Aaron's, Inc. (NYSE:AAN)</td>\n",
       "      <td>NYSE:AAN</td>\n",
       "      <td>Consumer Discretionary (Primary)</td>\n",
       "      <td>Public Company</td>\n",
       "      <td>United States of America (Primary)</td>\n",
       "      <td>2461.3</td>\n",
       "      <td>3234.0</td>\n",
       "      <td>462.80</td>\n",
       "      <td>14.30</td>\n",
       "      <td>0.761</td>\n",
       "      <td>...</td>\n",
       "      <td>13</td>\n",
       "      <td>9.6</td>\n",
       "      <td>10.3</td>\n",
       "      <td>11.2</td>\n",
       "      <td>9.93</td>\n",
       "      <td>9.95</td>\n",
       "      <td>1.9</td>\n",
       "      <td>19.1</td>\n",
       "      <td>30.9</td>\n",
       "      <td>44.7</td>\n",
       "    </tr>\n",
       "  </tbody>\n",
       "</table>\n",
       "<p>3 rows × 25 columns</p>\n",
       "</div>"
      ],
      "text/plain": [
       "                              Company Name Exchange:Ticker  \\\n",
       "0  1-800-FLOWERS.COM, Inc. (NasdaqGS:FLWS)   NasdaqGS:FLWS   \n",
       "1         A.H. Belo Corporation (NYSE:AHC)        NYSE:AHC   \n",
       "2                 Aaron's, Inc. (NYSE:AAN)        NYSE:AAN   \n",
       "\n",
       "           Industry Classifications    Company Type  \\\n",
       "0  Consumer Discretionary (Primary)  Public Company   \n",
       "1  Consumer Discretionary (Primary)  Public Company   \n",
       "2  Consumer Discretionary (Primary)  Public Company   \n",
       "\n",
       "                 Geographic Locations  \\\n",
       "0  United States of America (Primary)   \n",
       "1  United States of America (Primary)   \n",
       "2  United States of America (Primary)   \n",
       "\n",
       "  Total Enterprise Value [My Setting] [12/31/2016] ($USDmm, Historical rate)  \\\n",
       "0                                              927.6                           \n",
       "1                                               61.9                           \n",
       "2                                             2461.3                           \n",
       "\n",
       "   Total Revenue [LTM] ($USDmm, Historical rate)  \\\n",
       "0                                         1189.0   \n",
       "1                                          267.0   \n",
       "2                                         3234.0   \n",
       "\n",
       "   EBITDA [LTM] ($USDmm, Historical rate)  EBITDA Margin % [LTM]  \\\n",
       "0                                   78.90                   6.64   \n",
       "1                                    5.92                   2.22   \n",
       "2                                  462.80                  14.30   \n",
       "\n",
       "   TEV/LTM Total Revenues [My Setting] [LTM as of 12/31/2016] (x)  \\\n",
       "0                                              0.784                \n",
       "1                                              0.232                \n",
       "2                                              0.761                \n",
       "\n",
       "                  ...                  Total Revenues, 3 Yr CAGR % [LTM] (%)  \\\n",
       "0                 ...                                                   16.4   \n",
       "1                 ...                                                  -4.04   \n",
       "2                 ...                                                     13   \n",
       "\n",
       "  EBITDA, 3 Yr CAGR % [LTM] (%) Total Revenues, 5 Yr CAGR % [LTM] (%)  \\\n",
       "0                          19.4                                  11.2   \n",
       "1                         -34.5                                 -10.6   \n",
       "2                           9.6                                  10.3   \n",
       "\n",
       "  EBITDA, 5 Yr CAGR % [LTM] (%) Return on Assets % [LTM]  \\\n",
       "0                          18.7                      4.6   \n",
       "1                         -28.9                    -1.57   \n",
       "2                          11.2                     9.93   \n",
       "\n",
       "  Return on Equity % [LTM] Capex as % of Revenues [Latest Annual] (%)  \\\n",
       "0                      9.9                                       2.89   \n",
       "1                    -12.2                                       2.78   \n",
       "2                     9.95                                        1.9   \n",
       "\n",
       "  EBITDA / Interest Exp. [LTM] Total Debt/Capital % [Latest Annual]  \\\n",
       "0                         12.7                                 32.6   \n",
       "1                            -                                    -   \n",
       "2                         19.1                                 30.9   \n",
       "\n",
       "  Total Debt/Equity % [Latest Annual]  \n",
       "0                                48.5  \n",
       "1                                   -  \n",
       "2                                44.7  \n",
       "\n",
       "[3 rows x 25 columns]"
      ]
     },
     "execution_count": 3,
     "metadata": {},
     "output_type": "execute_result"
    }
   ],
   "source": [
    "# overview of the data\n",
    "df_consumer.head(3)"
   ]
  },
  {
   "cell_type": "code",
   "execution_count": 4,
   "metadata": {
    "collapsed": false
   },
   "outputs": [
    {
     "name": "stdout",
     "output_type": "stream",
     "text": [
      "excel sheet shape:  (513, 25)\n",
      "columns name:  [u'Company Name', u'Exchange:Ticker', u'Industry Classifications', u'Company Type', u'Geographic Locations', u'Total Enterprise Value [My Setting] [12/31/2016] ($USDmm, Historical rate)', u'Total Revenue [LTM] ($USDmm, Historical rate)', u'EBITDA [LTM] ($USDmm, Historical rate)', u'EBITDA Margin % [LTM]', u'TEV/LTM Total Revenues [My Setting] [LTM as of 12/31/2016] (x)', u'TEV/LTM EBITDA [My Setting] [LTM as of 12/31/2016] (x)', u'Est. Annual Revenue Growth - 1 Yr % - Capital IQ [Latest] (%)', u'Est. Annual EBITDA Growth - 1 Yr % - Capital IQ [Latest] (%)', u'Total Revenues, 1 Yr Growth % [LTM] (%)', u'EBITDA, 1 Yr Growth % [LTM] (%)', u'Total Revenues, 3 Yr CAGR % [LTM] (%)', u'EBITDA, 3 Yr CAGR % [LTM] (%)', u'Total Revenues, 5 Yr CAGR % [LTM] (%)', u'EBITDA, 5 Yr CAGR % [LTM] (%)', u'Return on Assets % [LTM]', u'Return on Equity % [LTM]', u'Capex as % of Revenues [Latest Annual] (%)', u'EBITDA / Interest Exp. [LTM]', u'Total Debt/Capital % [Latest Annual]', u'Total Debt/Equity % [Latest Annual]']\n"
     ]
    }
   ],
   "source": [
    "df_consumer.replace('-', np.NaN, inplace=True)\n",
    "df_consumer.replace('NM', np.NaN, inplace=True)\n",
    "print 'excel sheet shape: ', df_consumer.shape\n",
    "print 'columns name: ', df_consumer.columns.tolist()"
   ]
  },
  {
   "cell_type": "code",
   "execution_count": 11,
   "metadata": {
    "collapsed": false
   },
   "outputs": [],
   "source": [
    "df_consumer.rename(columns={'Industry Classifications':'industry',\n",
    "                            'Geographic Locations':'loc',\n",
    "                            'Total Enterprise Value [My Setting] [12/31/2016] ($USDmm, Historical rate)':'t_ev',\n",
    "                            'Total Revenue [LTM] ($USDmm, Historical rate)':'t_rev',\n",
    "                            'EBITDA [LTM] ($USDmm, Historical rate)':'ebitda',\n",
    "                            'EBITDA Margin % [LTM]':'ebitda_margin',\n",
    "                            'TEV/LTM Total Revenues [My Setting] [LTM as of 12/31/2016] (x)':'t_ev/ltm',\n",
    "                            'TEV/LTM EBITDA [My Setting] [LTM as of 12/31/2016] (x)':'t_ev/ltm_ebitda',\n",
    "                            'Est. Annual Revenue Growth - 1 Yr % - Capital IQ [Latest] (%)':'est_ann_rev_gr_minus_1yr_minus_capiq',\n",
    "                            'Est. Annual EBITDA Growth - 1 Yr % - Capital IQ [Latest] (%)':'est_ann_ebitda_gr_minus_1yr_minus_capiq',\n",
    "                            'Total Revenues, 1 Yr Growth % [LTM] (%)':'t_rev_1yr_growth',\n",
    "                            'EBITDA, 1 Yr Growth % [LTM] (%)':'ebitda_1yr_gr',\n",
    "                            'Total Revenues, 3 Yr CAGR % [LTM] (%)':'t_rev_3_yr_cagr',\n",
    "                            'EBITDA, 3 Yr CAGR % [LTM] (%)':'ebitda_3yr_cagr',\n",
    "                            'Total Revenues, 5 Yr CAGR % [LTM] (%)':'t_rev_5yr_cagr',\n",
    "                            'EBITDA, 5 Yr CAGR % [LTM] (%)':'ebitda_5yr_cagr',\n",
    "                            'Return on Assets % [LTM]':'return_on_assets',\n",
    "                            'Return on Equity % [LTM]':'return_on_equity',\n",
    "                            'Capex as % of Revenues [Latest Annual] (%)':'capex/rev',\n",
    "                            'EBITDA / Interest Exp. [LTM]':'ebitda/interest_exp',\n",
    "                            'Total Debt/Capital % [Latest Annual]':'t_debt/cap',\n",
    "                            'Total Debt/Equity % [Latest Annual]':'t_debt/equity'   \n",
    "                           },inplace=True)"
   ]
  },
  {
   "cell_type": "code",
   "execution_count": 12,
   "metadata": {
    "collapsed": false
   },
   "outputs": [
    {
     "name": "stdout",
     "output_type": "stream",
     "text": [
      "excel sheet shape:  (513, 25)\n",
      "columns name:  [u'Company Name', u'Exchange:Ticker', 'industry', u'Company Type', 'loc', 't_ev', 't_rev', 'ebitda', 'ebitda_margin', 't_ev/ltm', 't_ev/ltm_ebitda', 'est_rev_gr_minus_1yr_minus_capiq', 'est_ann_ebitda_gr_minus_1yr_minus_capiq', 't_rev_1yr_growth', 'ebitda_1yr_gr', 't_rev_3_yr_cagr', 'ebitda_3yr_cagr', 't_rev_5yr_cagr', 'ebitda_5yr_cagr', 'return_on_assets', 'return_on_equity', 'capex/rev', 'ebitda/interest_exp', 't_debt/cap', 't_debt/equity']\n"
     ]
    }
   ],
   "source": [
    "print 'excel sheet shape: ', df_consumer.shape\n",
    "print 'columns name: ', df_consumer.columns.tolist()"
   ]
  },
  {
   "cell_type": "code",
   "execution_count": null,
   "metadata": {
    "collapsed": true
   },
   "outputs": [],
   "source": []
  }
 ],
 "metadata": {
  "anaconda-cloud": {},
  "kernelspec": {
   "display_name": "Python [Root]",
   "language": "python",
   "name": "Python [Root]"
  },
  "language_info": {
   "codemirror_mode": {
    "name": "ipython",
    "version": 2
   },
   "file_extension": ".py",
   "mimetype": "text/x-python",
   "name": "python",
   "nbconvert_exporter": "python",
   "pygments_lexer": "ipython2",
   "version": "2.7.12"
  }
 },
 "nbformat": 4,
 "nbformat_minor": 0
}
