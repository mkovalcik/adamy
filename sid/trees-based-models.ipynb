{
 "cells": [
  {
   "cell_type": "code",
   "execution_count": 14,
   "metadata": {
    "collapsed": true
   },
   "outputs": [],
   "source": [
    "# basic packages:\n",
    "\n",
    "%matplotlib inline\n",
    "import pandas as pd\n",
    "import numpy as np\n",
    "import matplotlib.pylab as plt\n",
    "import sys\n",
    "\n",
    "sys.path.insert( 0, '../tim')\n",
    "from get_data import *\n",
    "\n",
    "# scikit-learn modules\n",
    "from sklearn.preprocessing import scale\n",
    "from sklearn.model_selection import cross_val_score"
   ]
  },
  {
   "cell_type": "markdown",
   "metadata": {},
   "source": [
    "## Data in the log basis"
   ]
  },
  {
   "cell_type": "code",
   "execution_count": 11,
   "metadata": {
    "collapsed": true
   },
   "outputs": [],
   "source": [
    "def log_basis( feature_vector ):\n",
    "    return np.log10( feature_vector )\n",
    "\n",
    "def log_transform_features(feature_matrix, features_to_transform):\n",
    "    transformed_features  = []\n",
    "    split_features = np.split( feature_matrix, feature_matrix.shape[1], axis=1 )\n",
    "    for feature_num in list(range(len( split_features ))):\n",
    "        feature = split_features[ feature_num ]\n",
    "        if feature_num in features_to_transform:\n",
    "            feature = log_basis( feature )\n",
    "        transformed_features.append( feature )\n",
    "    concat_features_array = np.concatenate( transformed_features, axis=1 )\n",
    "    concat_features_array = scale(mean_fill_nan_entries( concat_features_array, is_df=False ))\n",
    "    return concat_features_array"
   ]
  },
  {
   "cell_type": "code",
   "execution_count": 18,
   "metadata": {
    "collapsed": false
   },
   "outputs": [
    {
     "name": "stderr",
     "output_type": "stream",
     "text": [
      "/home/siddhesh/anaconda3/lib/python3.5/site-packages/ipykernel/__main__.py:2: RuntimeWarning: invalid value encountered in log10\n",
      "  from ipykernel import kernelapp as app\n"
     ]
    }
   ],
   "source": [
    "# Load Raw Data\n",
    "raw_data_arrays = get_raw_data()\n",
    "\n",
    "# Functions to Perform Log10 Operation on Specific Feature Vectors \n",
    "features_to_transform = [0, 1, 2, 16, 17, 18, 19]\n",
    "\n",
    "# Transform Raw Data Features\n",
    "std_industrials_log_data = log_transform_features(raw_data_arrays[2], features_to_transform)"
   ]
  },
  {
   "cell_type": "markdown",
   "metadata": {},
   "source": [
    "## XGBoost"
   ]
  },
  {
   "cell_type": "code",
   "execution_count": 4,
   "metadata": {
    "collapsed": true
   },
   "outputs": [],
   "source": [
    "import xgboost as xgb"
   ]
  },
  {
   "cell_type": "code",
   "execution_count": 16,
   "metadata": {
    "collapsed": true
   },
   "outputs": [],
   "source": [
    "data = np.split( std_industrials_log_data, [1], axis=1 )\n",
    "y_data = data[0]\n",
    "x_data = data[1]"
   ]
  },
  {
   "cell_type": "code",
   "execution_count": 20,
   "metadata": {
    "collapsed": false
   },
   "outputs": [
    {
     "data": {
      "text/html": [
       "<div>\n",
       "<table border=\"1\" class=\"dataframe\">\n",
       "  <thead>\n",
       "    <tr style=\"text-align: right;\">\n",
       "      <th></th>\n",
       "      <th>test-error-mean</th>\n",
       "      <th>test-error-std</th>\n",
       "      <th>train-error-mean</th>\n",
       "      <th>train-error-std</th>\n",
       "    </tr>\n",
       "  </thead>\n",
       "  <tbody>\n",
       "    <tr>\n",
       "      <th>0</th>\n",
       "      <td>-0.319459</td>\n",
       "      <td>0.044191</td>\n",
       "      <td>-0.324352</td>\n",
       "      <td>0.011287</td>\n",
       "    </tr>\n",
       "    <tr>\n",
       "      <th>1</th>\n",
       "      <td>-0.321716</td>\n",
       "      <td>0.045634</td>\n",
       "      <td>-0.324912</td>\n",
       "      <td>0.011446</td>\n",
       "    </tr>\n",
       "    <tr>\n",
       "      <th>2</th>\n",
       "      <td>-0.321612</td>\n",
       "      <td>0.045591</td>\n",
       "      <td>-0.325274</td>\n",
       "      <td>0.011598</td>\n",
       "    </tr>\n",
       "    <tr>\n",
       "      <th>3</th>\n",
       "      <td>-0.322690</td>\n",
       "      <td>0.046075</td>\n",
       "      <td>-0.325596</td>\n",
       "      <td>0.011641</td>\n",
       "    </tr>\n",
       "    <tr>\n",
       "      <th>4</th>\n",
       "      <td>-0.323444</td>\n",
       "      <td>0.046593</td>\n",
       "      <td>-0.325682</td>\n",
       "      <td>0.011640</td>\n",
       "    </tr>\n",
       "    <tr>\n",
       "      <th>5</th>\n",
       "      <td>-0.323844</td>\n",
       "      <td>0.047094</td>\n",
       "      <td>-0.325668</td>\n",
       "      <td>0.011505</td>\n",
       "    </tr>\n",
       "    <tr>\n",
       "      <th>6</th>\n",
       "      <td>-0.323844</td>\n",
       "      <td>0.047094</td>\n",
       "      <td>-0.325717</td>\n",
       "      <td>0.011529</td>\n",
       "    </tr>\n",
       "    <tr>\n",
       "      <th>7</th>\n",
       "      <td>-0.324031</td>\n",
       "      <td>0.047033</td>\n",
       "      <td>-0.325939</td>\n",
       "      <td>0.011741</td>\n",
       "    </tr>\n",
       "    <tr>\n",
       "      <th>8</th>\n",
       "      <td>-0.323927</td>\n",
       "      <td>0.046980</td>\n",
       "      <td>-0.325914</td>\n",
       "      <td>0.011749</td>\n",
       "    </tr>\n",
       "    <tr>\n",
       "      <th>9</th>\n",
       "      <td>-0.323927</td>\n",
       "      <td>0.046980</td>\n",
       "      <td>-0.325967</td>\n",
       "      <td>0.011790</td>\n",
       "    </tr>\n",
       "  </tbody>\n",
       "</table>\n",
       "</div>"
      ],
      "text/plain": [
       "   test-error-mean  test-error-std  train-error-mean  train-error-std\n",
       "0        -0.319459        0.044191         -0.324352         0.011287\n",
       "1        -0.321716        0.045634         -0.324912         0.011446\n",
       "2        -0.321612        0.045591         -0.325274         0.011598\n",
       "3        -0.322690        0.046075         -0.325596         0.011641\n",
       "4        -0.323444        0.046593         -0.325682         0.011640\n",
       "5        -0.323844        0.047094         -0.325668         0.011505\n",
       "6        -0.323844        0.047094         -0.325717         0.011529\n",
       "7        -0.324031        0.047033         -0.325939         0.011741\n",
       "8        -0.323927        0.046980         -0.325914         0.011749\n",
       "9        -0.323927        0.046980         -0.325967         0.011790"
      ]
     },
     "execution_count": 20,
     "metadata": {},
     "output_type": "execute_result"
    }
   ],
   "source": [
    "params = {'silent':1, 'objective':'reg:linear'}\n",
    "dtrain = xbg.DMatrix(data=x_data, label=y_data)\n",
    "\n",
    "xbg.cv(params, dtrain, nfold=5, metrics={'error'}, seed=0)"
   ]
  },
  {
   "cell_type": "code",
   "execution_count": 22,
   "metadata": {
    "collapsed": false
   },
   "outputs": [
    {
     "name": "stdout",
     "output_type": "stream",
     "text": [
      "Average MSE: 0.1991 (+/- 0.1095)\n"
     ]
    }
   ],
   "source": [
    "model = xbg.XGBRegressor()\n",
    "scores = cross_val_score(model, x_data, y_data, scoring='neg_mean_squared_error', cv=5)\n",
    "# print('MSEs:', scores*-1)\n",
    "print(\"Average MSE: %0.4f (+/- %0.4f)\" % (-scores.mean(), scores.std()))"
   ]
  },
  {
   "cell_type": "code",
   "execution_count": null,
   "metadata": {
    "collapsed": true
   },
   "outputs": [],
   "source": []
  }
 ],
 "metadata": {
  "kernelspec": {
   "display_name": "Python [conda root]",
   "language": "python",
   "name": "conda-root-py"
  },
  "language_info": {
   "codemirror_mode": {
    "name": "ipython",
    "version": 3
   },
   "file_extension": ".py",
   "mimetype": "text/x-python",
   "name": "python",
   "nbconvert_exporter": "python",
   "pygments_lexer": "ipython3",
   "version": "3.5.2"
  }
 },
 "nbformat": 4,
 "nbformat_minor": 2
}
