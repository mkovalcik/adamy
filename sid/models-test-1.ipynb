{
 "cells": [
  {
   "cell_type": "markdown",
   "metadata": {},
   "source": [
    "# Basic models to analyze the data "
   ]
  },
  {
   "cell_type": "code",
   "execution_count": 10,
   "metadata": {
    "collapsed": true
   },
   "outputs": [],
   "source": [
    "%matplotlib inline\n",
    "\n",
    "import numpy as np\n",
    "from get_data import *\n",
    "from matplotlib import pyplot as plt"
   ]
  },
  {
   "cell_type": "code",
   "execution_count": 4,
   "metadata": {
    "collapsed": false
   },
   "outputs": [],
   "source": [
    "X = []\n",
    "y = []\n",
    "\n",
    "tempX, tempY = get_data('consumerDiscretionary')\n",
    "X.append(tempX)\n",
    "y.append(tempY)\n",
    "\n",
    "tempX, tempY = get_data('consumerStaples')\n",
    "X.append(tempX)\n",
    "y.append(tempY)\n",
    "\n",
    "tempX, tempY = get_data('industrials')\n",
    "X.append(tempX)\n",
    "y.append(tempY)"
   ]
  },
  {
   "cell_type": "code",
   "execution_count": 5,
   "metadata": {
    "collapsed": false
   },
   "outputs": [],
   "source": [
    "from sklearn.decomposition import PCA"
   ]
  },
  {
   "cell_type": "markdown",
   "metadata": {},
   "source": [
    "## PCA eigenvectors:"
   ]
  },
  {
   "cell_type": "code",
   "execution_count": 6,
   "metadata": {
    "collapsed": false
   },
   "outputs": [],
   "source": [
    "# PCA analysis:\n",
    "XPca = []\n",
    "\n",
    "pca = PCA(n_components=2).fit(X[0])\n",
    "XPca.append( pca.transform( X[0] ) )\n",
    "\n",
    "pca = PCA(n_components=2).fit(X[1])\n",
    "XPca.append( pca.transform( X[1] ) )\n",
    "\n",
    "pca = PCA(n_components=2).fit(X[2])\n",
    "XPca.append( pca.transform( X[2] ) )"
   ]
  },
  {
   "cell_type": "code",
   "execution_count": 7,
   "metadata": {
    "collapsed": false
   },
   "outputs": [
    {
     "data": {
      "text/plain": [
       "<matplotlib.text.Text at 0x10d8f8d68>"
      ]
     },
     "execution_count": 7,
     "metadata": {},
     "output_type": "execute_result"
    },
    {
     "data": {
      "image/png": "[encoded data removed]",
      "text/plain": [
       "<matplotlib.figure.Figure at 0x10d69e438>"
      ]
     },
     "metadata": {},
     "output_type": "display_data"
    }
   ],
   "source": [
    "plt.figure(figsize=(14,4))\n",
    "\n",
    "plt.subplot(1, 3, 1)\n",
    "plt.scatter(XPca[0][:, 0], XPca[0][:, 1])\n",
    "plt.title('consumer discretionary')\n",
    "\n",
    "plt.subplot(1, 3, 2)\n",
    "plt.scatter(XPca[1][:, 0], XPca[1][:, 1])\n",
    "plt.title('consumer staples')\n",
    "\n",
    "plt.subplot(1, 3, 3)\n",
    "plt.scatter(XPca[2][:, 0], XPca[2][:, 1])\n",
    "plt.title('industrials')"
   ]
  },
  {
   "cell_type": "markdown",
   "metadata": {
    "collapsed": true
   },
   "source": [
    "## Linear ridge regression"
   ]
  },
  {
   "cell_type": "code",
   "execution_count": 57,
   "metadata": {
    "collapsed": true
   },
   "outputs": [],
   "source": [
    "from sklearn.linear_model import RidgeCV\n",
    "from sklearn.cross_validation import train_test_split"
   ]
  },
  {
   "cell_type": "code",
   "execution_count": 58,
   "metadata": {
    "collapsed": false
   },
   "outputs": [
    {
     "name": "stdout",
     "output_type": "stream",
     "text": [
      "[fold 0] alpha: 100.00000, score: -0.00710\n",
      "[fold 1] alpha: 100.00000, score: -0.15111\n",
      "[fold 2] alpha: 100.00000, score: -0.01047\n"
     ]
    }
   ],
   "source": [
    "# range of regularization parameters:\n",
    "alphas = np.logspace(-4, 2, 30)\n",
    "kf = KFold(3)\n",
    "\n",
    "ridgeCV = RidgeCV(alphas=alphas)\n",
    "\n",
    "for k in range(nFolds):\n",
    "    XTrain, XTest, yTrain, yTest = train_test_split(X[0], y[0], test_size=0.333)    \n",
    "    ridgeCV.fit(XTrain, yTrain)\n",
    "    score = ridgeCV.score(XTest, yTest)\n",
    "    print(\"[fold {0}] alpha: {1:.5f}, score: {2:.5f}\".\n",
    "          format(k, ridgeCV.alpha_, score))"
   ]
  },
  {
   "cell_type": "code",
   "execution_count": null,
   "metadata": {
    "collapsed": true
   },
   "outputs": [],
   "source": []
  }
 ],
 "metadata": {
  "kernelspec": {
   "display_name": "Python 3",
   "language": "python",
   "name": "python3"
  },
  "language_info": {
   "codemirror_mode": {
    "name": "ipython",
    "version": 3
   },
   "file_extension": ".py",
   "mimetype": "text/x-python",
   "name": "python",
   "nbconvert_exporter": "python",
   "pygments_lexer": "ipython3",
   "version": "3.4.5"
  }
 },
 "nbformat": 4,
 "nbformat_minor": 0
}
