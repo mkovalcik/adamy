{
 "cells": [
  {
   "cell_type": "code",
   "execution_count": 19,
   "metadata": {
    "collapsed": false,
    "deletable": true,
    "editable": true
   },
   "outputs": [],
   "source": [
    "%matplotlib inline\n",
    "import pandas as pd\n",
    "import numpy as np\n",
    "import matplotlib.pylab as plt\n",
    "import seaborn as sns\n",
    "import scipy.stats as stats\n",
    "from mpl_toolkits.mplot3d import Axes3D\n",
    "from get_data import *\n",
    "\n",
    "# SciKit Learn Modules\n",
    "from sklearn.preprocessing import scale\n",
    "from sklearn.linear_model import LinearRegression, Ridge, RidgeCV, Lasso, LassoCV\n",
    "from sklearn.model_selection import cross_val_score\n",
    "from sklearn import metrics\n",
    "from sklearn.ensemble import RandomForestRegressor"
   ]
  },
  {
   "cell_type": "markdown",
   "metadata": {
    "deletable": true,
    "editable": true
   },
   "source": [
    "# Load Standardized Industrials Data"
   ]
  },
  {
   "cell_type": "code",
   "execution_count": 2,
   "metadata": {
    "collapsed": false,
    "deletable": true,
    "editable": true
   },
   "outputs": [],
   "source": [
    "industrials_df_col_names = [\n",
    "\t't_ev',\n",
    "\t't_rev',\n",
    "\t'ebitda',\n",
    "\t'ebitda_margin',\n",
    "\t't_ev/t_rev',\n",
    "\t't_ev/ebitda',\n",
    "\t'est_ann_rev_gr_minus_1yr_minus_capiq',\n",
    "\t'est_ann_ebitda_gr_minus_1yr_minus_capiq',\n",
    "\t't_rev_1yr_growth',\n",
    "\t'ebitda_1yr_growth',\n",
    "\t't_rev_3_yr_cagr',\n",
    "\t'ebitda_3yr_cagr',\n",
    "\t't_rev_5yr_cagr',\n",
    "\t'ebitda_5yr_cagr',\n",
    "\t'return_on_assets',\n",
    "\t'return_on_equity',\n",
    "\t'capex_as_percent_rev',\n",
    "\t'ebitda/interest_exp',\n",
    "\t't_debt/cap_percent',\n",
    "\t't_debt/equity_percent'\n",
    "\t]\n",
    "\n",
    "# Load Raw Data\n",
    "raw_data_arrays         = get_raw_data()\n",
    "raw_industrials_array   = np.split(raw_data_arrays[2], [1], axis=1)\n",
    "raw_industrials_array_x = raw_industrials_array[1]\n",
    "raw_industrials_array_y = raw_industrials_array[0]\n",
    "raw_industrials_df      = pd.DataFrame( raw_data_arrays[2], columns=industrials_df_col_names )\n",
    "\n",
    "# Load Standardized Data\n",
    "std_data_arrays         = get_standardized_data()\n",
    "std_industrials_array   = np.split(std_data_arrays[2], [1], axis=1)\n",
    "std_industrials_array_x = std_industrials_array[1]\n",
    "std_industrials_array_y = std_industrials_array[0]\n",
    "std_industrials_df      = pd.DataFrame( std_data_arrays[2], columns=industrials_df_col_names )"
   ]
  },
  {
   "cell_type": "markdown",
   "metadata": {
    "deletable": true,
    "editable": true
   },
   "source": [
    "# Plot Standardized Log Feature Distributions"
   ]
  },
  {
   "cell_type": "code",
   "execution_count": 3,
   "metadata": {
    "collapsed": true,
    "deletable": true,
    "editable": true
   },
   "outputs": [],
   "source": [
    "# Functions to Perform Log10 Operation on Specific Feature Vectors \n",
    "features_to_transform = [0, 1, 2, 16, 17, 18, 19]\n",
    "\n",
    "def log_basis( feature_vector ):\n",
    "    return np.log10( feature_vector )\n",
    "\n",
    "def log_transform_features(feature_matrix, features_to_transform):\n",
    "    transformed_features  = []\n",
    "    split_features = np.split( feature_matrix, feature_matrix.shape[1], axis=1 )\n",
    "    for feature_num in list(range(len( split_features ))):\n",
    "        feature = split_features[ feature_num ]\n",
    "        if feature_num in features_to_transform:\n",
    "            feature = log_basis( feature )\n",
    "        transformed_features.append( feature )\n",
    "    concat_features_array = np.concatenate( transformed_features, axis=1 )\n",
    "    concat_features_array = scale(mean_fill_nan_entries( concat_features_array, is_df=False ))\n",
    "    return concat_features_array"
   ]
  },
  {
   "cell_type": "code",
   "execution_count": 4,
   "metadata": {
    "collapsed": false,
    "deletable": true,
    "editable": true
   },
   "outputs": [
    {
     "name": "stderr",
     "output_type": "stream",
     "text": [
      "/Users/xinyutan/anaconda2/lib/python2.7/site-packages/ipykernel/__main__.py:5: RuntimeWarning: invalid value encountered in log10\n"
     ]
    }
   ],
   "source": [
    "# Transform Raw Data Features\n",
    "std_industrials_log_data = log_transform_features(raw_data_arrays[2], features_to_transform)\n",
    "std_industrials_log_df   = pd.DataFrame( std_industrials_log_data, columns=industrials_df_col_names )"
   ]
  },
  {
   "cell_type": "markdown",
   "metadata": {
    "deletable": true,
    "editable": true
   },
   "source": [
    "# Split Data and Drop features"
   ]
  },
  {
   "cell_type": "code",
   "execution_count": 5,
   "metadata": {
    "collapsed": false,
    "deletable": true,
    "editable": true
   },
   "outputs": [
    {
     "data": {
      "text/html": [
       "<div>\n",
       "<table border=\"1\" class=\"dataframe\">\n",
       "  <thead>\n",
       "    <tr style=\"text-align: right;\">\n",
       "      <th></th>\n",
       "      <th>t_ev</th>\n",
       "      <th>t_rev</th>\n",
       "      <th>ebitda</th>\n",
       "      <th>ebitda_margin</th>\n",
       "      <th>t_ev/t_rev</th>\n",
       "      <th>t_ev/ebitda</th>\n",
       "      <th>est_ann_rev_gr_minus_1yr_minus_capiq</th>\n",
       "      <th>est_ann_ebitda_gr_minus_1yr_minus_capiq</th>\n",
       "      <th>t_rev_1yr_growth</th>\n",
       "      <th>ebitda_1yr_growth</th>\n",
       "      <th>t_rev_3_yr_cagr</th>\n",
       "      <th>ebitda_3yr_cagr</th>\n",
       "      <th>t_rev_5yr_cagr</th>\n",
       "      <th>ebitda_5yr_cagr</th>\n",
       "      <th>return_on_assets</th>\n",
       "      <th>return_on_equity</th>\n",
       "      <th>capex_as_percent_rev</th>\n",
       "      <th>ebitda/interest_exp</th>\n",
       "      <th>t_debt/cap_percent</th>\n",
       "      <th>t_debt/equity_percent</th>\n",
       "    </tr>\n",
       "  </thead>\n",
       "  <tbody>\n",
       "    <tr>\n",
       "      <th>0</th>\n",
       "      <td>2.167424</td>\n",
       "      <td>1.854476</td>\n",
       "      <td>2.063180</td>\n",
       "      <td>1.357549</td>\n",
       "      <td>1.633461</td>\n",
       "      <td>-0.020155</td>\n",
       "      <td>-0.082415</td>\n",
       "      <td>-0.051720</td>\n",
       "      <td>-0.200552</td>\n",
       "      <td>-0.117152</td>\n",
       "      <td>-0.146568</td>\n",
       "      <td>-0.200189</td>\n",
       "      <td>-0.409785</td>\n",
       "      <td>-0.255314</td>\n",
       "      <td>1.626267</td>\n",
       "      <td>0.088648</td>\n",
       "      <td>0.500293</td>\n",
       "      <td>1.206452</td>\n",
       "      <td>0.418197</td>\n",
       "      <td>0.410737</td>\n",
       "    </tr>\n",
       "    <tr>\n",
       "      <th>1</th>\n",
       "      <td>0.906905</td>\n",
       "      <td>0.581865</td>\n",
       "      <td>0.775359</td>\n",
       "      <td>0.511802</td>\n",
       "      <td>0.988805</td>\n",
       "      <td>0.083611</td>\n",
       "      <td>0.255412</td>\n",
       "      <td>0.279555</td>\n",
       "      <td>-0.074525</td>\n",
       "      <td>0.030248</td>\n",
       "      <td>-0.024472</td>\n",
       "      <td>0.321060</td>\n",
       "      <td>0.292467</td>\n",
       "      <td>0.988172</td>\n",
       "      <td>0.946064</td>\n",
       "      <td>0.054256</td>\n",
       "      <td>0.109958</td>\n",
       "      <td>1.629238</td>\n",
       "      <td>-0.745165</td>\n",
       "      <td>-0.866425</td>\n",
       "    </tr>\n",
       "    <tr>\n",
       "      <th>2</th>\n",
       "      <td>0.190111</td>\n",
       "      <td>-0.414144</td>\n",
       "      <td>-0.001839</td>\n",
       "      <td>0.930029</td>\n",
       "      <td>1.981141</td>\n",
       "      <td>0.239261</td>\n",
       "      <td>0.498185</td>\n",
       "      <td>0.315414</td>\n",
       "      <td>0.154147</td>\n",
       "      <td>0.005105</td>\n",
       "      <td>-0.043540</td>\n",
       "      <td>0.067022</td>\n",
       "      <td>0.105498</td>\n",
       "      <td>0.614568</td>\n",
       "      <td>2.846633</td>\n",
       "      <td>0.061770</td>\n",
       "      <td>0.668693</td>\n",
       "      <td>-0.034798</td>\n",
       "      <td>0.227465</td>\n",
       "      <td>0.101564</td>\n",
       "    </tr>\n",
       "    <tr>\n",
       "      <th>3</th>\n",
       "      <td>0.043199</td>\n",
       "      <td>0.346379</td>\n",
       "      <td>0.113064</td>\n",
       "      <td>-0.644362</td>\n",
       "      <td>-0.646015</td>\n",
       "      <td>-0.210394</td>\n",
       "      <td>0.155220</td>\n",
       "      <td>0.489188</td>\n",
       "      <td>-0.086488</td>\n",
       "      <td>1.158535</td>\n",
       "      <td>-0.210868</td>\n",
       "      <td>-0.657457</td>\n",
       "      <td>-0.617963</td>\n",
       "      <td>-0.966276</td>\n",
       "      <td>-0.532379</td>\n",
       "      <td>0.030109</td>\n",
       "      <td>0.594181</td>\n",
       "      <td>0.662340</td>\n",
       "      <td>-0.751357</td>\n",
       "      <td>-0.874354</td>\n",
       "    </tr>\n",
       "    <tr>\n",
       "      <th>4</th>\n",
       "      <td>0.366194</td>\n",
       "      <td>0.932537</td>\n",
       "      <td>0.249616</td>\n",
       "      <td>-1.023554</td>\n",
       "      <td>-0.835065</td>\n",
       "      <td>0.037493</td>\n",
       "      <td>0.058239</td>\n",
       "      <td>0.240939</td>\n",
       "      <td>-0.048694</td>\n",
       "      <td>-0.049895</td>\n",
       "      <td>-0.058469</td>\n",
       "      <td>-0.287471</td>\n",
       "      <td>-0.160306</td>\n",
       "      <td>-0.510145</td>\n",
       "      <td>-0.532379</td>\n",
       "      <td>0.031555</td>\n",
       "      <td>-0.840162</td>\n",
       "      <td>0.366363</td>\n",
       "      <td>-0.396054</td>\n",
       "      <td>-0.550410</td>\n",
       "    </tr>\n",
       "  </tbody>\n",
       "</table>\n",
       "</div>"
      ],
      "text/plain": [
       "       t_ev     t_rev    ebitda  ebitda_margin  t_ev/t_rev  t_ev/ebitda  \\\n",
       "0  2.167424  1.854476  2.063180       1.357549    1.633461    -0.020155   \n",
       "1  0.906905  0.581865  0.775359       0.511802    0.988805     0.083611   \n",
       "2  0.190111 -0.414144 -0.001839       0.930029    1.981141     0.239261   \n",
       "3  0.043199  0.346379  0.113064      -0.644362   -0.646015    -0.210394   \n",
       "4  0.366194  0.932537  0.249616      -1.023554   -0.835065     0.037493   \n",
       "\n",
       "   est_ann_rev_gr_minus_1yr_minus_capiq  \\\n",
       "0                             -0.082415   \n",
       "1                              0.255412   \n",
       "2                              0.498185   \n",
       "3                              0.155220   \n",
       "4                              0.058239   \n",
       "\n",
       "   est_ann_ebitda_gr_minus_1yr_minus_capiq  t_rev_1yr_growth  \\\n",
       "0                                -0.051720         -0.200552   \n",
       "1                                 0.279555         -0.074525   \n",
       "2                                 0.315414          0.154147   \n",
       "3                                 0.489188         -0.086488   \n",
       "4                                 0.240939         -0.048694   \n",
       "\n",
       "   ebitda_1yr_growth  t_rev_3_yr_cagr  ebitda_3yr_cagr  t_rev_5yr_cagr  \\\n",
       "0          -0.117152        -0.146568        -0.200189       -0.409785   \n",
       "1           0.030248        -0.024472         0.321060        0.292467   \n",
       "2           0.005105        -0.043540         0.067022        0.105498   \n",
       "3           1.158535        -0.210868        -0.657457       -0.617963   \n",
       "4          -0.049895        -0.058469        -0.287471       -0.160306   \n",
       "\n",
       "   ebitda_5yr_cagr  return_on_assets  return_on_equity  capex_as_percent_rev  \\\n",
       "0        -0.255314          1.626267          0.088648              0.500293   \n",
       "1         0.988172          0.946064          0.054256              0.109958   \n",
       "2         0.614568          2.846633          0.061770              0.668693   \n",
       "3        -0.966276         -0.532379          0.030109              0.594181   \n",
       "4        -0.510145         -0.532379          0.031555             -0.840162   \n",
       "\n",
       "   ebitda/interest_exp  t_debt/cap_percent  t_debt/equity_percent  \n",
       "0             1.206452            0.418197               0.410737  \n",
       "1             1.629238           -0.745165              -0.866425  \n",
       "2            -0.034798            0.227465               0.101564  \n",
       "3             0.662340           -0.751357              -0.874354  \n",
       "4             0.366363           -0.396054              -0.550410  "
      ]
     },
     "execution_count": 5,
     "metadata": {},
     "output_type": "execute_result"
    }
   ],
   "source": [
    "std_industrials_log_df.head()"
   ]
  },
  {
   "cell_type": "code",
   "execution_count": 6,
   "metadata": {
    "collapsed": false,
    "deletable": true,
    "editable": true
   },
   "outputs": [
    {
     "data": {
      "text/html": [
       "<div>\n",
       "<table border=\"1\" class=\"dataframe\">\n",
       "  <thead>\n",
       "    <tr style=\"text-align: right;\">\n",
       "      <th></th>\n",
       "      <th>t_ev</th>\n",
       "      <th>t_rev</th>\n",
       "      <th>ebitda</th>\n",
       "      <th>ebitda_margin</th>\n",
       "      <th>est_ann_rev_gr_minus_1yr_minus_capiq</th>\n",
       "      <th>est_ann_ebitda_gr_minus_1yr_minus_capiq</th>\n",
       "      <th>t_rev_1yr_growth</th>\n",
       "      <th>ebitda_1yr_growth</th>\n",
       "      <th>t_rev_3_yr_cagr</th>\n",
       "      <th>ebitda_3yr_cagr</th>\n",
       "      <th>t_rev_5yr_cagr</th>\n",
       "      <th>ebitda_5yr_cagr</th>\n",
       "      <th>return_on_assets</th>\n",
       "      <th>return_on_equity</th>\n",
       "      <th>capex_as_percent_rev</th>\n",
       "      <th>ebitda/interest_exp</th>\n",
       "      <th>t_debt/cap_percent</th>\n",
       "      <th>t_debt/equity_percent</th>\n",
       "    </tr>\n",
       "  </thead>\n",
       "  <tbody>\n",
       "    <tr>\n",
       "      <th>0</th>\n",
       "      <td>2.167424</td>\n",
       "      <td>1.854476</td>\n",
       "      <td>2.063180</td>\n",
       "      <td>1.357549</td>\n",
       "      <td>-0.082415</td>\n",
       "      <td>-0.051720</td>\n",
       "      <td>-0.200552</td>\n",
       "      <td>-0.117152</td>\n",
       "      <td>-0.146568</td>\n",
       "      <td>-0.200189</td>\n",
       "      <td>-0.409785</td>\n",
       "      <td>-0.255314</td>\n",
       "      <td>1.626267</td>\n",
       "      <td>0.088648</td>\n",
       "      <td>0.500293</td>\n",
       "      <td>1.206452</td>\n",
       "      <td>0.418197</td>\n",
       "      <td>0.410737</td>\n",
       "    </tr>\n",
       "    <tr>\n",
       "      <th>1</th>\n",
       "      <td>0.906905</td>\n",
       "      <td>0.581865</td>\n",
       "      <td>0.775359</td>\n",
       "      <td>0.511802</td>\n",
       "      <td>0.255412</td>\n",
       "      <td>0.279555</td>\n",
       "      <td>-0.074525</td>\n",
       "      <td>0.030248</td>\n",
       "      <td>-0.024472</td>\n",
       "      <td>0.321060</td>\n",
       "      <td>0.292467</td>\n",
       "      <td>0.988172</td>\n",
       "      <td>0.946064</td>\n",
       "      <td>0.054256</td>\n",
       "      <td>0.109958</td>\n",
       "      <td>1.629238</td>\n",
       "      <td>-0.745165</td>\n",
       "      <td>-0.866425</td>\n",
       "    </tr>\n",
       "    <tr>\n",
       "      <th>2</th>\n",
       "      <td>0.190111</td>\n",
       "      <td>-0.414144</td>\n",
       "      <td>-0.001839</td>\n",
       "      <td>0.930029</td>\n",
       "      <td>0.498185</td>\n",
       "      <td>0.315414</td>\n",
       "      <td>0.154147</td>\n",
       "      <td>0.005105</td>\n",
       "      <td>-0.043540</td>\n",
       "      <td>0.067022</td>\n",
       "      <td>0.105498</td>\n",
       "      <td>0.614568</td>\n",
       "      <td>2.846633</td>\n",
       "      <td>0.061770</td>\n",
       "      <td>0.668693</td>\n",
       "      <td>-0.034798</td>\n",
       "      <td>0.227465</td>\n",
       "      <td>0.101564</td>\n",
       "    </tr>\n",
       "    <tr>\n",
       "      <th>3</th>\n",
       "      <td>0.043199</td>\n",
       "      <td>0.346379</td>\n",
       "      <td>0.113064</td>\n",
       "      <td>-0.644362</td>\n",
       "      <td>0.155220</td>\n",
       "      <td>0.489188</td>\n",
       "      <td>-0.086488</td>\n",
       "      <td>1.158535</td>\n",
       "      <td>-0.210868</td>\n",
       "      <td>-0.657457</td>\n",
       "      <td>-0.617963</td>\n",
       "      <td>-0.966276</td>\n",
       "      <td>-0.532379</td>\n",
       "      <td>0.030109</td>\n",
       "      <td>0.594181</td>\n",
       "      <td>0.662340</td>\n",
       "      <td>-0.751357</td>\n",
       "      <td>-0.874354</td>\n",
       "    </tr>\n",
       "    <tr>\n",
       "      <th>4</th>\n",
       "      <td>0.366194</td>\n",
       "      <td>0.932537</td>\n",
       "      <td>0.249616</td>\n",
       "      <td>-1.023554</td>\n",
       "      <td>0.058239</td>\n",
       "      <td>0.240939</td>\n",
       "      <td>-0.048694</td>\n",
       "      <td>-0.049895</td>\n",
       "      <td>-0.058469</td>\n",
       "      <td>-0.287471</td>\n",
       "      <td>-0.160306</td>\n",
       "      <td>-0.510145</td>\n",
       "      <td>-0.532379</td>\n",
       "      <td>0.031555</td>\n",
       "      <td>-0.840162</td>\n",
       "      <td>0.366363</td>\n",
       "      <td>-0.396054</td>\n",
       "      <td>-0.550410</td>\n",
       "    </tr>\n",
       "  </tbody>\n",
       "</table>\n",
       "</div>"
      ],
      "text/plain": [
       "       t_ev     t_rev    ebitda  ebitda_margin  \\\n",
       "0  2.167424  1.854476  2.063180       1.357549   \n",
       "1  0.906905  0.581865  0.775359       0.511802   \n",
       "2  0.190111 -0.414144 -0.001839       0.930029   \n",
       "3  0.043199  0.346379  0.113064      -0.644362   \n",
       "4  0.366194  0.932537  0.249616      -1.023554   \n",
       "\n",
       "   est_ann_rev_gr_minus_1yr_minus_capiq  \\\n",
       "0                             -0.082415   \n",
       "1                              0.255412   \n",
       "2                              0.498185   \n",
       "3                              0.155220   \n",
       "4                              0.058239   \n",
       "\n",
       "   est_ann_ebitda_gr_minus_1yr_minus_capiq  t_rev_1yr_growth  \\\n",
       "0                                -0.051720         -0.200552   \n",
       "1                                 0.279555         -0.074525   \n",
       "2                                 0.315414          0.154147   \n",
       "3                                 0.489188         -0.086488   \n",
       "4                                 0.240939         -0.048694   \n",
       "\n",
       "   ebitda_1yr_growth  t_rev_3_yr_cagr  ebitda_3yr_cagr  t_rev_5yr_cagr  \\\n",
       "0          -0.117152        -0.146568        -0.200189       -0.409785   \n",
       "1           0.030248        -0.024472         0.321060        0.292467   \n",
       "2           0.005105        -0.043540         0.067022        0.105498   \n",
       "3           1.158535        -0.210868        -0.657457       -0.617963   \n",
       "4          -0.049895        -0.058469        -0.287471       -0.160306   \n",
       "\n",
       "   ebitda_5yr_cagr  return_on_assets  return_on_equity  capex_as_percent_rev  \\\n",
       "0        -0.255314          1.626267          0.088648              0.500293   \n",
       "1         0.988172          0.946064          0.054256              0.109958   \n",
       "2         0.614568          2.846633          0.061770              0.668693   \n",
       "3        -0.966276         -0.532379          0.030109              0.594181   \n",
       "4        -0.510145         -0.532379          0.031555             -0.840162   \n",
       "\n",
       "   ebitda/interest_exp  t_debt/cap_percent  t_debt/equity_percent  \n",
       "0             1.206452            0.418197               0.410737  \n",
       "1             1.629238           -0.745165              -0.866425  \n",
       "2            -0.034798            0.227465               0.101564  \n",
       "3             0.662340           -0.751357              -0.874354  \n",
       "4             0.366363           -0.396054              -0.550410  "
      ]
     },
     "execution_count": 6,
     "metadata": {},
     "output_type": "execute_result"
    }
   ],
   "source": [
    "std_industrials_log_df.drop(['t_ev/t_rev', 't_ev/ebitda'], axis=1, inplace=True)\n",
    "std_industrials_log_df.head()"
   ]
  },
  {
   "cell_type": "markdown",
   "metadata": {
    "deletable": true,
    "editable": true
   },
   "source": [
    "## Hold out 20 companies"
   ]
  },
  {
   "cell_type": "code",
   "execution_count": 7,
   "metadata": {
    "collapsed": true,
    "deletable": true,
    "editable": true
   },
   "outputs": [],
   "source": [
    "holdout_companies = pd.read_excel('20 Companies.xlsx', na_values=['-', 'NM'] )\n",
    "holdout_companies_names = holdout_companies['Target Companies'][:18]\n",
    "raw_data = pd.read_excel('../data/U of M Student Data - Industrials.xlsx', 'Screening', \n",
    "                         skiprows=7, na_values=['-', 'NM'])\n",
    "holdout_index = raw_data.loc[raw_data['Company Name'].isin(holdout_companies_names)].index\n",
    "holdout_df = std_industrials_log_df.ix[holdout_index]"
   ]
  },
  {
   "cell_type": "code",
   "execution_count": 8,
   "metadata": {
    "collapsed": false,
    "deletable": true,
    "editable": true
   },
   "outputs": [
    {
     "name": "stdout",
     "output_type": "stream",
     "text": [
      "(455, 18)\n",
      "(473, 25)\n"
     ]
    }
   ],
   "source": [
    "train_df = std_industrials_log_df.ix[~std_industrials_log_df.index.isin(holdout_index)]\n",
    "print train_df.shape\n",
    "print raw_data.shape"
   ]
  },
  {
   "cell_type": "code",
   "execution_count": 9,
   "metadata": {
    "collapsed": false,
    "deletable": true,
    "editable": true
   },
   "outputs": [
    {
     "data": {
      "text/html": [
       "<div>\n",
       "<table border=\"1\" class=\"dataframe\">\n",
       "  <thead>\n",
       "    <tr style=\"text-align: right;\">\n",
       "      <th></th>\n",
       "      <th>t_ev</th>\n",
       "      <th>t_rev</th>\n",
       "      <th>ebitda</th>\n",
       "      <th>ebitda_margin</th>\n",
       "      <th>est_ann_rev_gr_minus_1yr_minus_capiq</th>\n",
       "      <th>est_ann_ebitda_gr_minus_1yr_minus_capiq</th>\n",
       "      <th>t_rev_1yr_growth</th>\n",
       "      <th>ebitda_1yr_growth</th>\n",
       "      <th>t_rev_3_yr_cagr</th>\n",
       "      <th>ebitda_3yr_cagr</th>\n",
       "      <th>t_rev_5yr_cagr</th>\n",
       "      <th>ebitda_5yr_cagr</th>\n",
       "      <th>return_on_assets</th>\n",
       "      <th>return_on_equity</th>\n",
       "      <th>capex_as_percent_rev</th>\n",
       "      <th>ebitda/interest_exp</th>\n",
       "      <th>t_debt/cap_percent</th>\n",
       "      <th>t_debt/equity_percent</th>\n",
       "    </tr>\n",
       "  </thead>\n",
       "  <tbody>\n",
       "    <tr>\n",
       "      <th>0</th>\n",
       "      <td>2.167424</td>\n",
       "      <td>1.854476</td>\n",
       "      <td>2.063180</td>\n",
       "      <td>1.357549</td>\n",
       "      <td>-0.082415</td>\n",
       "      <td>-0.051720</td>\n",
       "      <td>-0.200552</td>\n",
       "      <td>-0.117152</td>\n",
       "      <td>-0.146568</td>\n",
       "      <td>-0.200189</td>\n",
       "      <td>-0.409785</td>\n",
       "      <td>-0.255314</td>\n",
       "      <td>1.626267</td>\n",
       "      <td>0.088648</td>\n",
       "      <td>0.500293</td>\n",
       "      <td>1.206452</td>\n",
       "      <td>0.418197</td>\n",
       "      <td>0.410737</td>\n",
       "    </tr>\n",
       "    <tr>\n",
       "      <th>2</th>\n",
       "      <td>0.190111</td>\n",
       "      <td>-0.414144</td>\n",
       "      <td>-0.001839</td>\n",
       "      <td>0.930029</td>\n",
       "      <td>0.498185</td>\n",
       "      <td>0.315414</td>\n",
       "      <td>0.154147</td>\n",
       "      <td>0.005105</td>\n",
       "      <td>-0.043540</td>\n",
       "      <td>0.067022</td>\n",
       "      <td>0.105498</td>\n",
       "      <td>0.614568</td>\n",
       "      <td>2.846633</td>\n",
       "      <td>0.061770</td>\n",
       "      <td>0.668693</td>\n",
       "      <td>-0.034798</td>\n",
       "      <td>0.227465</td>\n",
       "      <td>0.101564</td>\n",
       "    </tr>\n",
       "    <tr>\n",
       "      <th>3</th>\n",
       "      <td>0.043199</td>\n",
       "      <td>0.346379</td>\n",
       "      <td>0.113064</td>\n",
       "      <td>-0.644362</td>\n",
       "      <td>0.155220</td>\n",
       "      <td>0.489188</td>\n",
       "      <td>-0.086488</td>\n",
       "      <td>1.158535</td>\n",
       "      <td>-0.210868</td>\n",
       "      <td>-0.657457</td>\n",
       "      <td>-0.617963</td>\n",
       "      <td>-0.966276</td>\n",
       "      <td>-0.532379</td>\n",
       "      <td>0.030109</td>\n",
       "      <td>0.594181</td>\n",
       "      <td>0.662340</td>\n",
       "      <td>-0.751357</td>\n",
       "      <td>-0.874354</td>\n",
       "    </tr>\n",
       "    <tr>\n",
       "      <th>4</th>\n",
       "      <td>0.366194</td>\n",
       "      <td>0.932537</td>\n",
       "      <td>0.249616</td>\n",
       "      <td>-1.023554</td>\n",
       "      <td>0.058239</td>\n",
       "      <td>0.240939</td>\n",
       "      <td>-0.048694</td>\n",
       "      <td>-0.049895</td>\n",
       "      <td>-0.058469</td>\n",
       "      <td>-0.287471</td>\n",
       "      <td>-0.160306</td>\n",
       "      <td>-0.510145</td>\n",
       "      <td>-0.532379</td>\n",
       "      <td>0.031555</td>\n",
       "      <td>-0.840162</td>\n",
       "      <td>0.366363</td>\n",
       "      <td>-0.396054</td>\n",
       "      <td>-0.550410</td>\n",
       "    </tr>\n",
       "    <tr>\n",
       "      <th>5</th>\n",
       "      <td>-0.849986</td>\n",
       "      <td>-0.852301</td>\n",
       "      <td>-0.335211</td>\n",
       "      <td>1.199552</td>\n",
       "      <td>1.378076</td>\n",
       "      <td>-1.044443</td>\n",
       "      <td>0.953547</td>\n",
       "      <td>10.520336</td>\n",
       "      <td>-0.171992</td>\n",
       "      <td>0.565689</td>\n",
       "      <td>-0.402320</td>\n",
       "      <td>-0.141560</td>\n",
       "      <td>-0.987715</td>\n",
       "      <td>-0.042706</td>\n",
       "      <td>-4.731245</td>\n",
       "      <td>-0.034798</td>\n",
       "      <td>0.227465</td>\n",
       "      <td>0.101564</td>\n",
       "    </tr>\n",
       "  </tbody>\n",
       "</table>\n",
       "</div>"
      ],
      "text/plain": [
       "       t_ev     t_rev    ebitda  ebitda_margin  \\\n",
       "0  2.167424  1.854476  2.063180       1.357549   \n",
       "2  0.190111 -0.414144 -0.001839       0.930029   \n",
       "3  0.043199  0.346379  0.113064      -0.644362   \n",
       "4  0.366194  0.932537  0.249616      -1.023554   \n",
       "5 -0.849986 -0.852301 -0.335211       1.199552   \n",
       "\n",
       "   est_ann_rev_gr_minus_1yr_minus_capiq  \\\n",
       "0                             -0.082415   \n",
       "2                              0.498185   \n",
       "3                              0.155220   \n",
       "4                              0.058239   \n",
       "5                              1.378076   \n",
       "\n",
       "   est_ann_ebitda_gr_minus_1yr_minus_capiq  t_rev_1yr_growth  \\\n",
       "0                                -0.051720         -0.200552   \n",
       "2                                 0.315414          0.154147   \n",
       "3                                 0.489188         -0.086488   \n",
       "4                                 0.240939         -0.048694   \n",
       "5                                -1.044443          0.953547   \n",
       "\n",
       "   ebitda_1yr_growth  t_rev_3_yr_cagr  ebitda_3yr_cagr  t_rev_5yr_cagr  \\\n",
       "0          -0.117152        -0.146568        -0.200189       -0.409785   \n",
       "2           0.005105        -0.043540         0.067022        0.105498   \n",
       "3           1.158535        -0.210868        -0.657457       -0.617963   \n",
       "4          -0.049895        -0.058469        -0.287471       -0.160306   \n",
       "5          10.520336        -0.171992         0.565689       -0.402320   \n",
       "\n",
       "   ebitda_5yr_cagr  return_on_assets  return_on_equity  capex_as_percent_rev  \\\n",
       "0        -0.255314          1.626267          0.088648              0.500293   \n",
       "2         0.614568          2.846633          0.061770              0.668693   \n",
       "3        -0.966276         -0.532379          0.030109              0.594181   \n",
       "4        -0.510145         -0.532379          0.031555             -0.840162   \n",
       "5        -0.141560         -0.987715         -0.042706             -4.731245   \n",
       "\n",
       "   ebitda/interest_exp  t_debt/cap_percent  t_debt/equity_percent  \n",
       "0             1.206452            0.418197               0.410737  \n",
       "2            -0.034798            0.227465               0.101564  \n",
       "3             0.662340           -0.751357              -0.874354  \n",
       "4             0.366363           -0.396054              -0.550410  \n",
       "5            -0.034798            0.227465               0.101564  "
      ]
     },
     "execution_count": 9,
     "metadata": {},
     "output_type": "execute_result"
    }
   ],
   "source": [
    "train_df.head()"
   ]
  },
  {
   "cell_type": "code",
   "execution_count": 10,
   "metadata": {
    "collapsed": false,
    "deletable": true,
    "editable": true
   },
   "outputs": [
    {
     "data": {
      "text/html": [
       "<div>\n",
       "<table border=\"1\" class=\"dataframe\">\n",
       "  <thead>\n",
       "    <tr style=\"text-align: right;\">\n",
       "      <th></th>\n",
       "      <th>t_rev</th>\n",
       "      <th>ebitda</th>\n",
       "      <th>ebitda_margin</th>\n",
       "      <th>est_ann_rev_gr_minus_1yr_minus_capiq</th>\n",
       "      <th>est_ann_ebitda_gr_minus_1yr_minus_capiq</th>\n",
       "      <th>t_rev_1yr_growth</th>\n",
       "      <th>ebitda_1yr_growth</th>\n",
       "      <th>t_rev_3_yr_cagr</th>\n",
       "      <th>ebitda_3yr_cagr</th>\n",
       "      <th>t_rev_5yr_cagr</th>\n",
       "      <th>ebitda_5yr_cagr</th>\n",
       "      <th>return_on_assets</th>\n",
       "      <th>return_on_equity</th>\n",
       "      <th>capex_as_percent_rev</th>\n",
       "      <th>ebitda/interest_exp</th>\n",
       "      <th>t_debt/cap_percent</th>\n",
       "      <th>t_debt/equity_percent</th>\n",
       "    </tr>\n",
       "  </thead>\n",
       "  <tbody>\n",
       "    <tr>\n",
       "      <th>0</th>\n",
       "      <td>1.854476</td>\n",
       "      <td>2.063180</td>\n",
       "      <td>1.357549</td>\n",
       "      <td>-0.082415</td>\n",
       "      <td>-0.051720</td>\n",
       "      <td>-0.200552</td>\n",
       "      <td>-0.117152</td>\n",
       "      <td>-0.146568</td>\n",
       "      <td>-0.200189</td>\n",
       "      <td>-0.409785</td>\n",
       "      <td>-0.255314</td>\n",
       "      <td>1.626267</td>\n",
       "      <td>0.088648</td>\n",
       "      <td>0.500293</td>\n",
       "      <td>1.206452</td>\n",
       "      <td>0.418197</td>\n",
       "      <td>0.410737</td>\n",
       "    </tr>\n",
       "    <tr>\n",
       "      <th>2</th>\n",
       "      <td>-0.414144</td>\n",
       "      <td>-0.001839</td>\n",
       "      <td>0.930029</td>\n",
       "      <td>0.498185</td>\n",
       "      <td>0.315414</td>\n",
       "      <td>0.154147</td>\n",
       "      <td>0.005105</td>\n",
       "      <td>-0.043540</td>\n",
       "      <td>0.067022</td>\n",
       "      <td>0.105498</td>\n",
       "      <td>0.614568</td>\n",
       "      <td>2.846633</td>\n",
       "      <td>0.061770</td>\n",
       "      <td>0.668693</td>\n",
       "      <td>-0.034798</td>\n",
       "      <td>0.227465</td>\n",
       "      <td>0.101564</td>\n",
       "    </tr>\n",
       "    <tr>\n",
       "      <th>3</th>\n",
       "      <td>0.346379</td>\n",
       "      <td>0.113064</td>\n",
       "      <td>-0.644362</td>\n",
       "      <td>0.155220</td>\n",
       "      <td>0.489188</td>\n",
       "      <td>-0.086488</td>\n",
       "      <td>1.158535</td>\n",
       "      <td>-0.210868</td>\n",
       "      <td>-0.657457</td>\n",
       "      <td>-0.617963</td>\n",
       "      <td>-0.966276</td>\n",
       "      <td>-0.532379</td>\n",
       "      <td>0.030109</td>\n",
       "      <td>0.594181</td>\n",
       "      <td>0.662340</td>\n",
       "      <td>-0.751357</td>\n",
       "      <td>-0.874354</td>\n",
       "    </tr>\n",
       "    <tr>\n",
       "      <th>4</th>\n",
       "      <td>0.932537</td>\n",
       "      <td>0.249616</td>\n",
       "      <td>-1.023554</td>\n",
       "      <td>0.058239</td>\n",
       "      <td>0.240939</td>\n",
       "      <td>-0.048694</td>\n",
       "      <td>-0.049895</td>\n",
       "      <td>-0.058469</td>\n",
       "      <td>-0.287471</td>\n",
       "      <td>-0.160306</td>\n",
       "      <td>-0.510145</td>\n",
       "      <td>-0.532379</td>\n",
       "      <td>0.031555</td>\n",
       "      <td>-0.840162</td>\n",
       "      <td>0.366363</td>\n",
       "      <td>-0.396054</td>\n",
       "      <td>-0.550410</td>\n",
       "    </tr>\n",
       "    <tr>\n",
       "      <th>5</th>\n",
       "      <td>-0.852301</td>\n",
       "      <td>-0.335211</td>\n",
       "      <td>1.199552</td>\n",
       "      <td>1.378076</td>\n",
       "      <td>-1.044443</td>\n",
       "      <td>0.953547</td>\n",
       "      <td>10.520336</td>\n",
       "      <td>-0.171992</td>\n",
       "      <td>0.565689</td>\n",
       "      <td>-0.402320</td>\n",
       "      <td>-0.141560</td>\n",
       "      <td>-0.987715</td>\n",
       "      <td>-0.042706</td>\n",
       "      <td>-4.731245</td>\n",
       "      <td>-0.034798</td>\n",
       "      <td>0.227465</td>\n",
       "      <td>0.101564</td>\n",
       "    </tr>\n",
       "  </tbody>\n",
       "</table>\n",
       "</div>"
      ],
      "text/plain": [
       "      t_rev    ebitda  ebitda_margin  est_ann_rev_gr_minus_1yr_minus_capiq  \\\n",
       "0  1.854476  2.063180       1.357549                             -0.082415   \n",
       "2 -0.414144 -0.001839       0.930029                              0.498185   \n",
       "3  0.346379  0.113064      -0.644362                              0.155220   \n",
       "4  0.932537  0.249616      -1.023554                              0.058239   \n",
       "5 -0.852301 -0.335211       1.199552                              1.378076   \n",
       "\n",
       "   est_ann_ebitda_gr_minus_1yr_minus_capiq  t_rev_1yr_growth  \\\n",
       "0                                -0.051720         -0.200552   \n",
       "2                                 0.315414          0.154147   \n",
       "3                                 0.489188         -0.086488   \n",
       "4                                 0.240939         -0.048694   \n",
       "5                                -1.044443          0.953547   \n",
       "\n",
       "   ebitda_1yr_growth  t_rev_3_yr_cagr  ebitda_3yr_cagr  t_rev_5yr_cagr  \\\n",
       "0          -0.117152        -0.146568        -0.200189       -0.409785   \n",
       "2           0.005105        -0.043540         0.067022        0.105498   \n",
       "3           1.158535        -0.210868        -0.657457       -0.617963   \n",
       "4          -0.049895        -0.058469        -0.287471       -0.160306   \n",
       "5          10.520336        -0.171992         0.565689       -0.402320   \n",
       "\n",
       "   ebitda_5yr_cagr  return_on_assets  return_on_equity  capex_as_percent_rev  \\\n",
       "0        -0.255314          1.626267          0.088648              0.500293   \n",
       "2         0.614568          2.846633          0.061770              0.668693   \n",
       "3        -0.966276         -0.532379          0.030109              0.594181   \n",
       "4        -0.510145         -0.532379          0.031555             -0.840162   \n",
       "5        -0.141560         -0.987715         -0.042706             -4.731245   \n",
       "\n",
       "   ebitda/interest_exp  t_debt/cap_percent  t_debt/equity_percent  \n",
       "0             1.206452            0.418197               0.410737  \n",
       "2            -0.034798            0.227465               0.101564  \n",
       "3             0.662340           -0.751357              -0.874354  \n",
       "4             0.366363           -0.396054              -0.550410  \n",
       "5            -0.034798            0.227465               0.101564  "
      ]
     },
     "execution_count": 10,
     "metadata": {},
     "output_type": "execute_result"
    }
   ],
   "source": [
    "y_data = train_df['t_ev']\n",
    "x_data = train_df.iloc[:, 1:]\n",
    "x_data.head()"
   ]
  },
  {
   "cell_type": "code",
   "execution_count": 13,
   "metadata": {
    "collapsed": false,
    "deletable": true,
    "editable": true
   },
   "outputs": [
    {
     "data": {
      "text/html": [
       "<div>\n",
       "<table border=\"1\" class=\"dataframe\">\n",
       "  <thead>\n",
       "    <tr style=\"text-align: right;\">\n",
       "      <th></th>\n",
       "      <th>t_rev</th>\n",
       "      <th>ebitda</th>\n",
       "      <th>ebitda_margin</th>\n",
       "      <th>est_ann_rev_gr_minus_1yr_minus_capiq</th>\n",
       "      <th>est_ann_ebitda_gr_minus_1yr_minus_capiq</th>\n",
       "      <th>t_rev_1yr_growth</th>\n",
       "      <th>ebitda_1yr_growth</th>\n",
       "      <th>t_rev_3_yr_cagr</th>\n",
       "      <th>ebitda_3yr_cagr</th>\n",
       "      <th>t_rev_5yr_cagr</th>\n",
       "      <th>ebitda_5yr_cagr</th>\n",
       "      <th>return_on_assets</th>\n",
       "      <th>return_on_equity</th>\n",
       "      <th>capex_as_percent_rev</th>\n",
       "      <th>ebitda/interest_exp</th>\n",
       "      <th>t_debt/cap_percent</th>\n",
       "      <th>t_debt/equity_percent</th>\n",
       "    </tr>\n",
       "  </thead>\n",
       "  <tbody>\n",
       "    <tr>\n",
       "      <th>1</th>\n",
       "      <td>0.581865</td>\n",
       "      <td>0.775359</td>\n",
       "      <td>0.511802</td>\n",
       "      <td>0.255412</td>\n",
       "      <td>0.279555</td>\n",
       "      <td>-0.074525</td>\n",
       "      <td>0.030248</td>\n",
       "      <td>-0.024472</td>\n",
       "      <td>0.321060</td>\n",
       "      <td>0.292467</td>\n",
       "      <td>0.988172</td>\n",
       "      <td>0.946064</td>\n",
       "      <td>0.054256</td>\n",
       "      <td>0.109958</td>\n",
       "      <td>1.629238</td>\n",
       "      <td>-0.745165</td>\n",
       "      <td>-0.866425</td>\n",
       "    </tr>\n",
       "    <tr>\n",
       "      <th>21</th>\n",
       "      <td>0.993654</td>\n",
       "      <td>1.341696</td>\n",
       "      <td>1.552721</td>\n",
       "      <td>0.139163</td>\n",
       "      <td>0.106332</td>\n",
       "      <td>-0.059298</td>\n",
       "      <td>-0.019252</td>\n",
       "      <td>-0.048714</td>\n",
       "      <td>0.578235</td>\n",
       "      <td>0.016896</td>\n",
       "      <td>0.514197</td>\n",
       "      <td>1.206142</td>\n",
       "      <td>0.071741</td>\n",
       "      <td>1.396944</td>\n",
       "      <td>2.151137</td>\n",
       "      <td>-0.355000</td>\n",
       "      <td>-0.509512</td>\n",
       "    </tr>\n",
       "    <tr>\n",
       "      <th>70</th>\n",
       "      <td>1.983252</td>\n",
       "      <td>1.828370</td>\n",
       "      <td>-0.064421</td>\n",
       "      <td>-0.291790</td>\n",
       "      <td>-0.220806</td>\n",
       "      <td>-0.675162</td>\n",
       "      <td>-0.358681</td>\n",
       "      <td>-0.304287</td>\n",
       "      <td>-0.798589</td>\n",
       "      <td>-1.027482</td>\n",
       "      <td>-1.097316</td>\n",
       "      <td>-0.782454</td>\n",
       "      <td>0.021858</td>\n",
       "      <td>0.874027</td>\n",
       "      <td>0.019669</td>\n",
       "      <td>0.716061</td>\n",
       "      <td>1.027943</td>\n",
       "    </tr>\n",
       "    <tr>\n",
       "      <th>102</th>\n",
       "      <td>1.332328</td>\n",
       "      <td>1.782186</td>\n",
       "      <td>2.621523</td>\n",
       "      <td>0.030622</td>\n",
       "      <td>-0.044824</td>\n",
       "      <td>-0.356490</td>\n",
       "      <td>-0.151802</td>\n",
       "      <td>-0.174653</td>\n",
       "      <td>-0.255512</td>\n",
       "      <td>-0.520990</td>\n",
       "      <td>-0.374087</td>\n",
       "      <td>0.067801</td>\n",
       "      <td>0.043707</td>\n",
       "      <td>1.697198</td>\n",
       "      <td>-0.177959</td>\n",
       "      <td>0.348862</td>\n",
       "      <td>0.306238</td>\n",
       "    </tr>\n",
       "    <tr>\n",
       "      <th>105</th>\n",
       "      <td>0.472909</td>\n",
       "      <td>0.665979</td>\n",
       "      <td>0.456038</td>\n",
       "      <td>-0.352805</td>\n",
       "      <td>-0.010897</td>\n",
       "      <td>-0.256973</td>\n",
       "      <td>-0.080774</td>\n",
       "      <td>-0.132392</td>\n",
       "      <td>-0.111746</td>\n",
       "      <td>-0.336113</td>\n",
       "      <td>0.022937</td>\n",
       "      <td>0.153827</td>\n",
       "      <td>0.043418</td>\n",
       "      <td>-0.343600</td>\n",
       "      <td>0.204798</td>\n",
       "      <td>0.232730</td>\n",
       "      <td>0.142704</td>\n",
       "    </tr>\n",
       "  </tbody>\n",
       "</table>\n",
       "</div>"
      ],
      "text/plain": [
       "        t_rev    ebitda  ebitda_margin  est_ann_rev_gr_minus_1yr_minus_capiq  \\\n",
       "1    0.581865  0.775359       0.511802                              0.255412   \n",
       "21   0.993654  1.341696       1.552721                              0.139163   \n",
       "70   1.983252  1.828370      -0.064421                             -0.291790   \n",
       "102  1.332328  1.782186       2.621523                              0.030622   \n",
       "105  0.472909  0.665979       0.456038                             -0.352805   \n",
       "\n",
       "     est_ann_ebitda_gr_minus_1yr_minus_capiq  t_rev_1yr_growth  \\\n",
       "1                                   0.279555         -0.074525   \n",
       "21                                  0.106332         -0.059298   \n",
       "70                                 -0.220806         -0.675162   \n",
       "102                                -0.044824         -0.356490   \n",
       "105                                -0.010897         -0.256973   \n",
       "\n",
       "     ebitda_1yr_growth  t_rev_3_yr_cagr  ebitda_3yr_cagr  t_rev_5yr_cagr  \\\n",
       "1             0.030248        -0.024472         0.321060        0.292467   \n",
       "21           -0.019252        -0.048714         0.578235        0.016896   \n",
       "70           -0.358681        -0.304287        -0.798589       -1.027482   \n",
       "102          -0.151802        -0.174653        -0.255512       -0.520990   \n",
       "105          -0.080774        -0.132392        -0.111746       -0.336113   \n",
       "\n",
       "     ebitda_5yr_cagr  return_on_assets  return_on_equity  \\\n",
       "1           0.988172          0.946064          0.054256   \n",
       "21          0.514197          1.206142          0.071741   \n",
       "70         -1.097316         -0.782454          0.021858   \n",
       "102        -0.374087          0.067801          0.043707   \n",
       "105         0.022937          0.153827          0.043418   \n",
       "\n",
       "     capex_as_percent_rev  ebitda/interest_exp  t_debt/cap_percent  \\\n",
       "1                0.109958             1.629238           -0.745165   \n",
       "21               1.396944             2.151137           -0.355000   \n",
       "70               0.874027             0.019669            0.716061   \n",
       "102              1.697198            -0.177959            0.348862   \n",
       "105             -0.343600             0.204798            0.232730   \n",
       "\n",
       "     t_debt/equity_percent  \n",
       "1                -0.866425  \n",
       "21               -0.509512  \n",
       "70                1.027943  \n",
       "102               0.306238  \n",
       "105               0.142704  "
      ]
     },
     "execution_count": 13,
     "metadata": {},
     "output_type": "execute_result"
    }
   ],
   "source": [
    "x_test = holdout_df.iloc[:, 1:]\n",
    "y_test = holdout_df.t_ev\n",
    "x_test.head()"
   ]
  },
  {
   "cell_type": "markdown",
   "metadata": {
    "deletable": true,
    "editable": true
   },
   "source": [
    "# OLS Regression"
   ]
  },
  {
   "cell_type": "code",
   "execution_count": 18,
   "metadata": {
    "collapsed": false,
    "deletable": true,
    "editable": true
   },
   "outputs": [
    {
     "name": "stdout",
     "output_type": "stream",
     "text": [
      "Average MSE: 0.2153 (+/- 0.0994)\n"
     ]
    }
   ],
   "source": [
    "ols_model = LinearRegression()\n",
    "scores = cross_val_score(ols_model, x_data, y_data, scoring='neg_mean_squared_error', cv=5)\n",
    "# print('MSEs:', scores*-1)\n",
    "print(\"Average MSE: %0.4f (+/- %0.4f)\" % (-scores.mean(), scores.std()))"
   ]
  },
  {
   "cell_type": "markdown",
   "metadata": {
    "deletable": true,
    "editable": true
   },
   "source": [
    "# Lasso Regression "
   ]
  },
  {
   "cell_type": "code",
   "execution_count": 14,
   "metadata": {
    "collapsed": false,
    "deletable": true,
    "editable": true
   },
   "outputs": [
    {
     "name": "stdout",
     "output_type": "stream",
     "text": [
      "Average MSE (alpha = 1e-2): 0.2083 (+/- 0.1012)\n"
     ]
    }
   ],
   "source": [
    "lasso_model = Lasso()\n",
    "alphas         = [ 1e-5, 1e-4, 1e-3, 5e-3, 1e-2, 5e-2, 1e-1, 1, 10, 100 ]\n",
    "lasso_mses     = []\n",
    "lasso_avg_mses = []\n",
    "lasso_std_mses = []\n",
    "\n",
    "for alpha in alphas:\n",
    "    lasso_model.alpha = alpha\n",
    "    scores = cross_val_score(lasso_model, x_data, y_data, scoring='neg_mean_squared_error', cv=5)\n",
    "    lasso_mses.append( scores*-1 )\n",
    "    lasso_avg_mses.append( -scores.mean() )\n",
    "    lasso_std_mses.append( scores.std() )\n",
    "\n",
    "# Plot Hyperparameter Selection\n",
    "#plt.semilogx( alphas, lasso_avg_mses )\n",
    "#plt.title('Lasso - MSE vs Alpha')\n",
    "#plt.xlabel('Alpha')\n",
    "#plt.ylabel('MSE')\n",
    "\n",
    "# print('MSEs (alpha = 1e-2):', lasso_mses[3]*-1)\n",
    "print(\"Average MSE (alpha = 1e-2): %0.4f (+/- %0.4f)\" % (lasso_avg_mses[3], lasso_std_mses[3]))"
   ]
  },
  {
   "cell_type": "code",
   "execution_count": 15,
   "metadata": {
    "collapsed": false,
    "deletable": true,
    "editable": true
   },
   "outputs": [
    {
     "name": "stdout",
     "output_type": "stream",
     "text": [
      "Finished!\n"
     ]
    }
   ],
   "source": [
    "lasso_model.alpha = 1e-2\n",
    "lasso_model.fit(x_data, y_data)\n",
    "yhat_lasso = lasso_model.predict(x_test)\n",
    "print 'Finished!'"
   ]
  },
  {
   "cell_type": "markdown",
   "metadata": {
    "deletable": true,
    "editable": true
   },
   "source": [
    "# Ridge Regression"
   ]
  },
  {
   "cell_type": "code",
   "execution_count": 16,
   "metadata": {
    "collapsed": false,
    "deletable": true,
    "editable": true
   },
   "outputs": [
    {
     "name": "stdout",
     "output_type": "stream",
     "text": [
      "Average MSE (alpha = 1e-2): 0.2039 (+/- 0.0929)\n"
     ]
    }
   ],
   "source": [
    "ridge_model = Ridge()\n",
    "alphas         = [ 1e-5, 1e-4, 1e-3, 1e-2, 1e-1, 1, 10, 100 ]\n",
    "ridge_mses     = []\n",
    "ridge_avg_mses = []\n",
    "ridge_std_mses = []\n",
    "\n",
    "for alpha in alphas:\n",
    "    ridge_model.alpha = alpha\n",
    "    scores = cross_val_score(ridge_model, x_data, y_data, scoring='neg_mean_squared_error', cv=5)\n",
    "    ridge_mses.append( scores*-1 )\n",
    "    ridge_avg_mses.append( -scores.mean() )\n",
    "    ridge_std_mses.append( scores.std() )\n",
    "\n",
    "# Plot Hyperparameter Selection\n",
    "#plt.semilogx( alphas, ridge_avg_mses )\n",
    "#plt.title('Ridge - MSE vs Alpha')\n",
    "#plt.xlabel('Alpha')\n",
    "#plt.ylabel('MSE')\n",
    "\n",
    "# print('MSEs (alpha = 1e-2):', lasso_mses[3]*-1)\n",
    "print(\"Average MSE (alpha = 1e-2): %0.4f (+/- %0.4f)\" % (ridge_avg_mses[6], ridge_std_mses[6]))"
   ]
  },
  {
   "cell_type": "code",
   "execution_count": 17,
   "metadata": {
    "collapsed": false,
    "deletable": true,
    "editable": true,
    "scrolled": true
   },
   "outputs": [
    {
     "name": "stdout",
     "output_type": "stream",
     "text": [
      "Finished!\n"
     ]
    }
   ],
   "source": [
    "ridge_model.alpha = 1e-2\n",
    "ridge_model.fit(x_data, y_data)\n",
    "yhat_ridge = ridge_model.predict(x_test)\n",
    "print 'Finished!'"
   ]
  },
  {
   "cell_type": "markdown",
   "metadata": {
    "deletable": true,
    "editable": true
   },
   "source": [
    "# Random Forest Classifier"
   ]
  },
  {
   "cell_type": "code",
   "execution_count": 20,
   "metadata": {
    "collapsed": false,
    "deletable": true,
    "editable": true
   },
   "outputs": [
    {
     "name": "stdout",
     "output_type": "stream",
     "text": [
      "Average MSE: 0.2214 (+/- 0.1340)\n"
     ]
    }
   ],
   "source": [
    "# basic model \n",
    "model = RandomForestRegressor()\n",
    "scores = cross_val_score(model, x_data, y_data, scoring='neg_mean_squared_error', cv=5)\n",
    "# print('MSEs:', scores*-1)\n",
    "print(\"Average MSE: %0.4f (+/- %0.4f)\" % (-scores.mean(), scores.std()))"
   ]
  },
  {
   "cell_type": "code",
   "execution_count": 36,
   "metadata": {
    "collapsed": false,
    "deletable": true,
    "editable": true,
    "scrolled": true
   },
   "outputs": [
    {
     "name": "stdout",
     "output_type": "stream",
     "text": [
      "current param: n_estimators_params, max_features_params, min_samples_split_params, min_samples_leaf_params\n",
      "(10, 'auto', 2, 2)\n",
      "mse mean and std:  0.23134456197 0.153749377584\n",
      "current param: n_estimators_params, max_features_params, min_samples_split_params, min_samples_leaf_params\n",
      "(10, 'sqrt', 2, 2)\n",
      "mse mean and std:  0.217878513076 0.139053975999\n",
      "current param: n_estimators_params, max_features_params, min_samples_split_params, min_samples_leaf_params\n",
      "(10, 'log2', 2, 2)\n",
      "mse mean and std:  0.217878513076 0.139053975999\n",
      "current param: n_estimators_params, max_features_params, min_samples_split_params, min_samples_leaf_params\n",
      "(20, 'auto', 2, 2)\n",
      "mse mean and std:  0.224468122662 0.151168747309\n",
      "current param: n_estimators_params, max_features_params, min_samples_split_params, min_samples_leaf_params\n",
      "(20, 'sqrt', 2, 2)\n",
      "mse mean and std:  0.205373059319 0.125319452074\n",
      "current param: n_estimators_params, max_features_params, min_samples_split_params, min_samples_leaf_params\n",
      "(20, 'log2', 2, 2)\n",
      "mse mean and std:  0.205373059319 0.125319452074\n"
     ]
    }
   ],
   "source": [
    "from sklearn.ensemble import RandomForestRegressor\n",
    "from itertools import product\n",
    "n_estimators_params = [10, 20]\n",
    "max_features_params = ['auto', 'sqrt', \"log2\"]\n",
    "min_samples_split_params = [2]\n",
    "min_samples_leaf_params = [  2]\n",
    "\n",
    "result_dict = {}\n",
    "for param in product(n_estimators_params, max_features_params, min_samples_split_params, min_samples_leaf_params):\n",
    "    rf_model = RandomForestRegressor(n_estimators=param[0], max_features=param[1],\n",
    "                                min_samples_split=param[2], min_samples_leaf=param[3], \n",
    "                                 random_state=1711, n_jobs=-1)\n",
    "    scores = cross_val_score(rf_model, x_data, y_data, scoring='neg_mean_squared_error', cv=5)\n",
    "    result_dict[param] = (-scores.mean(), scores.std())\n",
    "    print 'current param: n_estimators_params, max_features_params, min_samples_split_params, min_samples_leaf_params'\n",
    "    print param\n",
    "    print 'mse mean and std: ',  -scores.mean(), scores.std()"
   ]
  },
  {
   "cell_type": "code",
   "execution_count": 21,
   "metadata": {
    "collapsed": false,
    "deletable": true,
    "editable": true
   },
   "outputs": [
    {
     "ename": "NameError",
     "evalue": "name 'result_dict' is not defined",
     "output_type": "error",
     "traceback": [
      "\u001b[0;31m---------------------------------------------------------------------------\u001b[0m",
      "\u001b[0;31mNameError\u001b[0m                                 Traceback (most recent call last)",
      "\u001b[0;32m<ipython-input-21-32ff699770fb>\u001b[0m in \u001b[0;36m<module>\u001b[0;34m()\u001b[0m\n\u001b[1;32m      1\u001b[0m \u001b[0mmin_mse\u001b[0m \u001b[0;34m=\u001b[0m \u001b[0;36m100\u001b[0m\u001b[0;34m\u001b[0m\u001b[0m\n\u001b[1;32m      2\u001b[0m \u001b[0mmin_param\u001b[0m \u001b[0;34m=\u001b[0m \u001b[0;34m(\u001b[0m\u001b[0;34m)\u001b[0m\u001b[0;34m\u001b[0m\u001b[0m\n\u001b[0;32m----> 3\u001b[0;31m \u001b[0;32mfor\u001b[0m \u001b[0mparam\u001b[0m \u001b[0;32min\u001b[0m \u001b[0mresult_dict\u001b[0m\u001b[0;34m:\u001b[0m\u001b[0;34m\u001b[0m\u001b[0m\n\u001b[0m\u001b[1;32m      4\u001b[0m     \u001b[0;32mif\u001b[0m \u001b[0mresult_dict\u001b[0m\u001b[0;34m[\u001b[0m\u001b[0mparam\u001b[0m\u001b[0;34m]\u001b[0m\u001b[0;34m[\u001b[0m\u001b[0;36m0\u001b[0m\u001b[0;34m]\u001b[0m \u001b[0;34m<\u001b[0m \u001b[0mmin_mse\u001b[0m\u001b[0;34m:\u001b[0m\u001b[0;34m\u001b[0m\u001b[0m\n\u001b[1;32m      5\u001b[0m         \u001b[0mmin_mse\u001b[0m\u001b[0;34m=\u001b[0m\u001b[0mresult_dict\u001b[0m\u001b[0;34m[\u001b[0m\u001b[0mparam\u001b[0m\u001b[0;34m]\u001b[0m\u001b[0;34m[\u001b[0m\u001b[0;36m0\u001b[0m\u001b[0;34m]\u001b[0m\u001b[0;34m\u001b[0m\u001b[0m\n",
      "\u001b[0;31mNameError\u001b[0m: name 'result_dict' is not defined"
     ]
    }
   ],
   "source": [
    "min_mse = 100\n",
    "min_param = ()\n",
    "for param in result_dict:\n",
    "    if result_dict[param][0] < min_mse:\n",
    "        min_mse=result_dict[param][0]\n",
    "        min_param = param\n",
    "print result_dict[min_param], min_param"
   ]
  },
  {
   "cell_type": "code",
   "execution_count": 22,
   "metadata": {
    "collapsed": false,
    "deletable": true,
    "editable": true
   },
   "outputs": [
    {
     "name": "stdout",
     "output_type": "stream",
     "text": [
      "Finished!\n"
     ]
    }
   ],
   "source": [
    "rf_model = RandomForestRegressor(n_estimators=20, max_features='sqrt',\n",
    "                                min_samples_split=2, min_samples_leaf=2,random_state=1711, n_jobs=-1)\n",
    "rf_model.fit(x_data, y_data)\n",
    "yhat_rf = rf_model.predict(x_test)\n",
    "print 'Finished!'"
   ]
  },
  {
   "cell_type": "markdown",
   "metadata": {
    "deletable": true,
    "editable": true
   },
   "source": [
    "## Go back to unstandarized data"
   ]
  },
  {
   "cell_type": "markdown",
   "metadata": {
    "deletable": true,
    "editable": true
   },
   "source": [
    "<b> Michael Data Recovery</b>\n"
   ]
  },
  {
   "cell_type": "code",
   "execution_count": 23,
   "metadata": {
    "collapsed": true,
    "deletable": true,
    "editable": true
   },
   "outputs": [],
   "source": [
    "data_set = load_data_frames()\n",
    "industrial_raw = data_set[2]\n",
    "mean_filled_na_industrial = mean_fill_nan_entries(industrial_raw)"
   ]
  },
  {
   "cell_type": "code",
   "execution_count": 24,
   "metadata": {
    "collapsed": false,
    "deletable": true,
    "editable": true
   },
   "outputs": [
    {
     "data": {
      "text/html": [
       "<div>\n",
       "<table border=\"1\" class=\"dataframe\">\n",
       "  <thead>\n",
       "    <tr style=\"text-align: right;\">\n",
       "      <th></th>\n",
       "      <th>t_ev</th>\n",
       "      <th>t_rev</th>\n",
       "      <th>ebitda</th>\n",
       "      <th>ebitda_margin</th>\n",
       "      <th>t_ev/t_rev</th>\n",
       "      <th>t_ev/ebitda</th>\n",
       "      <th>est_ann_rev_gr_minus_1yr_minus_capiq</th>\n",
       "      <th>est_ann_ebitda_gr_minus_1yr_minus_capiq</th>\n",
       "      <th>t_rev_1yr_growth</th>\n",
       "      <th>ebitda_1yr_growth</th>\n",
       "      <th>t_rev_3_yr_cagr</th>\n",
       "      <th>ebitda_3yr_cagr</th>\n",
       "      <th>t_rev_5yr_cagr</th>\n",
       "      <th>ebitda_5yr_cagr</th>\n",
       "      <th>return_on_assets</th>\n",
       "      <th>return_on_equity</th>\n",
       "      <th>capex_as_percent_rev</th>\n",
       "      <th>ebitda/interest_exp</th>\n",
       "      <th>t_debt/cap_percent</th>\n",
       "      <th>t_debt/equity_percent</th>\n",
       "    </tr>\n",
       "  </thead>\n",
       "  <tbody>\n",
       "    <tr>\n",
       "      <th>0</th>\n",
       "      <td>117144.9</td>\n",
       "      <td>30109.0</td>\n",
       "      <td>8676.3</td>\n",
       "      <td>28.80</td>\n",
       "      <td>3.890</td>\n",
       "      <td>13.5</td>\n",
       "      <td>1.06</td>\n",
       "      <td>5.309605</td>\n",
       "      <td>-0.545</td>\n",
       "      <td>2.14</td>\n",
       "      <td>-0.83</td>\n",
       "      <td>2.580</td>\n",
       "      <td>0.334</td>\n",
       "      <td>3.20</td>\n",
       "      <td>13.80</td>\n",
       "      <td>45.80</td>\n",
       "      <td>4.720</td>\n",
       "      <td>43.600000</td>\n",
       "      <td>53.000000</td>\n",
       "      <td>112.600000</td>\n",
       "    </tr>\n",
       "    <tr>\n",
       "      <th>1</th>\n",
       "      <td>7892.2</td>\n",
       "      <td>2627.2</td>\n",
       "      <td>517.5</td>\n",
       "      <td>19.70</td>\n",
       "      <td>3.000</td>\n",
       "      <td>15.3</td>\n",
       "      <td>6.32</td>\n",
       "      <td>14.800000</td>\n",
       "      <td>4.090</td>\n",
       "      <td>20.90</td>\n",
       "      <td>7.43</td>\n",
       "      <td>19.200</td>\n",
       "      <td>10.400</td>\n",
       "      <td>25.50</td>\n",
       "      <td>10.40</td>\n",
       "      <td>22.00</td>\n",
       "      <td>2.870</td>\n",
       "      <td>72.900000</td>\n",
       "      <td>14.700000</td>\n",
       "      <td>17.300000</td>\n",
       "    </tr>\n",
       "    <tr>\n",
       "      <th>2</th>\n",
       "      <td>1702.2</td>\n",
       "      <td>389.5</td>\n",
       "      <td>94.4</td>\n",
       "      <td>24.20</td>\n",
       "      <td>4.370</td>\n",
       "      <td>18.0</td>\n",
       "      <td>10.10</td>\n",
       "      <td>16.100000</td>\n",
       "      <td>12.500</td>\n",
       "      <td>17.70</td>\n",
       "      <td>6.14</td>\n",
       "      <td>11.100</td>\n",
       "      <td>7.720</td>\n",
       "      <td>18.80</td>\n",
       "      <td>19.90</td>\n",
       "      <td>27.20</td>\n",
       "      <td>5.850</td>\n",
       "      <td>23.685012</td>\n",
       "      <td>46.270344</td>\n",
       "      <td>176.257816</td>\n",
       "    </tr>\n",
       "    <tr>\n",
       "      <th>3</th>\n",
       "      <td>1243.0</td>\n",
       "      <td>1673.0</td>\n",
       "      <td>121.4</td>\n",
       "      <td>7.26</td>\n",
       "      <td>0.743</td>\n",
       "      <td>10.2</td>\n",
       "      <td>4.76</td>\n",
       "      <td>22.400000</td>\n",
       "      <td>3.650</td>\n",
       "      <td>164.50</td>\n",
       "      <td>-5.18</td>\n",
       "      <td>-12.000</td>\n",
       "      <td>-2.650</td>\n",
       "      <td>-9.55</td>\n",
       "      <td>3.01</td>\n",
       "      <td>5.29</td>\n",
       "      <td>5.320</td>\n",
       "      <td>22.500000</td>\n",
       "      <td>14.600000</td>\n",
       "      <td>17.100000</td>\n",
       "    </tr>\n",
       "    <tr>\n",
       "      <th>4</th>\n",
       "      <td>2481.2</td>\n",
       "      <td>5144.7</td>\n",
       "      <td>163.7</td>\n",
       "      <td>3.18</td>\n",
       "      <td>0.482</td>\n",
       "      <td>14.5</td>\n",
       "      <td>3.25</td>\n",
       "      <td>13.400000</td>\n",
       "      <td>5.040</td>\n",
       "      <td>10.70</td>\n",
       "      <td>5.13</td>\n",
       "      <td>-0.203</td>\n",
       "      <td>3.910</td>\n",
       "      <td>-1.37</td>\n",
       "      <td>3.01</td>\n",
       "      <td>6.29</td>\n",
       "      <td>0.855</td>\n",
       "      <td>15.700000</td>\n",
       "      <td>21.600000</td>\n",
       "      <td>27.500000</td>\n",
       "    </tr>\n",
       "  </tbody>\n",
       "</table>\n",
       "</div>"
      ],
      "text/plain": [
       "       t_ev    t_rev  ebitda  ebitda_margin  t_ev/t_rev  t_ev/ebitda  \\\n",
       "0  117144.9  30109.0  8676.3          28.80       3.890         13.5   \n",
       "1    7892.2   2627.2   517.5          19.70       3.000         15.3   \n",
       "2    1702.2    389.5    94.4          24.20       4.370         18.0   \n",
       "3    1243.0   1673.0   121.4           7.26       0.743         10.2   \n",
       "4    2481.2   5144.7   163.7           3.18       0.482         14.5   \n",
       "\n",
       "   est_ann_rev_gr_minus_1yr_minus_capiq  \\\n",
       "0                                  1.06   \n",
       "1                                  6.32   \n",
       "2                                 10.10   \n",
       "3                                  4.76   \n",
       "4                                  3.25   \n",
       "\n",
       "   est_ann_ebitda_gr_minus_1yr_minus_capiq  t_rev_1yr_growth  \\\n",
       "0                                 5.309605            -0.545   \n",
       "1                                14.800000             4.090   \n",
       "2                                16.100000            12.500   \n",
       "3                                22.400000             3.650   \n",
       "4                                13.400000             5.040   \n",
       "\n",
       "   ebitda_1yr_growth  t_rev_3_yr_cagr  ebitda_3yr_cagr  t_rev_5yr_cagr  \\\n",
       "0               2.14            -0.83            2.580           0.334   \n",
       "1              20.90             7.43           19.200          10.400   \n",
       "2              17.70             6.14           11.100           7.720   \n",
       "3             164.50            -5.18          -12.000          -2.650   \n",
       "4              10.70             5.13           -0.203           3.910   \n",
       "\n",
       "   ebitda_5yr_cagr  return_on_assets  return_on_equity  capex_as_percent_rev  \\\n",
       "0             3.20             13.80             45.80                 4.720   \n",
       "1            25.50             10.40             22.00                 2.870   \n",
       "2            18.80             19.90             27.20                 5.850   \n",
       "3            -9.55              3.01              5.29                 5.320   \n",
       "4            -1.37              3.01              6.29                 0.855   \n",
       "\n",
       "   ebitda/interest_exp  t_debt/cap_percent  t_debt/equity_percent  \n",
       "0            43.600000           53.000000             112.600000  \n",
       "1            72.900000           14.700000              17.300000  \n",
       "2            23.685012           46.270344             176.257816  \n",
       "3            22.500000           14.600000              17.100000  \n",
       "4            15.700000           21.600000              27.500000  "
      ]
     },
     "execution_count": 24,
     "metadata": {},
     "output_type": "execute_result"
    }
   ],
   "source": [
    "mean_industrial_df = pd.DataFrame(mean_filled_na_industrial, columns=industrials_df_col_names )\n",
    "mean_industrial_df.head()"
   ]
  },
  {
   "cell_type": "code",
   "execution_count": 25,
   "metadata": {
    "collapsed": false,
    "deletable": true,
    "editable": true
   },
   "outputs": [
    {
     "name": "stdout",
     "output_type": "stream",
     "text": [
      "6882.03773922 24313.4761283\n",
      "572.919179704 1557.56049375\n"
     ]
    }
   ],
   "source": [
    "mean_tev = np.mean(mean_industrial_df['t_ev'])\n",
    "std_tev = np.std(mean_industrial_df['t_ev'])\n",
    "print mean_tev, std_tev\n",
    "mean_ebitda = np.mean(mean_industrial_df['ebitda'])\n",
    "std_ebitda = np.std(mean_industrial_df['ebitda'])\n",
    "print mean_ebitda, std_ebitda"
   ]
  },
  {
   "cell_type": "code",
   "execution_count": 26,
   "metadata": {
    "collapsed": false,
    "deletable": true,
    "editable": true
   },
   "outputs": [
    {
     "name": "stdout",
     "output_type": "stream",
     "text": [
      "3.06717349192 0.935453344737\n",
      "1.9767206397 0.951778662612\n"
     ]
    },
    {
     "name": "stderr",
     "output_type": "stream",
     "text": [
      "/Users/xinyutan/anaconda2/lib/python2.7/site-packages/ipykernel/__main__.py:5: RuntimeWarning: invalid value encountered in log10\n"
     ]
    }
   ],
   "source": [
    "log_mean_tev = np.mean(log_basis(mean_industrial_df['t_ev']))\n",
    "log_std_tev = np.std(log_basis(mean_industrial_df['t_ev']))\n",
    "print log_mean_tev, log_std_tev\n",
    "log_mean_ebitda = np.mean(log_basis(mean_industrial_df['ebitda']))\n",
    "log_std_ebitda = np.std(log_basis(mean_industrial_df['ebitda']))\n",
    "print log_mean_ebitda, log_std_ebitda"
   ]
  },
  {
   "cell_type": "code",
   "execution_count": 27,
   "metadata": {
    "collapsed": false,
    "deletable": true,
    "editable": true
   },
   "outputs": [
    {
     "name": "stdout",
     "output_type": "stream",
     "text": [
      "2.27113525726e-15\n",
      "1.0\n"
     ]
    },
    {
     "name": "stderr",
     "output_type": "stream",
     "text": [
      "/Users/xinyutan/anaconda2/lib/python2.7/site-packages/ipykernel/__main__.py:5: RuntimeWarning: invalid value encountered in log10\n"
     ]
    }
   ],
   "source": [
    "michael_scale_ebitda = (log_basis(mean_industrial_df['ebitda']) - log_mean_ebitda)/log_std_ebitda\n",
    "print(np.mean(michael_scale_ebitda))\n",
    "print(np.std(michael_scale_ebitda))"
   ]
  },
  {
   "cell_type": "markdown",
   "metadata": {
    "deletable": true,
    "editable": true
   },
   "source": [
    "## TEV/EBITDA"
   ]
  },
  {
   "cell_type": "code",
   "execution_count": 28,
   "metadata": {
    "collapsed": true,
    "deletable": true,
    "editable": true
   },
   "outputs": [],
   "source": [
    "ridge_pred_tev = 10**((yhat_ridge*log_std_tev)+log_mean_tev)\n",
    "lasso_pred_tev = 10 **((yhat_lasso*log_std_tev)+log_mean_tev)\n",
    "rf_pred_tev = 10**((yhat_rf*log_std_tev)+log_mean_tev)\n",
    "\n",
    "original_ebitda = 10**((x_test.ebitda*log_std_ebitda)+log_mean_ebitda)"
   ]
  },
  {
   "cell_type": "code",
   "execution_count": 29,
   "metadata": {
    "collapsed": false,
    "deletable": true,
    "editable": true
   },
   "outputs": [],
   "source": [
    "ridge_multiple = ridge_pred_tev/original_ebitda\n",
    "lasso_multiple = lasso_pred_tev/original_ebitda\n",
    "rf_multiple = rf_pred_tev/original_ebitda\n",
    "\n",
    "rf_multiple.index = raw_data.ix[holdout_index, 'Company Name']\n",
    "lasso_multiple.index = raw_data.ix[holdout_index, 'Company Name']\n",
    "ridge_multiple.index = raw_data.ix[holdout_index, 'Company Name']"
   ]
  },
  {
   "cell_type": "code",
   "execution_count": 30,
   "metadata": {
    "collapsed": false,
    "deletable": true,
    "editable": true
   },
   "outputs": [
    {
     "data": {
      "text/html": [
       "<div>\n",
       "<table border=\"1\" class=\"dataframe\">\n",
       "  <thead>\n",
       "    <tr style=\"text-align: right;\">\n",
       "      <th></th>\n",
       "      <th>Predicted EV/EBITDA</th>\n",
       "      <th>Actual EV/EBITDA</th>\n",
       "    </tr>\n",
       "    <tr>\n",
       "      <th>Target Companies</th>\n",
       "      <th></th>\n",
       "      <th></th>\n",
       "    </tr>\n",
       "  </thead>\n",
       "  <tbody>\n",
       "    <tr>\n",
       "      <th>A. O. Smith Corporation (NYSE:AOS)</th>\n",
       "      <td>14.598</td>\n",
       "      <td>15.30</td>\n",
       "    </tr>\n",
       "    <tr>\n",
       "      <th>Alaska Air Group, Inc. (NYSE:ALK)</th>\n",
       "      <td>5.770</td>\n",
       "      <td>5.51</td>\n",
       "    </tr>\n",
       "    <tr>\n",
       "      <th>Caterpillar Inc. (NYSE:CAT)</th>\n",
       "      <td>13.770</td>\n",
       "      <td>16.20</td>\n",
       "    </tr>\n",
       "  </tbody>\n",
       "</table>\n",
       "</div>"
      ],
      "text/plain": [
       "                                    Predicted EV/EBITDA  Actual EV/EBITDA\n",
       "Target Companies                                                         \n",
       "A. O. Smith Corporation (NYSE:AOS)               14.598             15.30\n",
       "Alaska Air Group, Inc. (NYSE:ALK)                 5.770              5.51\n",
       "Caterpillar Inc. (NYSE:CAT)                      13.770             16.20"
      ]
     },
     "execution_count": 30,
     "metadata": {},
     "output_type": "execute_result"
    }
   ],
   "source": [
    "# real value and derek's approach\n",
    "market_approach = pd.read_excel('20_companies_derek.xlsx', na_values=['-', 'NM'] )\n",
    "market_approach = market_approach.iloc[:, :3]\n",
    "market_approach = market_approach.set_index('Target Companies')\n",
    "market_approach = market_approach.ix[raw_data.ix[holdout_index, 'Company Name']]\n",
    "market_approach.head(3)"
   ]
  },
  {
   "cell_type": "code",
   "execution_count": 32,
   "metadata": {
    "collapsed": true,
    "deletable": true,
    "editable": true
   },
   "outputs": [],
   "source": [
    "# calculate the se for each company\n",
    "rf_se = (rf_multiple - market_approach['Actual EV/EBITDA'])**2\n",
    "lasso_se = (lasso_multiple - market_approach['Actual EV/EBITDA'])**2\n",
    "ridge_se = (ridge_multiple - market_approach['Actual EV/EBITDA'])**2\n",
    "market_se = (market_approach['Predicted EV/EBITDA'] - market_approach['Actual EV/EBITDA'])**2"
   ]
  },
  {
   "cell_type": "code",
   "execution_count": 33,
   "metadata": {
    "collapsed": false,
    "deletable": true,
    "editable": true
   },
   "outputs": [
    {
     "data": {
      "text/plain": [
       "Company Name\n",
       "A. O. Smith Corporation (NYSE:AOS)                10.179522\n",
       "Alaska Air Group, Inc. (NYSE:ALK)                  3.442089\n",
       "Caterpillar Inc. (NYSE:CAT)                      177.880103\n",
       "CSX Corporation (NasdaqGS:CSX)                     7.295694\n",
       "Curtiss-Wright Corporation (NYSE:CW)               4.863148\n",
       "Deere & Company (NYSE:DE)                        135.063203\n",
       "Delta Air Lines, Inc. (NYSE:DAL)                   1.632926\n",
       "FedEx Corporation (NYSE:FDX)                       8.052310\n",
       "General Dynamics Corporation (NYSE:GD)            42.486901\n",
       "JetBlue Airways Corporation (NasdaqGS:JBLU)        9.481464\n",
       "Lockheed Martin Corporation (NYSE:LMT)            29.176512\n",
       "Northrop Grumman Corporation (NYSE:NOC)           26.795398\n",
       "Raytheon Company (NYSE:RTN)                       21.033705\n",
       "Republic Airways Holdings Inc. (OTCPK:RJET.Q)      2.744857\n",
       "Ryder System, Inc. (NYSE:R)                        9.731073\n",
       "Southwest Airlines Co. (NYSE:LUV)                  0.909880\n",
       "Spirit Airlines, Inc. (NasdaqGS:SAVE)             10.748239\n",
       "United Parcel Service, Inc. (NYSE:UPS)            39.775899\n",
       "dtype: float64"
      ]
     },
     "execution_count": 33,
     "metadata": {},
     "output_type": "execute_result"
    }
   ],
   "source": [
    "rf_se"
   ]
  },
  {
   "cell_type": "code",
   "execution_count": null,
   "metadata": {
    "collapsed": true,
    "deletable": true,
    "editable": true
   },
   "outputs": [],
   "source": []
  },
  {
   "cell_type": "code",
   "execution_count": null,
   "metadata": {
    "collapsed": true,
    "deletable": true,
    "editable": true
   },
   "outputs": [],
   "source": []
  },
  {
   "cell_type": "code",
   "execution_count": 110,
   "metadata": {
    "collapsed": true,
    "deletable": true,
    "editable": true
   },
   "outputs": [],
   "source": [
    "result_df = pd.DataFrame({'Method': ['RandomForest']*len(rf_se) + ['Lasso']*len(lasso_se) +\\\n",
    "                          ['Ridge']*len(ridge_se) + ['MarketApproach']*len(market_se), \n",
    "                         'Error': np.concatenate((rf_se.values, lasso_se.values, ridge_se.values, market_se.values))})"
   ]
  },
  {
   "cell_type": "code",
   "execution_count": 114,
   "metadata": {
    "collapsed": false,
    "deletable": true,
    "editable": true
   },
   "outputs": [
    {
     "data": {
      "text/plain": [
       "Company Name\n",
       "A. O. Smith Corporation (NYSE:AOS)                10.179522\n",
       "Alaska Air Group, Inc. (NYSE:ALK)                  3.442089\n",
       "Caterpillar Inc. (NYSE:CAT)                      177.880103\n",
       "CSX Corporation (NasdaqGS:CSX)                     7.295694\n",
       "Curtiss-Wright Corporation (NYSE:CW)               4.863148\n",
       "Deere & Company (NYSE:DE)                        135.063203\n",
       "Delta Air Lines, Inc. (NYSE:DAL)                   1.632926\n",
       "FedEx Corporation (NYSE:FDX)                       8.052310\n",
       "General Dynamics Corporation (NYSE:GD)            42.486901\n",
       "JetBlue Airways Corporation (NasdaqGS:JBLU)        9.481464\n",
       "Lockheed Martin Corporation (NYSE:LMT)            29.176512\n",
       "Northrop Grumman Corporation (NYSE:NOC)           26.795398\n",
       "Raytheon Company (NYSE:RTN)                       21.033705\n",
       "Republic Airways Holdings Inc. (OTCPK:RJET.Q)      2.744857\n",
       "Ryder System, Inc. (NYSE:R)                        9.731073\n",
       "Southwest Airlines Co. (NYSE:LUV)                  0.909880\n",
       "Spirit Airlines, Inc. (NasdaqGS:SAVE)             10.748239\n",
       "United Parcel Service, Inc. (NYSE:UPS)            39.775899\n",
       "dtype: float64"
      ]
     },
     "execution_count": 114,
     "metadata": {},
     "output_type": "execute_result"
    }
   ],
   "source": [
    "rf_se"
   ]
  },
  {
   "cell_type": "code",
   "execution_count": 136,
   "metadata": {
    "collapsed": false,
    "deletable": true,
    "editable": true
   },
   "outputs": [
    {
     "data": {
      "text/plain": [
       "<matplotlib.axes._subplots.AxesSubplot at 0x117bb3290>"
      ]
     },
     "execution_count": 136,
     "metadata": {},
     "output_type": "execute_result"
    },
    {
     "data": {
      "image/png": "[encoded data removed]",
      "text/plain": [
       "<matplotlib.figure.Figure at 0x117e04910>"
      ]
     },
     "metadata": {},
     "output_type": "display_data"
    }
   ],
   "source": [
    "sns.set(font_scale=1.75)\n",
    "fig_size = (6, 5)\n",
    "sns.boxplot(x='Method', y='Error', data=result_df, palette=sns.color_palette(\"Blues\"))\n",
    "sns.swarmplot(x=\"Method\", y=\"Error\", data=result_df, \n",
    "              color=sns.light_palette(\"black\")[-1], size=6, alpha=0.5)"
   ]
  },
  {
   "cell_type": "code",
   "execution_count": null,
   "metadata": {
    "collapsed": false,
    "deletable": true,
    "editable": true
   },
   "outputs": [],
   "source": []
  }
 ],
 "metadata": {
  "kernelspec": {
   "display_name": "Python 2",
   "language": "python",
   "name": "python2"
  },
  "language_info": {
   "codemirror_mode": {
    "name": "ipython",
    "version": 2
   },
   "file_extension": ".py",
   "mimetype": "text/x-python",
   "name": "python",
   "nbconvert_exporter": "python",
   "pygments_lexer": "ipython2",
   "version": "2.7.11"
  }
 },
 "nbformat": 4,
 "nbformat_minor": 1
}
