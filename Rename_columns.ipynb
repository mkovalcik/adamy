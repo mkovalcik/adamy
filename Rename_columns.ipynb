{
 "cells": [
  {
   "cell_type": "code",
   "execution_count": 1,
   "metadata": {
    "collapsed": true
   },
   "outputs": [],
   "source": [
    "%matplotlib inline\n",
    "import pandas as pd\n",
    "import numpy as np\n",
    "import matplotlib.pylab as plt\n",
    "import seaborn as sns"
   ]
  },
  {
   "cell_type": "code",
   "execution_count": 2,
   "metadata": {
    "collapsed": true
   },
   "outputs": [],
   "source": [
    "df_consumer = pd.read_excel('./data/U of M Student Data - Consumer Discretionary .xlsx', \n",
    "                           skiprows=7)"
   ]
  },
  {
   "cell_type": "code",
   "execution_count": 1,
   "metadata": {
    "collapsed": true
   },
   "outputs": [],
   "source": [
    "def rename_cols(df):\n",
    "    df.rename(columns={'Industry Classifications':'industry',\n",
    "                            'Geographic Locations':'loc',\n",
    "                            'Total Enterprise Value [My Setting] [12/31/2016] ($USDmm, Historical rate)':'t_ev',\n",
    "                            'Total Revenue [LTM] ($USDmm, Historical rate)':'t_rev',\n",
    "                            'EBITDA [LTM] ($USDmm, Historical rate)':'ebitda',\n",
    "                            'EBITDA Margin % [LTM]':'ebitda_margin',\n",
    "                            'TEV/LTM Total Revenues [My Setting] [LTM as of 12/31/2016] (x)':'t_ev/ltm',\n",
    "                            'TEV/LTM EBITDA [My Setting] [LTM as of 12/31/2016] (x)':'t_ev/ltm_ebitda',\n",
    "                            'Est. Annual Revenue Growth - 1 Yr % - Capital IQ [Latest] (%)':'est_annual_rev_growth',\n",
    "                            'Est. Annual EBITDA Growth - 1 Yr % - Capital IQ [Latest] (%)':'est_annual_ebitda_growth',\n",
    "                            'Total Revenues, 1 Yr Growth % [LTM] (%)':'t_rev_1yr_growth',\n",
    "                            'EBITDA, 1 Yr Growth % [LTM] (%)':'ebitda_1yr_gr',\n",
    "                            'Total Revenues, 3 Yr CAGR % [LTM] (%)':'t_rev_3_yr_cagr',\n",
    "                            'EBITDA, 3 Yr CAGR % [LTM] (%)':'ebitda_3yr_cagr',\n",
    "                            'Total Revenues, 5 Yr CAGR % [LTM] (%)':'t_rev_5yr_cagr',\n",
    "                            'EBITDA, 5 Yr CAGR % [LTM] (%)':'ebitda_5yr_cagr',\n",
    "                            'Return on Assets % [LTM]':'return_on_assets',\n",
    "                            'Return on Equity % [LTM]':'return_on_equity',\n",
    "                            'Capex as % of Revenues [Latest Annual] (%)':'capex/rev',\n",
    "                            'EBITDA / Interest Exp. [LTM]':'ebitda/interest_exp',\n",
    "                            'Total Debt/Capital % [Latest Annual]':'t_debt/cap',\n",
    "                            'Total Debt/Equity % [Latest Annual]':'t_debt/equity'   \n",
    "                           },inplace=True)\n",
    "    return df    \n",
    "        "
   ]
  },
  {
   "cell_type": "code",
   "execution_count": null,
   "metadata": {
    "collapsed": true
   },
   "outputs": [],
   "source": []
  }
 ],
 "metadata": {
  "anaconda-cloud": {},
  "kernelspec": {
   "display_name": "Python [Root]",
   "language": "python",
   "name": "Python [Root]"
  },
  "language_info": {
   "codemirror_mode": {
    "name": "ipython",
    "version": 2
   },
   "file_extension": ".py",
   "mimetype": "text/x-python",
   "name": "python",
   "nbconvert_exporter": "python",
   "pygments_lexer": "ipython2",
   "version": "2.7.12"
  }
 },
 "nbformat": 4,
 "nbformat_minor": 0
}
